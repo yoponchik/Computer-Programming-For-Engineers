{
 "cells": [
  {
   "cell_type": "code",
   "execution_count": 4,
   "metadata": {},
   "outputs": [],
   "source": [
    "import numpy as np"
   ]
  },
  {
   "cell_type": "code",
   "execution_count": 3,
   "metadata": {},
   "outputs": [
    {
     "name": "stdout",
     "output_type": "stream",
     "text": [
      "{'2018': 29.9, '2019': 44.8, '2020': 25.4}\n",
      "{'2018': 33.3, '2019': 10.0, '2020': 23.3, '2021': 20.0, '2022': 13.3}\n"
     ]
    }
   ],
   "source": [
    "#Ex 1\n",
    "#Write the function book(dict_1) which receives the dictionary variable dict_1 containing the number of books borrowed from the library as values, against students’ admission years as keys. The function returns the dictionary dict_2 which consists of students’ admission years as keys and the percentage of books they borrowed.\n",
    "\n",
    "\n",
    "dict_1 = {'2018':20, '2019': 30, '2020': 17}\n",
    "dict_2 = {'2018':100, '2019': 30, '2020': 70, '2021':60, '2022': 40}\n",
    "\n",
    "def sumOfValues(dict_1):\n",
    "    total = 0\n",
    "    for key, value in dict_1.items():\n",
    "        total += value\n",
    "    #print(total)                           #for debugging\n",
    "    return total\n",
    "\n",
    "def book(dict_1):\n",
    "    dict_2 = {}\n",
    "    \n",
    "    for key, value in dict_1.items():\n",
    "        dict_2[key] = round(value/sumOfValues(dict_1) * 100, 1)     #value/total * 100 with 1 decimal point\n",
    "    return dict_2\n",
    "\n",
    "print(book(dict_1))\n",
    "print(book(dict_2))"
   ]
  },
  {
   "cell_type": "code",
   "execution_count": 8,
   "metadata": {},
   "outputs": [
    {
     "name": "stdout",
     "output_type": "stream",
     "text": [
      "8.0\n",
      "16.5\n"
     ]
    }
   ],
   "source": [
    "#Ex 2\n",
    "#Program a function area(M) which receives the coordinates of several points in each row and calculate the area enclosed between them using the shoelace formula. Assume that the points are ordered in a clockwise manner.\n",
    "\n",
    "M1 = np.array([[0,0], [5,0],[3,2], [0,2]])\n",
    "M2 = np.array([[1,6], [3,1], [7,2], [4,4], [8,5]])\n",
    "\n",
    "def area(M):\n",
    "    #Need for loop because going through rows\n",
    "    area = 0\n",
    "    rows = M.shape[0]                               #shape[0] shows rows, shape[1] shows columns\n",
    "    for i in range(0, rows - 1):                    #-1 because stop at the row before the last row\n",
    "        area += 0.5 * (M[i,0] * M[i + 1, 1] - M[i + 1,0] * M[i,1])  \n",
    "        #[i,0] row, first column; [i+1, 1] next row, second column; [i + 1,0] next row, first column; [i,1] row, second column \n",
    "    area += 0.5 * (M[-1,0] * M[0,1] - M[-1,1] * M[0,0]) #last row\n",
    "        #[-1, 0] last row, first column; [0,1 ] first row, second column; [-1,1] last row, second column; [0,0] first row, first column\n",
    "    return area\n",
    "\n",
    "print(area(M1))\n",
    "print(area(M2))"
   ]
  },
  {
   "cell_type": "code",
   "execution_count": 4,
   "metadata": {},
   "outputs": [
    {
     "name": "stdout",
     "output_type": "stream",
     "text": [
      "854\n",
      "olleh\n",
      "False\n"
     ]
    }
   ],
   "source": [
    "#Ex 3\n",
    "#Write a function reverse(str_1) which receives a number or a string and returns its reverse.\n",
    "\n",
    "str1 = 'hello'\n",
    "\n",
    "\n",
    "def reverse(input):\n",
    "    string = \"\"                 #empty str string to put in converted string\n",
    "    reverse = \"\"                #empty str reverse to put in reversed string\n",
    "    if type(input) != str:      #if input is not str, convert to str        \n",
    "        string = str(input)     #put in converted str into str string\n",
    "    else:                       #if already str\n",
    "        string = input          #put input in string\n",
    "    for i in range(len(string) - 1, -1, -1):    #for i in range(last index; need 0 but since ranges does +1 automatically, we just put -1; decrement of 1)\n",
    "                                                #we put these numbers in string[], therefore we need numbers starting from the last index number to 0\n",
    "        reverse += string[i]\n",
    "    #print(len(string))\n",
    "    return reverse\n",
    "\n",
    "print(reverse(458))\n",
    "print(reverse(str1))\n",
    "\n",
    "##Ex 4\n",
    "#Use the aforementioned function and program a function check(str_1) which receives a number or a string and returns True if  it is read the same in reverse, otherwise returns False.\n",
    "\n",
    "def check(input):\n",
    "    string = \"\"\n",
    "    \n",
    "    if type(input) != str:              #if not str type\n",
    "        string = str(input)\n",
    "    else:                               #if str type\n",
    "        string = input  \n",
    "    string = string.lower()             # make everything lower case\n",
    "    if(string == reverse(input)):       #if palindrome\n",
    "        return True\n",
    "    else:                               #if not palindrome\n",
    "        return False\n",
    "\n",
    "print(check(\"Madam\"))"
   ]
  },
  {
   "cell_type": "code",
   "execution_count": 48,
   "metadata": {},
   "outputs": [
    {
     "name": "stdout",
     "output_type": "stream",
     "text": [
      "1.2457309396155174\n"
     ]
    }
   ],
   "source": [
    "#Ex 5\n",
    "#Write a function nth_root(n,a) which returns the nth root of a.\n",
    "#Use the Newton Raphson method to calculate the nth root by finding the solution of 𝑥^𝑛−𝑎=0\n",
    "#Define the error as relative approximate value and use a tolerance to ensure at least 10 significant digits.\n",
    "\n",
    "def nth_root(n,a):\n",
    "    tol = 0.5 * 10 ** (2-10)/100            #ensures 10 significatn digits?\n",
    "    e = 1                           #why 1?\n",
    "    root = a                    #intial guess\n",
    "\n",
    "    while e > tol:               #tol is given; 'at least 10 significant digits\n",
    "        tmp = -(root ** n-a)/(n*root**(n-1))            #new - previous\n",
    "        root += tmp                                     #??\n",
    "        e = abs(tmp/root)                               #now (new - prev)/new\n",
    "        #print(e)                                       #for debugging\n",
    "        #print(root)\n",
    "    return root\n",
    "\n",
    "print(nth_root(5,3))"
   ]
  },
  {
   "cell_type": "code",
   "execution_count": 2,
   "metadata": {},
   "outputs": [
    {
     "name": "stdout",
     "output_type": "stream",
     "text": [
      "False\n",
      "True\n"
     ]
    }
   ],
   "source": [
    "#Ex 6\n",
    "#Write a function word_check(str_1,str_2) which returns True if the characters constituting str_1 and str_2 are the same, otherwise returns False. Capital and small letters are not the same characters.\n",
    "\n",
    "###Set doesnt have duplicates\n",
    "### since Capital letters != lowercase letters\n",
    "\n",
    "def word_check(str_1, str_2):\n",
    "    if(set(str_1) == set(str_2)):\n",
    "        return True\n",
    "    else:\n",
    "        return False\n",
    "\n",
    "print(word_check(\"ABC\", \"abc\"))\n",
    "\n",
    "##if capital == small letters \n",
    "def word_check_2(str_1, str_2):\n",
    "    str_1 = str_1.lower()           ##if capital\n",
    "    str_2 = str_2.lower()\n",
    "    if(set(str_1) == set(str_2)):\n",
    "    #if(set(str_1.lower()) == set(str_2.lower())):      #what the prof did\n",
    "        return True\n",
    "    else:\n",
    "        return False\n",
    "\n",
    "print(word_check_2(\"ABC\", \"abc\"))"
   ]
  },
  {
   "cell_type": "code",
   "execution_count": null,
   "metadata": {},
   "outputs": [],
   "source": []
  }
 ],
 "metadata": {
  "kernelspec": {
   "display_name": "Python 3.10.7 64-bit",
   "language": "python",
   "name": "python3"
  },
  "language_info": {
   "codemirror_mode": {
    "name": "ipython",
    "version": 3
   },
   "file_extension": ".py",
   "mimetype": "text/x-python",
   "name": "python",
   "nbconvert_exporter": "python",
   "pygments_lexer": "ipython3",
   "version": "3.10.7"
  },
  "orig_nbformat": 4,
  "vscode": {
   "interpreter": {
    "hash": "aee8b7b246df8f9039afb4144a1f6fd8d2ca17a180786b69acc140d282b71a49"
   }
  }
 },
 "nbformat": 4,
 "nbformat_minor": 2
}
