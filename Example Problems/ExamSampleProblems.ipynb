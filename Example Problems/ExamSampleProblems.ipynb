{
 "cells": [
  {
   "cell_type": "code",
   "execution_count": 4,
   "metadata": {},
   "outputs": [],
   "source": [
    "import numpy as np"
   ]
  },
  {
   "cell_type": "code",
   "execution_count": 5,
   "metadata": {},
   "outputs": [
    {
     "name": "stdout",
     "output_type": "stream",
     "text": [
      "{'2018': 29.9, '2019': 44.8, '2020': 25.4}\n",
      "{'2018': 33.3, '2019': 10.0, '2020': 23.3, '2021': 20.0, '2022': 13.3}\n"
     ]
    }
   ],
   "source": [
    "#Ex #1\n",
    "\n",
    "dict_1 = {'2018':20, '2019': 30, '2020': 17}\n",
    "dict_2 = {'2018':100, '2019': 30, '2020': 70, '2021':60, '2022': 40}\n",
    "\n",
    "def sumOfValues(dict_1):\n",
    "    total = 0\n",
    "    for key, value in dict_1.items():\n",
    "        total += value\n",
    "    #print(total)                           #for debugging\n",
    "    return total\n",
    "\n",
    "def book(dict_1):\n",
    "    dict_2 = {}\n",
    "    \n",
    "    for key, value in dict_1.items():\n",
    "        dict_2[key] = round(value/sumOfValues(dict_1) * 100, 1)     #value/total * 100 with 1 decimal point\n",
    "    return dict_2\n",
    "\n",
    "print(book(dict_1))\n",
    "print(book(dict_2))"
   ]
  },
  {
   "cell_type": "code",
   "execution_count": 8,
   "metadata": {},
   "outputs": [
    {
     "name": "stdout",
     "output_type": "stream",
     "text": [
      "8.0\n",
      "16.5\n"
     ]
    }
   ],
   "source": [
    "#Ex 2\n",
    "\n",
    "M1 = np.array([[0,0], [5,0],[3,2], [0,2]])\n",
    "M2 = np.array([[1,6], [3,1], [7,2], [4,4], [8,5]])\n",
    "\n",
    "def area(M):\n",
    "    #Need for loop because going through rows\n",
    "    area = 0\n",
    "    rows = M.shape[0]                               #shape[0] shows rows, shape[1] shows columns\n",
    "    for i in range(0, rows - 1):                    #-1 because stop at the row before the last row\n",
    "        area += 0.5 * (M[i,0] * M[i + 1, 1] - M[i + 1,0] * M[i,1])  \n",
    "        #[i,0] row, first column; [i+1, 1] next row, second column; [i + 1,0] next row, first column; [i,1] row, second column \n",
    "    area += 0.5 * (M[-1,0] * M[0,1] - M[-1,1] * M[0,0]) #last row\n",
    "        #[-1, 0] last row, first column; [0,1 ] first row, second column; [-1,1] last row, second column; [0,0] first row, first column\n",
    "    return area\n",
    "\n",
    "print(area(M1))\n",
    "print(area(M2))"
   ]
  },
  {
   "cell_type": "code",
   "execution_count": 60,
   "metadata": {},
   "outputs": [
    {
     "name": "stdout",
     "output_type": "stream",
     "text": [
      "854\n",
      "False\n"
     ]
    }
   ],
   "source": [
    "#Ex 3\n",
    "str1 = 'hello'\n",
    "\n",
    "\n",
    "def reverse(input):\n",
    "    string = \"\"                 #empty str string to put in converted \n",
    "    reverse = \"\"\n",
    "    if type(input) != str:\n",
    "        string = str(input)\n",
    "    string = input\n",
    "    for i in range(len(string) - 1, -1, -1):\n",
    "        reverse += string[i]\n",
    "    return reverse\n",
    "\n",
    "print(reverse(458))\n",
    "\n",
    "##Ex 4\n",
    "def check(input):\n",
    "    string = \"\"\n",
    "    \n",
    "    if type(input) != str:\n",
    "        string = str(input)\n",
    "    else: \n",
    "        string = input  \n",
    "    string = string.lower()\n",
    "    if(string == reverse(input)):\n",
    "        return True\n",
    "    else:   \n",
    "        return False\n",
    "\n",
    "print(check(\"Madam\"))"
   ]
  },
  {
   "cell_type": "code",
   "execution_count": 48,
   "metadata": {},
   "outputs": [
    {
     "name": "stdout",
     "output_type": "stream",
     "text": [
      "1.2457309396155174\n"
     ]
    }
   ],
   "source": [
    "#Ex 5\n",
    "def nth_root(n,a):\n",
    "    tol = 0.5 * 10 ** (2-10)/100            #ensures 10 significatn digits?\n",
    "    e = 1                           #why 1?\n",
    "    root = a                    #intial guess\n",
    "\n",
    "    while e > tol:               #tol is given; 'at least 10 significant digits\n",
    "        tmp = -(root ** n-a)/(n*root**(n-1))\n",
    "        root += tmp                 \n",
    "        e = abs(tmp/root)\n",
    "        #print(e)               #for debugging\n",
    "        #print(root)\n",
    "    return root\n",
    "\n",
    "print(nth_root(5,3))"
   ]
  },
  {
   "cell_type": "code",
   "execution_count": 52,
   "metadata": {},
   "outputs": [
    {
     "name": "stdout",
     "output_type": "stream",
     "text": [
      "True\n"
     ]
    }
   ],
   "source": [
    "#Ex 6\n",
    "###Set doesnt have duplicates\n",
    "### since Capital letters != lowercase letters\n",
    "\n",
    "def word_check(str_1, str_2):\n",
    "    if(set(str_1) == set(str_2)):\n",
    "        return True\n",
    "    else:\n",
    "        return False\n",
    "\n",
    "\n",
    "##if capital == small letters \n",
    "def word_check_2(str_1, str_2):\n",
    "    str_1 = str_1.lower()           ##if capital\n",
    "    str_2 = str_2.lower()\n",
    "    if(set(str_1) == set(str_2)):\n",
    "    #if(set(str_1.lower()) == set(str_2.lower())):      #what the prof did\n",
    "        return True\n",
    "    else:\n",
    "        return False\n",
    "\n",
    "\n",
    "\n",
    "\n",
    "\n",
    "print(word_check_2(\"ABC\", \"abc\"))"
   ]
  }
 ],
 "metadata": {
  "kernelspec": {
   "display_name": "Python 3.10.7 64-bit",
   "language": "python",
   "name": "python3"
  },
  "language_info": {
   "codemirror_mode": {
    "name": "ipython",
    "version": 3
   },
   "file_extension": ".py",
   "mimetype": "text/x-python",
   "name": "python",
   "nbconvert_exporter": "python",
   "pygments_lexer": "ipython3",
   "version": "3.10.7"
  },
  "orig_nbformat": 4,
  "vscode": {
   "interpreter": {
    "hash": "aee8b7b246df8f9039afb4144a1f6fd8d2ca17a180786b69acc140d282b71a49"
   }
  }
 },
 "nbformat": 4,
 "nbformat_minor": 2
}
