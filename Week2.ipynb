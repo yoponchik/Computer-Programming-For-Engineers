{
 "cells": [
  {
   "cell_type": "code",
   "execution_count": 1,
   "metadata": {},
   "outputs": [],
   "source": [
    "import numpy as np"
   ]
  },
  {
   "cell_type": "code",
   "execution_count": 26,
   "metadata": {},
   "outputs": [
    {
     "name": "stdout",
     "output_type": "stream",
     "text": [
      "[1 4 3]\n",
      "[[1 4 3]\n",
      " [9 2 7]]\n",
      "(2, 3)\n",
      "6\n",
      "[   1    2    3 ... 1997 1998 1999]\n",
      "[0.5 1.  1.5 2.  2.5]\n",
      "[1 2 3 4]\n",
      "[3.         3.66666667 4.33333333 5.         5.66666667 6.33333333\n",
      " 7.         7.66666667 8.33333333 9.        ]\n"
     ]
    }
   ],
   "source": [
    "#Data Type - Numpy\n",
    "\n",
    "numpy_1 = np.array([1,4,3])\n",
    "numpy_2 = np.array([[1,4,3],[9,2,7]])\n",
    "print(numpy_1)\n",
    "print(numpy_2)\n",
    "\n",
    "print(numpy_2.shape)                      #dimension\n",
    "print(numpy_2.size)                       #number array\n",
    "\n",
    "numpy_3 = np.arange(1,2000, 1)            #1 to 1999 with increment of 1\n",
    "print(numpy_3)\n",
    "\n",
    "numpy_4 = np.arange(0.5,3,0.5)            #0.5 to 2.5 with increment of 0.5\n",
    "print(numpy_4)\n",
    "\n",
    "numpy_5 = np.arange(1,5,)                 #1 to 5 with increment of 1\n",
    "print(numpy_5)\n",
    "\n",
    "numpy_6 = np.linspace(3,9,10)             #3 to 9, divide into 10 numbers\n",
    "print(numpy_6)"
   ]
  },
  {
   "cell_type": "code",
   "execution_count": 27,
   "metadata": {},
   "outputs": [
    {
     "name": "stdout",
     "output_type": "stream",
     "text": [
      "4\n",
      "[4 3]\n",
      "3\n",
      "4\n",
      "[3 7]\n",
      "[[1 3]\n",
      " [9 7]]\n",
      "[[0. 0. 0. 0. 0.]\n",
      " [0. 0. 0. 0. 0.]\n",
      " [0. 0. 0. 0. 0.]]\n",
      "[[1. 1. 1.]\n",
      " [1. 1. 1.]\n",
      " [1. 1. 1.]\n",
      " [1. 1. 1.]\n",
      " [1. 1. 1.]]\n"
     ]
    }
   ],
   "source": [
    "##Numpy Array Usage\n",
    "\n",
    "\n",
    "print(numpy_1[1])                         #second element\n",
    "\n",
    "print(numpy_1[1:])                        #second element to end\n",
    "\n",
    "print(numpy_1[-1])                        #last element                   \n",
    "\n",
    "print(numpy_2[0,1])                       #first array, second element\n",
    "\n",
    "print(numpy_2[:,-1])                      #last column; all arrays, last element\n",
    "\n",
    "print(numpy_2[:,[0,2]])                   #all arrays; first and third element\n",
    "\n",
    "print(np.zeros((3,5)))                    #3x5 zero matrix\n",
    "\n",
    "print(np.ones((5,3)))                     #5x3 ones matrix"
   ]
  },
  {
   "cell_type": "code",
   "execution_count": 36,
   "metadata": {},
   "outputs": [
    {
     "name": "stdout",
     "output_type": "stream",
     "text": [
      "[[1 2]\n",
      " [3 4]]\n",
      "[[3 4]\n",
      " [5 6]]\n",
      "[[3 4]\n",
      " [5 6]]\n",
      "[[ 1  4]\n",
      " [ 9 16]]\n",
      "[[ 4  6]\n",
      " [ 8 10]]\n",
      "[[ 3  8]\n",
      " [15 24]]\n",
      "[[   1   16]\n",
      " [ 243 4096]]\n",
      "[[1 3]\n",
      " [2 4]]\n",
      "[1. 2. 3. 4.]\n"
     ]
    }
   ],
   "source": [
    "##Numpy Array Operations\n",
    "\n",
    "numpy_7 = np.array([[1,2],[3,4]])\n",
    "numpy_8 = np.array([[3,4],[5,6]])\n",
    "print(numpy_7)\n",
    "print(numpy_8)\n",
    "\n",
    "print(numpy_7 + 2)\n",
    "\n",
    "print(numpy_7 ** 2)\n",
    "\n",
    "print(numpy_7 + numpy_8)\n",
    "\n",
    "print(numpy_7 * numpy_8)\n",
    "\n",
    "print(numpy_7 ** numpy_8)\n",
    "\n",
    "print(numpy_7.T)\n",
    "\n",
    "numpy_9 = np.array([1,4,9,16])\n",
    "print(np.sqrt(numpy_9))\n",
    "\n"
   ]
  },
  {
   "cell_type": "code",
   "execution_count": 41,
   "metadata": {},
   "outputs": [
    {
     "name": "stdout",
     "output_type": "stream",
     "text": [
      "4\n",
      "student\n",
      "student\n"
     ]
    }
   ],
   "source": [
    " #If-Else Statements\n",
    "\n",
    "\n",
    "###Example #1\n",
    "x = 3\n",
    "\n",
    "if x > 1 and x < 2:\n",
    "    y = 2\n",
    "elif x > 2 and x < 4:\n",
    "    y = 4\n",
    "else:\n",
    "    y = 0\n",
    "\n",
    "print(y)\n",
    "\n",
    "###Example #2\n",
    "is_Student = True\n",
    "\n",
    "if is_Student:\n",
    "    person = 'student'\n",
    "else:\n",
    "    person = 'not student'\n",
    "\n",
    "print(person)\n",
    "\n",
    "###Example #3 with Ternary operator\n",
    "person = 'student' if is_Student else 'not student'\n",
    "print(person)"
   ]
  },
  {
   "cell_type": "code",
   "execution_count": 48,
   "metadata": {},
   "outputs": [
    {
     "name": "stdout",
     "output_type": "stream",
     "text": [
      "6\n",
      "b\n",
      "a\n",
      "n\n",
      "a\n",
      "n\n",
      "a\n",
      "b\n",
      "a\n",
      "n\n",
      "a\n",
      "n\n",
      "a\n",
      "One 1\n",
      "Two 2\n",
      "Three 3\n",
      "One 1\n",
      "Two 2\n",
      "Three 3\n"
     ]
    }
   ],
   "source": [
    "#For Loops\n",
    "\n",
    "###Example #1\n",
    "n = 0\n",
    "\n",
    "for i in range(1,4):\n",
    "    n = n + i\n",
    "\n",
    "print(n)\n",
    "\n",
    "###Example #2\n",
    "\n",
    "for c in \"banana\":\n",
    "    print(c)\n",
    "\n",
    "\n",
    "###Example #3\n",
    "\n",
    "s = 'banana'\n",
    "for i in range(len(s)):\n",
    "    print(s[i])\n",
    "\n",
    "###Example #4\n",
    "dict_a = {\"One\": 1, \"Two\": 2, \"Three\": 3}\n",
    "\n",
    "for key in dict_a.keys():                   #Looping through dictionary with keys\n",
    "    print(key, dict_a[key])\n",
    "\n",
    "###Example #5\n",
    "for key, value in dict_a.items():           #Looping through dictionary with values\n",
    "    print(key, value)\n",
    "\n",
    "###Example #6\n",
    "a = [\"One\", \"Two\", \"Three\"]\n",
    "b = [1,2,3]\n",
    "\n",
    "for i, j in zip(a,b):"
   ]
  },
  {
   "cell_type": "code",
   "execution_count": null,
   "metadata": {},
   "outputs": [],
   "source": []
  }
 ],
 "metadata": {
  "kernelspec": {
   "display_name": "Python 3.10.7 64-bit",
   "language": "python",
   "name": "python3"
  },
  "language_info": {
   "codemirror_mode": {
    "name": "ipython",
    "version": 3
   },
   "file_extension": ".py",
   "mimetype": "text/x-python",
   "name": "python",
   "nbconvert_exporter": "python",
   "pygments_lexer": "ipython3",
   "version": "3.10.7"
  },
  "orig_nbformat": 4,
  "vscode": {
   "interpreter": {
    "hash": "aee8b7b246df8f9039afb4144a1f6fd8d2ca17a180786b69acc140d282b71a49"
   }
  }
 },
 "nbformat": 4,
 "nbformat_minor": 2
}
