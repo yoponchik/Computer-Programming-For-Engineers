{
 "cells": [
  {
   "cell_type": "code",
   "execution_count": 61,
   "metadata": {},
   "outputs": [
    {
     "name": "stdout",
     "output_type": "stream",
     "text": [
      "<class 'str'>\n",
      "11\n",
      "World\n",
      "Hello\n",
      "World\n",
      "Wor\n",
      "HloWrd\n",
      "l r\n",
      "don't\n",
      "I love Python!You, too!\n",
      "x=7\n",
      "Sungkyunkwan University is a great school in Korea!\n"
     ]
    }
   ],
   "source": [
    "#Data Types - Strings\n",
    "\n",
    "##String Splicing\n",
    "s = \"S\"\n",
    "w = 'Hello World'\n",
    "print(type(s))             #check the data type\n",
    "print(len(w))              #check the length\n",
    "\n",
    "print(w[6:11])             #slice string from the 6th index to the 10th\n",
    "                           #note that slicing takes from the index to the index after the wanted one\n",
    "print(w[:5])               #slice str from start to 4th index \n",
    "\n",
    "print(w[6:])               #slice str from the 6th index to the end\n",
    "\n",
    "print(w[6:-2])             #slice str from 6th index to the 2nd last\n",
    "\n",
    "print(w[::2])              #slice every other index starting from the 0th\n",
    "                           #note that its doing 2 indices, not just one\n",
    "print(w[2::3])             #\n",
    "\n",
    "##Apostrophe Syntax\n",
    "print('don\\'t')                     #need backslash for apostrophe\n",
    "\n",
    "\n",
    "##String Concatenation\n",
    "str_1 = 'I love Python!'\n",
    "str_2 = 'You, too!'\n",
    "\n",
    "print(str_1 + str_2)\n",
    "\n",
    "##Convert Number to String\n",
    "print('x=' + str(2+5))\n",
    "\n",
    "##Access Function of String Objects\n",
    "w.upper()                           #capitalize everything\n",
    "\n",
    "w.replace(\"World\", \"SKKU\")          #replace word\n",
    "\n",
    "##String Insertion\n",
    "name = \"Sungkyunkwan University\"\n",
    "country = 'Korea'\n",
    "\n",
    "print(\"%s is a great school in %s!\"%(name, country))\n"
   ]
  },
  {
   "cell_type": "code",
   "execution_count": 57,
   "metadata": {},
   "outputs": [
    {
     "name": "stdout",
     "output_type": "stream",
     "text": [
      "<class 'list'>\n",
      "[1, 2, 3]\n",
      "['Hello', 'World']\n",
      "[1, 2, 3, 'Apple', 'orange']\n",
      "[[1, 2, 3], ['Hello', 'World']]\n",
      "3\n",
      "orange\n",
      "[1, 2, 3]\n",
      "2\n",
      "5\n",
      "2\n",
      "[1, 2, 3, 4]\n",
      "[1, 2, 'center', 3, 4]\n",
      "[1, 2, 3, 4]\n",
      "[5]\n",
      "[5, 6]\n",
      "['H', 'e', 'l', 'l', 'o', ' ', 'W', 'o', 'r', 'l', 'd']\n"
     ]
    }
   ],
   "source": [
    "#Data Types - Lists\n",
    "###Lists usually contain homogeneous elements\n",
    "\n",
    "##List Defintion and Assignment\n",
    "list_1 = [1,2,3]                        #Define with square brackets []\n",
    "print(type(list_1))\n",
    "print(list_1)\n",
    "list_2 = ['Hello', 'World']             \n",
    "print(list_2)\n",
    "\n",
    "list_3 = [1,2,3,'Apple','orange']       #Lists can contain different variable types\n",
    "print(list_3)\n",
    "\n",
    "list_4 = [list_1, list_2]               #Lists can be nested\n",
    "print(list_4)\n",
    "\n",
    "\n",
    "\n",
    "##List Indexing\n",
    "print(list_3[2])                        #3rd index of list 3\n",
    "\n",
    "print(list_3[-1])                       #last index of list 3\n",
    "\n",
    "print(list_4[0])                        #First index\n",
    "print(list_4[0][1])                     #First index of outer list, 2nd index of inner list\n",
    "\n",
    "print(len(list_3))                      #Length of list 3\n",
    "print(len(list_4))                      #Length of list 4\n",
    "\n",
    "\n",
    "##List Operations\n",
    "list_1.append(4)                        #Append (add in the end) to list\n",
    "print(list_1)\n",
    "\n",
    "list_1.insert(2,'center')               #Insert element to list\n",
    "print(list_1)\n",
    "\n",
    "del list_1[2]                           #Delete 3rd element\n",
    "print(list_1)\n",
    "\n",
    "list_5 = []                             #Define empty list    \n",
    "list_5.append(5)                        #Append item\n",
    "print(list_5)\n",
    "\n",
    "list_5.append(6)                        #Append item\n",
    "print(list_5)\n",
    "\n",
    "5 in list_5                             #Check an element in a list\n",
    "\n",
    "print(list(\"Hello World\"))                     #Turn string into list of characters\n"
   ]
  },
  {
   "cell_type": "code",
   "execution_count": 58,
   "metadata": {},
   "outputs": [
    {
     "name": "stdout",
     "output_type": "stream",
     "text": [
      "<class 'tuple'>\n",
      "(1, 2, 3, 2)\n",
      "4\n",
      "(2, 3, 2)\n",
      "1 2 3 2\n",
      "(2, 4, 5)\n",
      "[('apple', 3), ('banana', 4), ('orange', 1), ('pear', 4)]\n",
      "<class 'list'>\n",
      "<class 'tuple'>\n"
     ]
    }
   ],
   "source": [
    "#Data Types - Tuples\n",
    "###Tuples usually contain heteregenous elements\n",
    "\n",
    "##Define and Assign Tuples\n",
    "tuple_1 = (1,2,3,2)                 \n",
    "print(type(tuple_1))\n",
    "print(tuple_1)\n",
    "\n",
    "##Tuple Operations\n",
    "###Tuples can be handled using similar ways for strings and lists\n",
    "print(len(tuple_1))                 #Checking Length of Tuple\n",
    "\n",
    "print(tuple_1[1:4])                 #Splicing Tuples\n",
    "\n",
    "a,b,c,d = tuple_1                   #Unpacking a tuple\n",
    "print(a,b,c,d)\n",
    "\n",
    "tuple_2 = 2,4,5                     #Packing a tuple\n",
    "print(tuple_2)\n",
    "\n",
    "##Tuple exclusive operations\n",
    "tuple_1.count(2)                    #Return number of occurences in tuples\n",
    "\n",
    "#tuple_1[2] = 1                      #Error, because tuples are immutable\n",
    "\n",
    "##Tuple Uses\n",
    "###Lists are in square brackets, tuples are in parantheses\n",
    "###You can put tuples in lists\n",
    "listOfTuples = [('apple', 3),('banana', 4),('orange', 1),('pear', 4)]\n",
    "\n",
    "print(listOfTuples)\n",
    "\n",
    "print(type(listOfTuples))               #List\n",
    "print(type(listOfTuples[0]))            #Tuples\n"
   ]
  },
  {
   "cell_type": "code",
   "execution_count": 73,
   "metadata": {},
   "outputs": [
    {
     "name": "stdout",
     "output_type": "stream",
     "text": [
      "<class 'set'>\n",
      "{1, 2, 3, 4, 5, 6}\n",
      "{'e', 'o', 'l', 'I', 't', 'y', ' ', 'P', 'h', '!', 'n', 'v'}\n",
      "{1, 2, 3, 'orange', 'Apple'}\n",
      "{2, 4, 5}\n",
      "{1, 2, 3}\n"
     ]
    },
    {
     "data": {
      "text/plain": [
       "True"
      ]
     },
     "execution_count": 73,
     "metadata": {},
     "output_type": "execute_result"
    }
   ],
   "source": [
    "#Data Types - Sets\n",
    "\n",
    "##Set Definition and Assignment\n",
    "###Sets are defined with curly brackets\n",
    "###Puts elements into ordered and unique elements\n",
    "###Supports mathematical operations like union, intersection, difference, and symmetric difference\n",
    "set_1 = {3,3,2,3,1,4,5,6,4,2}\n",
    "print(type(set_1))\n",
    "print(set_1)\n",
    "\n",
    "##Set Usage\n",
    "###Convert Other Data Types to Set\n",
    "set_2 = set(str_1)                  #String to set\n",
    "print(set_2)\n",
    "set_3 = set(list_3)                 #List to set\n",
    "print(set_3)\n",
    "set_4 = set(tuple_2)                #Tuple to set\n",
    "print(set_4)\n",
    "\n",
    "###Intersection \n",
    "print(set_1.intersection(set_3))    #Intersection between two sets\n",
    "\n",
    "###Subset\n",
    "###Is the set part of a bigger set\n",
    "set_4.issubset(set_1)\n"
   ]
  },
  {
   "cell_type": "code",
   "execution_count": 84,
   "metadata": {},
   "outputs": [
    {
     "name": "stdout",
     "output_type": "stream",
     "text": [
      "<class 'dict'>\n",
      "{'apple': 3, 'orange': 4, 'pear': 2}\n",
      "3\n",
      "dict_keys(['apple', 'orange', 'pear'])\n",
      "dict_values([3, 4, 2])\n",
      "3\n",
      "{'Harvard': 'USA'}\n",
      "{'Harvard': 'USA', 'SKKU': 'South Korea'}\n",
      "dict[[('apple', 3), ('banana', 4), ('orange', 1), ('pear', 4)]]\n"
     ]
    },
    {
     "ename": "TypeError",
     "evalue": "argument of type 'types.GenericAlias' is not iterable",
     "output_type": "error",
     "traceback": [
      "\u001b[0;31m---------------------------------------------------------------------------\u001b[0m",
      "\u001b[0;31mTypeError\u001b[0m                                 Traceback (most recent call last)",
      "Cell \u001b[0;32mIn [84], line 30\u001b[0m\n\u001b[1;32m     27\u001b[0m dict_3 \u001b[38;5;241m=\u001b[39m \u001b[38;5;28mdict\u001b[39m[listOfTuples]                     \u001b[38;5;66;03m#Convert LIST of TUPLES to DICTIONARY\u001b[39;00m\n\u001b[1;32m     28\u001b[0m \u001b[38;5;28mprint\u001b[39m(dict_3)\n\u001b[0;32m---> 30\u001b[0m \u001b[38;5;124;43m\"\u001b[39;49m\u001b[38;5;124;43mapple\u001b[39;49m\u001b[38;5;124;43m\"\u001b[39;49m\u001b[43m \u001b[49m\u001b[38;5;129;43;01min\u001b[39;49;00m\u001b[43m \u001b[49m\u001b[43mdict_3\u001b[49m\n",
      "\u001b[0;31mTypeError\u001b[0m: argument of type 'types.GenericAlias' is not iterable"
     ]
    }
   ],
   "source": [
    "#Data Types - Dictionaries\n",
    "\n",
    "##Define and Assign Dictionaries\n",
    "###Defined with curly brackets, with key and value pairs\n",
    "###The key can be a string, number, tuple, but not a list\n",
    "\n",
    "dict_1 = {'apple': 3, 'orange': 4, 'pear': 2}           #key-value pair with colon\n",
    "print(type(dict_1))\n",
    "print(dict_1)\n",
    "\n",
    "##Dictionary Operations\n",
    "print(dict_1['apple'])                          #Accessing values with keys; square brackets\n",
    "\n",
    "print(dict_1.keys())                            #Listing keys in dictionary\n",
    "\n",
    "print(dict_1.values())                          #Listing values in dictionary\n",
    "\n",
    "print(len(dict_1))                              #Dictionary Length\n",
    "\n",
    "dict_2 = {}                                     #Empty dictionary\n",
    "\n",
    "dict_2['Harvard'] = 'USA'                       #Adding key and value to dictionary\n",
    "print(dict_2)\n",
    "dict_2['SKKU'] = 'South Korea'                  \n",
    "print(dict_2)\n",
    "\n",
    "dict_3 = dict[listOfTuples]                     #Convert LIST of TUPLES to DICTIONARY\n",
    "print(dict_3)\n",
    "\n",
    "\"apple\" in dict_3"
   ]
  }
 ],
 "metadata": {
  "kernelspec": {
   "display_name": "Python 3.10.7 64-bit",
   "language": "python",
   "name": "python3"
  },
  "language_info": {
   "codemirror_mode": {
    "name": "ipython",
    "version": 3
   },
   "file_extension": ".py",
   "mimetype": "text/x-python",
   "name": "python",
   "nbconvert_exporter": "python",
   "pygments_lexer": "ipython3",
   "version": "3.10.7"
  },
  "orig_nbformat": 4,
  "vscode": {
   "interpreter": {
    "hash": "aee8b7b246df8f9039afb4144a1f6fd8d2ca17a180786b69acc140d282b71a49"
   }
  }
 },
 "nbformat": 4,
 "nbformat_minor": 2
}
