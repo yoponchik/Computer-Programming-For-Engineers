{
 "cells": [
  {
   "cell_type": "code",
   "execution_count": 22,
   "metadata": {},
   "outputs": [
    {
     "name": "stdout",
     "output_type": "stream",
     "text": [
      "<class 'str'>\n",
      "11\n",
      "World\n",
      "Hello\n",
      "World\n",
      "Wor\n",
      "HloWrd\n",
      "eood\n"
     ]
    }
   ],
   "source": [
    "#Data Types\n",
    "##Strings\n",
    "\n",
    "s = \"S\"\n",
    "w = 'Hello World'\n",
    "print(type(s))             #check the data type\n",
    "print(len(w))              #check the length\n",
    "\n",
    "print(w[6:11])             #slice string from the 6th index to the 10th\n",
    "                           #note that slicing takes from the index to the index after the wanted one\n",
    "print(w[:5])               #slice str from start to 4th index \n",
    "\n",
    "print(w[6:])               #slice str from the 6th index to the end\n",
    "\n",
    "print(w[6:-2])             #slice str from 6th index to the 2nd last\n",
    "\n",
    "print(w[::2])              #slice every other index starting from the 0th\n",
    "                           #note that its doing 2 indices, not just one\n",
    "print(w[1::3])             #"
   ]
  },
  {
   "cell_type": "code",
   "execution_count": null,
   "metadata": {},
   "outputs": [],
   "source": []
  },
  {
   "cell_type": "code",
   "execution_count": null,
   "metadata": {},
   "outputs": [],
   "source": []
  }
 ],
 "metadata": {
  "kernelspec": {
   "display_name": "Python 3.10.7 64-bit",
   "language": "python",
   "name": "python3"
  },
  "language_info": {
   "codemirror_mode": {
    "name": "ipython",
    "version": 3
   },
   "file_extension": ".py",
   "mimetype": "text/x-python",
   "name": "python",
   "nbconvert_exporter": "python",
   "pygments_lexer": "ipython3",
   "version": "3.10.7"
  },
  "orig_nbformat": 4,
  "vscode": {
   "interpreter": {
    "hash": "aee8b7b246df8f9039afb4144a1f6fd8d2ca17a180786b69acc140d282b71a49"
   }
  }
 },
 "nbformat": 4,
 "nbformat_minor": 2
}
