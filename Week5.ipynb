{
 "cells": [
  {
   "cell_type": "code",
   "execution_count": 3,
   "metadata": {},
   "outputs": [
    {
     "name": "stdout",
     "output_type": "stream",
     "text": [
      "(1, 5)\n",
      "(4, 1)\n"
     ]
    }
   ],
   "source": [
    "import numpy as np\n",
    "vectorRow = np.array([[1,-5,3,2,4]])                #2 brackets because need to define row or vector\n",
    "vectorColumn = np.array([[1],[2],[3],[4]])\n",
    "print(vectorRow.shape)\n",
    "print(vectorColumn.shape)"
   ]
  },
  {
   "cell_type": "code",
   "execution_count": 7,
   "metadata": {},
   "outputs": [
    {
     "name": "stdout",
     "output_type": "stream",
     "text": [
      "[[ 1]\n",
      " [-5]\n",
      " [ 3]\n",
      " [ 2]\n",
      " [ 4]]\n",
      "L1 is: 15.0\n",
      "L2 is: 7.4\n",
      "L3 is: 5.0\n"
     ]
    }
   ],
   "source": [
    "from numpy.linalg import norm\n",
    "\n",
    "newVector = vectorRow.T                     #transpose, change numbers with columns\n",
    "print(newVector)\n",
    "\n",
    "norm1 = norm(newVector,1)                   #taxicab norm\n",
    "norm2 = norm(newVector, 2)                  #p norm\n",
    "normInf = norm(newVector, np.inf)           #inf = infinity\n",
    "\n",
    "print('L1 is: %.1f'%norm1)\n",
    "print('L2 is: %.1f'%norm2)\n",
    "print('L3 is: %.1f'%normInf)\n"
   ]
  },
  {
   "cell_type": "code",
   "execution_count": 9,
   "metadata": {},
   "outputs": [
    {
     "name": "stdout",
     "output_type": "stream",
     "text": [
      "[[0.97992471]]\n",
      "[[ 0  0 -6]]\n"
     ]
    }
   ],
   "source": [
    "from numpy import arccos, dot\n",
    "\n",
    "#dot product\n",
    "v = np.array([[10,9,3]])\n",
    "w = np.array([[2,5,12]])\n",
    "theta = arccos(dot(v,w.T)/(norm(v) * norm(w)))\n",
    "\n",
    "print(theta)\n",
    "\n",
    "#cross product\n",
    "v = np.array([[0,2,0]])\n",
    "w = np.array([[3,0,0]])\n",
    "\n",
    "print(np.cross(v,w))\n",
    "\n",
    "\n"
   ]
  },
  {
   "cell_type": "code",
   "execution_count": 12,
   "metadata": {},
   "outputs": [
    {
     "name": "stdout",
     "output_type": "stream",
     "text": [
      "[[1 7]\n",
      " [2 3]\n",
      " [5 0]]\n",
      "[[2 6 3 1]\n",
      " [1 2 3 4]]\n",
      "[[ 9 20 24 29]\n",
      " [ 7 18 15 14]\n",
      " [10 30 15  5]]\n"
     ]
    },
    {
     "ename": "ValueError",
     "evalue": "shapes (2,4) and (3,2) not aligned: 4 (dim 1) != 3 (dim 0)",
     "output_type": "error",
     "traceback": [
      "\u001b[0;31m---------------------------------------------------------------------------\u001b[0m",
      "\u001b[0;31mValueError\u001b[0m                                Traceback (most recent call last)",
      "Cell \u001b[0;32mIn [12], line 7\u001b[0m\n\u001b[1;32m      5\u001b[0m \u001b[38;5;28mprint\u001b[39m(q)\n\u001b[1;32m      6\u001b[0m \u001b[38;5;28mprint\u001b[39m(np\u001b[38;5;241m.\u001b[39mdot(p,q))\n\u001b[0;32m----> 7\u001b[0m \u001b[43mnp\u001b[49m\u001b[38;5;241;43m.\u001b[39;49m\u001b[43mdot\u001b[49m\u001b[43m(\u001b[49m\u001b[43mq\u001b[49m\u001b[43m,\u001b[49m\u001b[43mp\u001b[49m\u001b[43m)\u001b[49m\n",
      "File \u001b[0;32m<__array_function__ internals>:180\u001b[0m, in \u001b[0;36mdot\u001b[0;34m(*args, **kwargs)\u001b[0m\n",
      "\u001b[0;31mValueError\u001b[0m: shapes (2,4) and (3,2) not aligned: 4 (dim 1) != 3 (dim 0)"
     ]
    }
   ],
   "source": [
    "#matrices\n",
    "p = np.array([[1,7], [2,3], [5,0]])\n",
    "q = np.array([[2,6,3,1], [1,2,3,4]])\n",
    "print(p)\n",
    "print(q)\n",
    "print(np.dot(p,q))\n",
    "np.dot(q,p)                             #of course error, because the size of the matrices dont match"
   ]
  },
  {
   "cell_type": "code",
   "execution_count": 14,
   "metadata": {},
   "outputs": [
    {
     "name": "stdout",
     "output_type": "stream",
     "text": [
      "M:\n",
      " [[0 2 1 3]\n",
      " [3 2 8 1]\n",
      " [1 0 0 3]\n",
      " [0 3 2 1]]\n",
      "Determinant: -38.0\n",
      "I:\n",
      " [[1. 0. 0. 0.]\n",
      " [0. 1. 0. 0.]\n",
      " [0. 0. 1. 0.]\n",
      " [0. 0. 0. 1.]]\n",
      "M * I:\n",
      " [[0. 2. 1. 3.]\n",
      " [3. 2. 8. 1.]\n",
      " [1. 0. 0. 3.]\n",
      " [0. 3. 2. 1.]]\n"
     ]
    }
   ],
   "source": [
    "#determinants\n",
    "#Laplace Expansion                  O(n!); therefore, inefficient               -> if 5x5 matrix, then O(5!)\n",
    "from numpy.linalg import det\n",
    "\n",
    "m = np.array([[0,2,1,3], [3,2,8,1], [1,0,0,3],[0,3,2,1]])\n",
    "print('M:\\n', m)\n",
    "\n",
    "print('Determinant: %.1f'%det(m))\n",
    "\n",
    "i = np.eye(4)                       #identity matrix\n",
    "print('I:\\n', i)\n",
    "\n",
    "print('M * I:\\n', np.dot(m,i))"
   ]
  },
  {
   "cell_type": "code",
   "execution_count": 15,
   "metadata": {},
   "outputs": [
    {
     "name": "stdout",
     "output_type": "stream",
     "text": [
      "Inverse Matrix:\n",
      " [[-1.57894737 -0.07894737  1.23684211  1.10526316]\n",
      " [-0.63157895 -0.13157895  0.39473684  0.84210526]\n",
      " [ 0.68421053  0.18421053 -0.55263158 -0.57894737]\n",
      " [ 0.52631579  0.02631579 -0.07894737 -0.36842105]]\n",
      "Det(P):\n",
      " 0.0\n"
     ]
    }
   ],
   "source": [
    "#inverse of matrics\n",
    "from numpy.linalg import inv\n",
    "print('Inverse Matrix:\\n', inv(m))\n",
    "\n",
    "p = np.array([[0,1,0],[0,0,0],[1,0,1]])\n",
    "\n",
    "print('Det(P):\\n', det(p))"
   ]
  },
  {
   "cell_type": "code",
   "execution_count": 23,
   "metadata": {},
   "outputs": [
    {
     "name": "stdout",
     "output_type": "stream",
     "text": [
      "[[ 4  3 -5]\n",
      " [-2 -4  5]\n",
      " [ 7  8  0]\n",
      " [ 1  0  2]\n",
      " [ 9  1 -6]]\n"
     ]
    },
    {
     "data": {
      "text/plain": [
       "3"
      ]
     },
     "execution_count": 23,
     "metadata": {},
     "output_type": "execute_result"
    }
   ],
   "source": [
    "#system of linear equations\n",
    "#ax = b -> x = a^-1 * b\n",
    "a = np.array([[4,3,-5],[-2,-4,5],[7,8,0],[1,0,2],[9,1,-6]])\n",
    "print(a)\n",
    "\n",
    "#matrix rank\n",
    "#to solve linear equations, they need to be linearly independent; if dependent, they are pretty much the same equation but multiplied with a factor\n",
    "#to check if linearly independent, we can use the rank\n",
    "from numpy.linalg import cond, matrix_rank\n",
    "matrix_rank(a)\n",
    "# 3 variables, and rank = 3; therefore can be solved"
   ]
  },
  {
   "cell_type": "code",
   "execution_count": null,
   "metadata": {},
   "outputs": [],
   "source": []
  }
 ],
 "metadata": {
  "kernelspec": {
   "display_name": "Python 3.10.7 64-bit",
   "language": "python",
   "name": "python3"
  },
  "language_info": {
   "codemirror_mode": {
    "name": "ipython",
    "version": 3
   },
   "file_extension": ".py",
   "mimetype": "text/x-python",
   "name": "python",
   "nbconvert_exporter": "python",
   "pygments_lexer": "ipython3",
   "version": "3.10.7"
  },
  "orig_nbformat": 4,
  "vscode": {
   "interpreter": {
    "hash": "aee8b7b246df8f9039afb4144a1f6fd8d2ca17a180786b69acc140d282b71a49"
   }
  }
 },
 "nbformat": 4,
 "nbformat_minor": 2
}
