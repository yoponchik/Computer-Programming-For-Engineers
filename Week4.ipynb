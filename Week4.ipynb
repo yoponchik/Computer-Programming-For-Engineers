{
 "cells": [
  {
   "cell_type": "code",
   "execution_count": 3,
   "metadata": {},
   "outputs": [
    {
     "name": "stdout",
     "output_type": "stream",
     "text": [
      "6\n",
      "6\n"
     ]
    }
   ],
   "source": [
    "#Recursion\n",
    "##Factorial Function in Recursive\n",
    "def recursiveFact(n):\n",
    "    if n ==1:\n",
    "        return 1\n",
    "    else: \n",
    "        return n * recursiveFact(n-1)\n",
    "\n",
    "print(recursiveFact(3))\n",
    "\n",
    "##%timeit recursiveFact(50)                         #for timing the function\n",
    "\n",
    "##Factiorial Function in Iteration\n",
    "def iterFact(n):\n",
    "    nFact = 1\n",
    "    for i in range(1, n+1):\n",
    "        nFact *= i\n",
    "    return nFact\n",
    "\n",
    "print(iterFact(3))\n",
    "\n",
    "##%timeit iterFact(50)                              #for timing the function"
   ]
  },
  {
   "cell_type": "code",
   "execution_count": 5,
   "metadata": {},
   "outputs": [
    {
     "name": "stdout",
     "output_type": "stream",
     "text": [
      "1\n",
      "1\n",
      "2\n",
      "3\n",
      "5\n"
     ]
    }
   ],
   "source": [
    "##Fibonacci Function\n",
    "def fib(n):\n",
    "    if n == 1 or n == 2:                        #base case\n",
    "        return 1\n",
    "    else:                                   \n",
    "        return fib(n-1) + fib(n-2)              ##take the first two previous iterations\n",
    "\n",
    "\n",
    "print(fib(1))\n",
    "print(fib(2))\n",
    "print(fib(3))\n",
    "print(fib(4))\n",
    "print(fib(5))"
   ]
  },
  {
   "cell_type": "code",
   "execution_count": 7,
   "metadata": {},
   "outputs": [
    {
     "name": "stdout",
     "output_type": "stream",
     "text": [
      "Move disk 1 from tower 1 to tower 3\n",
      "Move disk 2 from tower 1 to tower 2\n",
      "Move disk 1 from tower 3 to tower 2\n",
      "Move disk 3 from tower 1 to tower 3\n",
      "Move disk 1 from tower 2 to tower 1\n",
      "Move disk 2 from tower 2 to tower 3\n",
      "Move disk 1 from tower 1 to tower 3\n"
     ]
    }
   ],
   "source": [
    "##Towers of Hanoi\n",
    "###Displays the moves required to move a tower of size N from the 'fromTower' to the 'toTower'\n",
    "###'fromTower', 'toTower' and 'altTower' are uniquely either 1,2, or 3 referring to tower1, tower2, tower3\n",
    "\n",
    "def tower(n, fromTower, toTower, altTower):                         #n = size of tower or # of disks, \n",
    "    if n != 0:                                                      #if the size of the tower is not 0; if there is at least 1 disk\n",
    "        #recursive call that moves n-1 stack from starting tower to alternate tower\n",
    "        tower(n-1, fromTower, altTower, toTower)\n",
    "        print(\"Move disk %d from tower %d to tower %d\" \\\n",
    "            %(n, fromTower, toTower))\n",
    "        #recursive call that moves n-1 stack from alternate tower to final tower\n",
    "        tower(n-1, altTower, toTower, fromTower)\n",
    "\n",
    "tower(3,1,3,2)"
   ]
  },
  {
   "cell_type": "code",
   "execution_count": 10,
   "metadata": {},
   "outputs": [
    {
     "data": {
      "text/plain": [
       "[1, 2, 2, 3, 4, 5, 7, 9, 43]"
      ]
     },
     "execution_count": 10,
     "metadata": {},
     "output_type": "execute_result"
    }
   ],
   "source": [
    "#Quick Sort\n",
    "###A list of numbers is given\n",
    "###Sorts numbers in ascending/descending order\n",
    "###Separate list by comparing a pivot\n",
    "###recursive call of quickSort() divides the list into 3 parts, <, =, >\n",
    "def quickSort(myList):\n",
    "    if len(myList) <= 1:                                #base case\n",
    "        sortedList = myList                             #final output\n",
    "    \n",
    "    else:                                               #if list has more than 1 element\n",
    "        pivot = myList[0]                               #take first element as pivot\n",
    "        big = []                                        #initialize list for numbers bigger than pivot\n",
    "        small = []                                      #initialize list for smaller numbers\n",
    "        same = []                                       #initialize list for equal numbers\n",
    "    \n",
    "        for item in myList:                             #loop through list and put elements into appropriate list\n",
    "            if item > pivot:\n",
    "                big.append(item)\n",
    "            elif item < pivot:\n",
    "                small.append(item)\n",
    "            else:\n",
    "                same.append(item)\n",
    "            \n",
    "        sortedList = quickSort(small) + same + quickSort(big)\n",
    "    return sortedList\n",
    "\n",
    "randomList = [2,7,43,2,4,1,3,5,9]\n",
    "\n",
    "quickSort(randomList)"
   ]
  },
  {
   "cell_type": "code",
   "execution_count": 19,
   "metadata": {},
   "outputs": [
    {
     "data": {
      "text/plain": [
       "76"
      ]
     },
     "execution_count": 19,
     "metadata": {},
     "output_type": "execute_result"
    }
   ],
   "source": [
    "#Summation of Elements in List Using Recursion\n",
    "\n",
    "def mySumRecursive(someList):\n",
    "    if len(someList) == 1:\n",
    "        return someList[0]\n",
    "    else: \n",
    "        return someList[0] + mySumRecursive(someList[1:])           #[1:] means start from first index\n",
    "                                                                    #take first element, then add the next one in recursive call\n",
    "mySumRecursive(randomList)"
   ]
  },
  {
   "cell_type": "code",
   "execution_count": 21,
   "metadata": {},
   "outputs": [
    {
     "name": "stdout",
     "output_type": "stream",
     "text": [
      "2047\n"
     ]
    }
   ],
   "source": [
    "#Summation of Exponents of Base 2 Using Recursion\n",
    "#∑2^n from 0 to n\n",
    "def sumExpTwo(n):\n",
    "    if n == 0:                                          #base case\n",
    "        return 1\n",
    "    else:                                               #for exponents where n >0\n",
    "        return 2**n + sumExpTwo(n-1)                    #summation using recursion\n",
    "\n",
    "#∑2^n from 0 to 10\n",
    "print(sumExpTwo(10))\n"
   ]
  },
  {
   "cell_type": "code",
   "execution_count": 22,
   "metadata": {},
   "outputs": [
    {
     "name": "stdout",
     "output_type": "stream",
     "text": [
      "None\n"
     ]
    }
   ],
   "source": [
    "#Square Root Function Using Nested Function\n",
    "def squareRoot(a,tol):           #define variables!\n",
    "    \n",
    "    x = a/2\n",
    "\n",
    "    def y(x, a, tol):\n",
    "        if abs(((x + a/2)/2) - x)/((x + a/x)/2) < tol:\n",
    "            return (x + a/2)/2\n",
    "\n",
    "        else:    \n",
    "            return y((x + a/2)/2, a, tol)\n",
    "    \n",
    "print(squareRoot(4, 0.0001))"
   ]
  },
  {
   "cell_type": "code",
   "execution_count": 29,
   "metadata": {},
   "outputs": [
    {
     "name": "stdout",
     "output_type": "stream",
     "text": [
      "root = [0.73908513]\n",
      "result = [0.]\n"
     ]
    }
   ],
   "source": [
    "#Finding the Root\n",
    "\n",
    "from re import X\n",
    "import numpy as np\n",
    "from scipy import optimize\n",
    "\n",
    "###f(x) = cos(x) - x \n",
    "f = lambda x: np.cos(x) - x            #initialize function\n",
    "\n",
    "#Approximation with initial guess\n",
    "root = optimize.fsolve(f,-2)           #(-2) is the initial guess              #fsolve, solves for the root when given polynomial\n",
    "print(\"root =\", root)                     #root is at x = root\n",
    "\n",
    "#verify the solution is a root\n",
    "result = f(root)                        #\n",
    "print(\"result =\", result)            #almost zero, that's why 0.\n"
   ]
  },
  {
   "cell_type": "code",
   "execution_count": 35,
   "metadata": {},
   "outputs": [
    {
     "name": "stdout",
     "output_type": "stream",
     "text": [
      "[  1. 100.]\n"
     ]
    }
   ],
   "source": [
    "#Finding Root of Other Functions\n",
    "\n",
    "from scipy.optimize import fsolve\n",
    "\n",
    "###f(x) = x^3 -100x^2 - x + 100\n",
    "f = lambda x: x**3-100*x**2-x+100\n",
    "\n",
    "#Approximation With Initial Guess\n",
    "result = fsolve(f, [2,80])                       #[2,80] is the initial guess\n",
    "print(result)"
   ]
  },
  {
   "cell_type": "code",
   "execution_count": 58,
   "metadata": {},
   "outputs": [
    {
     "name": "stdout",
     "output_type": "stream",
     "text": [
      "r1 =  1.4375\n",
      "r01 =  1.4140625\n",
      "f(r1) =  0.06640625\n",
      "f(r01) =  -0.00042724609375\n"
     ]
    }
   ],
   "source": [
    "#Finding the Root Using the Bisection Method with Recursion\n",
    "###Approximates using recursion a root 'R' of f bounded by 'a' and 'b' \n",
    "###to within tolerance  |f(m)| < tol\n",
    "###with m as the midpoint between 'a' and 'b'\n",
    "\n",
    "def bisection(f,a,b,tol):\n",
    "    if np.sign(f(a)) == np.sign(f(b)):                          #check if 'a' and 'b' bound a root\n",
    "        raise Exception(\"The scalars a and b do not bound a root\")                  #stops program and raises flag\n",
    "    \n",
    "    m = (a + b)/2                                               #get the midpoint\n",
    "\n",
    "    if np.abs(f(m)) < tol:                                      #if the answer is close enough\n",
    "        return m                                                #return m as the root\n",
    "    #have to know which side the root is in\n",
    "    elif np.sign(f(a)) == np.sign(f(m)):                        #if the sign for 'a' and 'm' are the same\n",
    "                                                                #means that 'm' is closer to root than 'a'\n",
    "        return bisection(f,m,b,tol)                             #recursive call where m is an improvement of a; a = m\n",
    "    elif np.sign(f(b)) == np.sign(f(m)):                        #if the sign for 'b' and 'm' are the same\n",
    "                                                                #means that 'm' is closer to the root than 'b'\n",
    "        return bisection(f,a,m, tol)                            #recursive call where m is an improvement of b; b = m\n",
    "\n",
    "###Testing function\n",
    "f = lambda x: x**2 -2\n",
    "\n",
    "r1 = bisection(f,0,2,0.1)                   #high tolerance\n",
    "print(\"r1 = \", r1)\n",
    "r01 = bisection(f,0,2,0.01)                 #lower tolerance\n",
    "print(\"r01 = \", r01)\n",
    "\n",
    "print(\"f(r1) = \", f(r1))\n",
    "print(\"f(r01) = \", f(r01))\n",
    "\n",
    "#example of an exception\n",
    "#bisection(f,2,4,0.01)"
   ]
  },
  {
   "cell_type": "code",
   "execution_count": 59,
   "metadata": {},
   "outputs": [
    {
     "data": {
      "text/plain": [
       "1.5"
      ]
     },
     "execution_count": 59,
     "metadata": {},
     "output_type": "execute_result"
    }
   ],
   "source": [
    "#Finding the Root Using the Bisection Method with Iteration\n",
    "###Calculates root based on number of significant figures using an iterative function\n",
    "import numpy as np\n",
    "\n",
    "def bisection2(f,a,b,tol):\n",
    "    if np.sign(f(a)) == np.sign(f(b)):                              #it means the function doesn't cross the y axis; therefore no root\n",
    "        raise Exception(\"The scalars a and b do not bound a root\")\n",
    "    \n",
    "    xPrevious = (a + b)/2\n",
    "    e=1                         #100% change ? \n",
    "    while e> tol:\n",
    "        if f(a) * f(xPrevious) < 0:         #check the sign; instead of using np.sign; negative * positive = negative\n",
    "            b = xPrevious                   #new interval is between a and xPrevious\n",
    "        else:   \n",
    "            a = xPrevious                       #new interval is between b and xPrevious\n",
    "\n",
    "            xNew = (a+b)/2\n",
    "            e= abs((xNew - xPrevious)/xNew)\n",
    "            xPrevious = xNew\n",
    "\n",
    "        return xNew\n",
    "\n",
    "###Testing Function\n",
    "f = lambda x: x**2-2\n",
    "tol = 0.5*10**(2-5)/100                     #at least 5 significant figures\n",
    "\n",
    "bisection2(f,0,2,tol)\n",
    "\n"
   ]
  },
  {
   "cell_type": "code",
   "execution_count": 60,
   "metadata": {},
   "outputs": [
    {
     "name": "stdout",
     "output_type": "stream",
     "text": [
      "estimate =  1.4142135623746899\n",
      "sqrt(2) =  1.4142135623730951\n"
     ]
    }
   ],
   "source": [
    "#Finding the Root Using the Newton-Raphson Method Using Recursion\n",
    "###Output is an estimation of the root of f\n",
    "###Using the Newton Raphson Method recursive implementation\n",
    "def newtonRaphson(d,df,x0, tol):\n",
    "\n",
    "    if abs(f(x0)) < tol:                #base case\n",
    "        return x0\n",
    "    else: \n",
    "        return newtonRaphson(f,df,x0-f(x0)/df(x0), tol)\n",
    "\n",
    "    \n",
    "f = lambda x: x**2 -2 \n",
    "fPrime = lambda x: 2*x\n",
    "\n",
    "estimate = newtonRaphson(f,fPrime, 1.5, 1e-6)\n",
    "print(\"estimate = \", estimate)\n",
    "print(\"sqrt(2) = \", np.sqrt(2))"
   ]
  },
  {
   "cell_type": "code",
   "execution_count": 12,
   "metadata": {},
   "outputs": [
    {
     "data": {
      "text/plain": [
       "1.41421364270128"
      ]
     },
     "execution_count": 12,
     "metadata": {},
     "output_type": "execute_result"
    }
   ],
   "source": [
    "def newNewtonRaphson(f, delta,  x0, tol):\n",
    "    if abs(f(x0)) < tol:\n",
    "        return x0\n",
    "    else: \n",
    "        fPrime = (f(x0+delta*x0) - f(x0))/(delta*x0)\n",
    "        return newNewtonRaphson(f, delta, x0-f(x0)/fPrime, tol)\n",
    "\n",
    "f = lambda x: x**2 -2 \n",
    "delta = 0.01\n",
    "tol = 1e-5\n",
    "\n",
    "newNewtonRaphson(f,delta, 1, tol)"
   ]
  }
 ],
 "metadata": {
  "kernelspec": {
   "display_name": "Python 3.10.7 64-bit",
   "language": "python",
   "name": "python3"
  },
  "language_info": {
   "codemirror_mode": {
    "name": "ipython",
    "version": 3
   },
   "file_extension": ".py",
   "mimetype": "text/x-python",
   "name": "python",
   "nbconvert_exporter": "python",
   "pygments_lexer": "ipython3",
   "version": "3.10.7"
  },
  "orig_nbformat": 4,
  "vscode": {
   "interpreter": {
    "hash": "aee8b7b246df8f9039afb4144a1f6fd8d2ca17a180786b69acc140d282b71a49"
   }
  }
 },
 "nbformat": 4,
 "nbformat_minor": 2
}
