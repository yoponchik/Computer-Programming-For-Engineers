{
 "cells": [
  {
   "cell_type": "code",
   "execution_count": 3,
   "metadata": {},
   "outputs": [
    {
     "name": "stdout",
     "output_type": "stream",
     "text": [
      "6\n",
      "6\n"
     ]
    }
   ],
   "source": [
    "#Recursion\n",
    "##Factorial Function in Recursive\n",
    "def recursiveFact(n):\n",
    "    if n ==1:\n",
    "        return 1\n",
    "    else: \n",
    "        return n * recursiveFact(n-1)\n",
    "\n",
    "print(recursiveFact(3))\n",
    "\n",
    "##%timeit recursiveFact(50)                         #for timing the function\n",
    "\n",
    "##Factiorial Function in Iteration\n",
    "def iterFact(n):\n",
    "    nFact = 1\n",
    "    for i in range(1, n+1):\n",
    "        nFact *= i\n",
    "    return nFact\n",
    "\n",
    "print(iterFact(3))\n",
    "\n",
    "##%timeit iterFact(50)                              #for timing the function"
   ]
  },
  {
   "cell_type": "code",
   "execution_count": 5,
   "metadata": {},
   "outputs": [
    {
     "name": "stdout",
     "output_type": "stream",
     "text": [
      "1\n",
      "1\n",
      "2\n",
      "3\n",
      "5\n"
     ]
    }
   ],
   "source": [
    "##Fibonacci Function\n",
    "def fib(n):\n",
    "    if n == 1 or n == 2:                        #base case\n",
    "        return 1\n",
    "    else:                                   \n",
    "        return fib(n-1) + fib(n-2)              ##take the first two previous iterations\n",
    "\n",
    "\n",
    "print(fib(1))\n",
    "print(fib(2))\n",
    "print(fib(3))\n",
    "print(fib(4))\n",
    "print(fib(5))"
   ]
  },
  {
   "cell_type": "code",
   "execution_count": 6,
   "metadata": {},
   "outputs": [
    {
     "name": "stdout",
     "output_type": "stream",
     "text": [
      "Move disk 1 from tower 1 to tower 3\n",
      "Move disk 2 from tower 1 to tower 2\n",
      "Move disk 1 from tower 3 to tower 2\n",
      "Move disk 3 from tower 1 to tower 3\n",
      "Move disk 1 from tower 2 to tower 1\n",
      "Move disk 2 from tower 2 to tower 3\n",
      "Move disk 1 from tower 1 to tower 3\n"
     ]
    }
   ],
   "source": [
    "##Towers of Hanoi\n",
    "###Displays the moves required to move a tower of size N from the 'fromTower' to the 'toTower'\n",
    "###'fromTower', 'toTower' and 'altTower' are uniquely either 1,2, or 3 referring to tower1, tower2, tower3\n",
    "\n",
    "def tower(n, fromTower, toTower, altTower):                         #n = size of tower or # of disks, \n",
    "    if n != 0:                                                      #if the size of the tower is not 0; if there is at least 1 disk\n",
    "        #recursive call that moves n-1 stack from starting tower to alternate tower\n",
    "        tower(n-1, fromTower, altTower, toTower)\n",
    "        print(\"Move disk %d from tower %d to tower %d\" \\\n",
    "            %(n, fromTower, toTower))\n",
    "        #recursive call that moves n-1 stack from alternate tower to final tower\n",
    "        tower(n-1, altTower, toTower, fromTower)\n",
    "\n",
    "tower(3,1,3,2)"
   ]
  },
  {
   "cell_type": "code",
   "execution_count": 42,
   "metadata": {},
   "outputs": [
    {
     "data": {
      "text/plain": [
       "[1, 2, 2, 3, 4, 5, 7, 9, 43]"
      ]
     },
     "execution_count": 42,
     "metadata": {},
     "output_type": "execute_result"
    }
   ],
   "source": [
    "def  quickSort(myList):\n",
    "    if len(myList) <= 1:  # base case;\n",
    "        sortedList = myList\n",
    "    \n",
    "    else: \n",
    "        pivot = myList[0]\n",
    "        big = []\n",
    "        small = []\n",
    "        same = []\n",
    "    \n",
    "        for item in myList:\n",
    "            if item > pivot:\n",
    "                big.append(item)\n",
    "            elif item < pivot:\n",
    "                small.append(item)\n",
    "            else:\n",
    "                same.append(item)\n",
    "            \n",
    "        sortedList = quickSort(small) + same + quickSort(big)\n",
    "    return sortedList\n",
    "\n",
    "some = [2,7,43,2,4,1,3,5,9]\n",
    "\n",
    "quickSort(some)"
   ]
  },
  {
   "cell_type": "code",
   "execution_count": 43,
   "metadata": {},
   "outputs": [],
   "source": [
    "#Assignment 5\n",
    "\n",
    "def mySum(lst):\n",
    "    s = 0\n",
    "    \n",
    "    for i in range(len(lst)):\n",
    "        st = lst[i]\n",
    "\n",
    "    for i in lst:\n",
    "        s += i"
   ]
  },
  {
   "cell_type": "code",
   "execution_count": 44,
   "metadata": {},
   "outputs": [
    {
     "data": {
      "text/plain": [
       "76"
      ]
     },
     "execution_count": 44,
     "metadata": {},
     "output_type": "execute_result"
    }
   ],
   "source": [
    "def mySumRecursive(lst):\n",
    "\n",
    "    if len(lst) == 1:\n",
    "        return lst[0]\n",
    "\n",
    "    else: \n",
    "        return lst[0] + mySumRecursive(lst[1:])\n",
    "\n",
    "mySumRecursive(some)"
   ]
  },
  {
   "cell_type": "code",
   "execution_count": 45,
   "metadata": {},
   "outputs": [
    {
     "name": "stdout",
     "output_type": "stream",
     "text": [
      "2047\n"
     ]
    }
   ],
   "source": [
    "def sumExpTwo(n):\n",
    "    if n == 0:\n",
    "        return 1\n",
    "    else: \n",
    "        return 2**n + sumExpTwo(n-1)\n",
    "\n",
    "print(sumExpTwo(10))\n"
   ]
  },
  {
   "cell_type": "code",
   "execution_count": 50,
   "metadata": {},
   "outputs": [
    {
     "name": "stdout",
     "output_type": "stream",
     "text": [
      "None\n"
     ]
    }
   ],
   "source": [
    "def squareRoot(a,tol):           #define variables!\n",
    "    \n",
    "    x = a/2\n",
    "\n",
    "    def y(x, a, tol):\n",
    "        if abs(((x + a/2)/2) - x)/((x + a/x)/2) < tol:\n",
    "            return (x + a/2)/2\n",
    "\n",
    "        else:    \n",
    "            return y((x + a/2)/2, a, tol)\n",
    "    \n",
    "print(squareRoot(4, 0.0001))"
   ]
  },
  {
   "cell_type": "code",
   "execution_count": 2,
   "metadata": {},
   "outputs": [
    {
     "name": "stdout",
     "output_type": "stream",
     "text": [
      "r= [0.73908513]\n",
      "result= [0.]\n"
     ]
    }
   ],
   "source": [
    "from re import X\n",
    "import numpy as np\n",
    "from scipy import optimize\n",
    "\n",
    "f= lambda x: np.cos(x) - x\n",
    "r = optimize.fsolve(f,-2)           #(-2) is the initial guess              #fsolve, solves for the root when given polynomial\n",
    "print(\"r=\", r)\n",
    "\n",
    "result = f(r)\n",
    "print(\"result=\", result)            #almost zero, that's why 0.\n",
    "\n",
    "\n"
   ]
  },
  {
   "cell_type": "code",
   "execution_count": 3,
   "metadata": {},
   "outputs": [
    {
     "data": {
      "text/plain": [
       "array([  1., 100.])"
      ]
     },
     "execution_count": 3,
     "metadata": {},
     "output_type": "execute_result"
    }
   ],
   "source": [
    "from scipy.optimize import fsolve\n",
    "f = lambda x: x**3-100*x**2-x+100\n",
    "\n",
    "fsolve(f, [2,80])                       #[2,80] is the initial guess\n"
   ]
  },
  {
   "cell_type": "code",
   "execution_count": 4,
   "metadata": {},
   "outputs": [],
   "source": [
    "from bisect import bisect\n",
    "\n",
    "\n",
    "def bisection(f,a,b,tol):\n",
    "    if np.sign(f(a)) == np.sign(f(b)):  \n",
    "        raise Exception(\"The scalars a and b do not bound a root\")                  #stops program and raises flag\n",
    "    \n",
    "    m = (a + b)/2\n",
    "\n",
    "    if np.abs(f(m)) < tol:                                      #if the answer is close enough\n",
    "        return m                                                #return m as the root\n",
    "    #have to know which side the root is in\n",
    "    elif np.sign(f(a)) == np.sign(f(m)):\n",
    "        return bisection(f,m,b,tol)\n",
    "    elif np.sign(f(b)) == np.sign(f(m)):\n",
    "        return bisection(f,a,m, tol)"
   ]
  },
  {
   "cell_type": "code",
   "execution_count": 5,
   "metadata": {},
   "outputs": [
    {
     "name": "stdout",
     "output_type": "stream",
     "text": [
      "r1 =  1.4375\n",
      "r01 =  1.4140625\n",
      "f(r1) =  0.06640625\n",
      "f(r01) =  -0.00042724609375\n"
     ]
    }
   ],
   "source": [
    "f = lambda x: x**2 -2\n",
    "\n",
    "r1 = bisection(f,0,2,0.1)\n",
    "print(\"r1 = \", r1)\n",
    "r01 = bisection(f,0,2,0.01)\n",
    "print(\"r01 = \", r01)\n",
    "\n",
    "print(\"f(r1) = \", f(r1))\n",
    "print(\"f(r01) = \", f(r01))\n",
    "\n",
    "\n"
   ]
  },
  {
   "cell_type": "code",
   "execution_count": 7,
   "metadata": {},
   "outputs": [
    {
     "ename": "Exception",
     "evalue": "The scalars a and b do not bound a root",
     "output_type": "error",
     "traceback": [
      "\u001b[0;31m---------------------------------------------------------------------------\u001b[0m",
      "\u001b[0;31mException\u001b[0m                                 Traceback (most recent call last)",
      "Cell \u001b[0;32mIn [7], line 2\u001b[0m\n\u001b[1;32m      1\u001b[0m \u001b[38;5;66;03m#example of an exception\u001b[39;00m\n\u001b[0;32m----> 2\u001b[0m \u001b[43mbisection\u001b[49m\u001b[43m(\u001b[49m\u001b[43mf\u001b[49m\u001b[43m,\u001b[49m\u001b[38;5;241;43m2\u001b[39;49m\u001b[43m,\u001b[49m\u001b[38;5;241;43m4\u001b[39;49m\u001b[43m,\u001b[49m\u001b[38;5;241;43m0.01\u001b[39;49m\u001b[43m)\u001b[49m\n",
      "Cell \u001b[0;32mIn [4], line 6\u001b[0m, in \u001b[0;36mbisection\u001b[0;34m(f, a, b, tol)\u001b[0m\n\u001b[1;32m      4\u001b[0m \u001b[38;5;28;01mdef\u001b[39;00m \u001b[38;5;21mbisection\u001b[39m(f,a,b,tol):\n\u001b[1;32m      5\u001b[0m     \u001b[38;5;28;01mif\u001b[39;00m np\u001b[38;5;241m.\u001b[39msign(f(a)) \u001b[38;5;241m==\u001b[39m np\u001b[38;5;241m.\u001b[39msign(f(b)):  \n\u001b[0;32m----> 6\u001b[0m         \u001b[38;5;28;01mraise\u001b[39;00m \u001b[38;5;167;01mException\u001b[39;00m(\u001b[38;5;124m\"\u001b[39m\u001b[38;5;124mThe scalars a and b do not bound a root\u001b[39m\u001b[38;5;124m\"\u001b[39m)                  \u001b[38;5;66;03m#stops program and raises flag\u001b[39;00m\n\u001b[1;32m      8\u001b[0m     m \u001b[38;5;241m=\u001b[39m (a \u001b[38;5;241m+\u001b[39m b)\u001b[38;5;241m/\u001b[39m\u001b[38;5;241m2\u001b[39m\n\u001b[1;32m     10\u001b[0m     \u001b[38;5;28;01mif\u001b[39;00m np\u001b[38;5;241m.\u001b[39mabs(f(m)) \u001b[38;5;241m<\u001b[39m tol:                                      \u001b[38;5;66;03m#if the answer is close enough\u001b[39;00m\n",
      "\u001b[0;31mException\u001b[0m: The scalars a and b do not bound a root"
     ]
    }
   ],
   "source": [
    "#example of an exception\n",
    "bisection(f,2,4,0.01)"
   ]
  },
  {
   "cell_type": "code",
   "execution_count": 9,
   "metadata": {},
   "outputs": [
    {
     "data": {
      "text/plain": [
       "1.5"
      ]
     },
     "execution_count": 9,
     "metadata": {},
     "output_type": "execute_result"
    }
   ],
   "source": [
    "import numpy as np\n",
    "\n",
    "def bisection2(f,a,b,tol):\n",
    "    if np.sign(f(a)) == np.sign(f(b)):\n",
    "        raise Exception(\"The scalars a and b do not bound a root\")\n",
    "    \n",
    "    xPrevious = (a + b)/2\n",
    "    e=1                         #100% change ? \n",
    "    while e> tol:\n",
    "        if f(a) * f(xPrevious) < 0:         #check the sign; instead of using np.sign; negative * positive = negative\n",
    "            b = xPrevious                   #new interval is between a and xPrevious\n",
    "        else:   \n",
    "            a = xPrevious                       #new interval is between b and xPrevious\n",
    "\n",
    "            xNew = (a+b)/2\n",
    "            e= abs((xNew - xPrevious)/xNew)\n",
    "            xPrevious = xNew\n",
    "\n",
    "        return xNew\n",
    "\n",
    "f = lambda x: x**2-2\n",
    "tol = 0.5*10**(2-5)/100                     #at least 5 significant figures\n",
    "\n",
    "bisection2(f,0,2,tol)\n",
    "\n"
   ]
  },
  {
   "cell_type": "code",
   "execution_count": 10,
   "metadata": {},
   "outputs": [
    {
     "name": "stdout",
     "output_type": "stream",
     "text": [
      "estimate =  1.4142135623746899\n",
      "sqrt(2) =  1.4142135623730951\n"
     ]
    }
   ],
   "source": [
    "def newtonRaphson(d,df,x0, tol):\n",
    "\n",
    "    if abs(f(x0)) < tol:                #base case\n",
    "        return x0\n",
    "    else: \n",
    "        return newtonRaphson(f,df,x0-f(x0)/df(x0), tol)\n",
    "\n",
    "    \n",
    "f = lambda x: x**2 -2 \n",
    "fPrime = lambda x: 2*x\n",
    "\n",
    "estimate = newtonRaphson(f,fPrime, 1.5, 1e-6)\n",
    "print(\"estimate = \", estimate)\n",
    "print(\"sqrt(2) = \", np.sqrt(2))"
   ]
  },
  {
   "cell_type": "code",
   "execution_count": 12,
   "metadata": {},
   "outputs": [
    {
     "data": {
      "text/plain": [
       "1.41421364270128"
      ]
     },
     "execution_count": 12,
     "metadata": {},
     "output_type": "execute_result"
    }
   ],
   "source": [
    "def newNewtonRaphson(f, delta,  x0, tol):\n",
    "    if abs(f(x0)) < tol:\n",
    "        return x0\n",
    "    else: \n",
    "        fPrime = (f(x0+delta*x0) - f(x0))/(delta*x0)\n",
    "        return newNewtonRaphson(f, delta, x0-f(x0)/fPrime, tol)\n",
    "\n",
    "f = lambda x: x**2 -2 \n",
    "delta = 0.01\n",
    "tol = 1e-5\n",
    "\n",
    "newNewtonRaphson(f,delta, 1, tol)"
   ]
  },
  {
   "cell_type": "code",
   "execution_count": null,
   "metadata": {},
   "outputs": [],
   "source": []
  }
 ],
 "metadata": {
  "kernelspec": {
   "display_name": "Python 3.10.7 64-bit",
   "language": "python",
   "name": "python3"
  },
  "language_info": {
   "codemirror_mode": {
    "name": "ipython",
    "version": 3
   },
   "file_extension": ".py",
   "mimetype": "text/x-python",
   "name": "python",
   "nbconvert_exporter": "python",
   "pygments_lexer": "ipython3",
   "version": "3.10.7"
  },
  "orig_nbformat": 4,
  "vscode": {
   "interpreter": {
    "hash": "aee8b7b246df8f9039afb4144a1f6fd8d2ca17a180786b69acc140d282b71a49"
   }
  }
 },
 "nbformat": 4,
 "nbformat_minor": 2
}
