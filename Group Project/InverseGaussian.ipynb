{
 "cells": [
  {
   "cell_type": "code",
   "execution_count": null,
   "metadata": {},
   "outputs": [],
   "source": [
    "#https://towardsdatascience.com/find-the-inverse-of-a-matrix-using-python-3aeb05b4830"
   ]
  },
  {
   "cell_type": "code",
   "execution_count": 31,
   "metadata": {},
   "outputs": [
    {
     "name": "stdout",
     "output_type": "stream",
     "text": [
      "[[1. 0. 1. 1. 0. 0.]\n",
      " [0. 1. 1. 0. 1. 0.]\n",
      " [1. 1. 1. 0. 0. 1.]]\n",
      "[[ 1.  0.  0.  0. -1.  1.]\n",
      " [ 0.  1.  0. -1.  0.  1.]\n",
      " [-0. -0.  1.  1.  1. -1.]]\n"
     ]
    }
   ],
   "source": [
    "import numpy as np\n",
    "\n",
    "#given matrix\n",
    "A = np.array([[1,0,1], [0,1,1], [1,1,1]])\n",
    "\n",
    "def InverseGaussian(A):\n",
    "\n",
    "        #Check if nxn matrix\n",
    "        m = A.shape[0]  # m is number of rows in A\n",
    "        n = A.shape[1]  # n is number of columns in A\n",
    "        \n",
    "        #if not nxn matrix, raise flag\n",
    "        if(m != n):\n",
    "            raise Exception('Not an nxn matrix')\n",
    "\n",
    "        #Create identity Matrix\n",
    "        I = np.identity(n=n)\n",
    "        #Combine I and A matrix\n",
    "        M = np.concatenate((A, I), axis = 1)\n",
    "\n",
    "        print(M)\n",
    "\n",
    "        for i in range(0, n):\n",
    "            #initialize row-swap iterator\n",
    "            j = 1\n",
    "            #Select pivot value\n",
    "            pivot = M[i][i]\n",
    "\n",
    "            #find next non-zero leading coefficient\n",
    "            while pivot == 0 and i + j < n:\n",
    "                #perform row swap operation\n",
    "                M[[i,i + j]] = M[[i + j, i]]\n",
    "            #increment row-swap iterator\n",
    "                j+=1\n",
    "            #get new pivot\n",
    "                pivot = M[i][i]\n",
    "\n",
    "            #if pivot is zero, remaining rows are all zeros\n",
    "            if pivot == 0:\n",
    "                #return inverse matrix\n",
    "                return M[:,n:]\n",
    "\n",
    "            #extract row\n",
    "            row = M[i]\n",
    "\n",
    "            #get 1 along the diagonal\n",
    "            M[i] = row / pivot\n",
    "\n",
    "            #iterate over all rows except pivot to get augmented matrix into RREF\n",
    "            for j in [k for k in range(0,n) if k != i]:\n",
    "                M[j] = M[j] - M[i] * M[j][i]\n",
    "\n",
    "        #inverse = \n",
    "\n",
    "        #full version\n",
    "        return M\n",
    "        #abridged version\n",
    "        #return M[:, n:]\n",
    "        \n",
    "print(InverseGaussian(A))"
   ]
  },
  {
   "cell_type": "code",
   "execution_count": null,
   "metadata": {},
   "outputs": [],
   "source": []
  }
 ],
 "metadata": {
  "kernelspec": {
   "display_name": "Python 3.10.7 64-bit",
   "language": "python",
   "name": "python3"
  },
  "language_info": {
   "codemirror_mode": {
    "name": "ipython",
    "version": 3
   },
   "file_extension": ".py",
   "mimetype": "text/x-python",
   "name": "python",
   "nbconvert_exporter": "python",
   "pygments_lexer": "ipython3",
   "version": "3.10.7"
  },
  "orig_nbformat": 4,
  "vscode": {
   "interpreter": {
    "hash": "aee8b7b246df8f9039afb4144a1f6fd8d2ca17a180786b69acc140d282b71a49"
   }
  }
 },
 "nbformat": 4,
 "nbformat_minor": 2
}
