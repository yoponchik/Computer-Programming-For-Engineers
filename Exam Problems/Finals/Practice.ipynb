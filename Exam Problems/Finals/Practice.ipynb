{
 "cells": [
  {
   "cell_type": "code",
   "execution_count": 11,
   "metadata": {},
   "outputs": [],
   "source": [
    "import matplotlib.pyplot as plt\n",
    "\n",
    "class Triangle(object):\n",
    "    def __init__(self, V):          #v as input\n",
    "        \n",
    "        #type check; v has to be a LIST of 3 TUPLES\n",
    "        if(isinstance(V, list) and len(V) == 3):\n",
    "            pass\n",
    "        else:\n",
    "            raise(TypeError(\"Need a list.\"))\n",
    "        \n",
    "        #check if all the elements are tuples\n",
    "        ##know the difference between any and all\n",
    "        if (all(isinstance(element, tuple) for element in V)):\n",
    "            pass\n",
    "        else: \n",
    "            raise(Exception('Coordinates should be tuples'))\n",
    "\n",
    "        self.V = V\n",
    "\n",
    "    def vertex(self, n):\n",
    "        return (self.V[n%3 -1][0], self.V[n%3-1][1])\n",
    "\n",
    "    def side(self, n):\n",
    "        return [self.vertex(n), self.vertex(n+1)]\n",
    "\n",
    "    def midpoint(self, n):\n",
    "        return (sum([x for x, y in self.side(n)])/2, \\\n",
    "            sum([y for x,y in self.side(n)])/2)\n",
    "    \n",
    "    def show(self, color = 'k'):\n",
    "        xs = []\n",
    "        ys = []\n",
    "\n",
    "        for i in range(1,5):\n",
    "            xs.append(self.vertex(i)[0])\n",
    "            ys.append(self.vertex(i)[1])\n",
    "        plt.fill(xs, ys, color)\n",
    "    \n",
    "    def __str__(self):\n",
    "        return f\"[{self.vertex(1)}, {self.vertex(2)}, {self.vertex(3)}]\""
   ]
  },
  {
   "cell_type": "code",
   "execution_count": 22,
   "metadata": {},
   "outputs": [
    {
     "name": "stdout",
     "output_type": "stream",
     "text": [
      "(2, 3)\n",
      "[(2, 3), (0, 0)]\n",
      "(3.5, 1.75)\n",
      "[(0, 0), (5, 0.5), (2, 3)]\n"
     ]
    }
   ],
   "source": [
    "a = Triangle([(0,0), (5, 0.5), (2,3)])\n",
    "print(a)\n",
    "print(a.vertex(3))\n",
    "print((a.side(3)))\n",
    "print(a.midpoint(2))\n",
    "#a.show()"
   ]
  },
  {
   "cell_type": "code",
   "execution_count": null,
   "metadata": {},
   "outputs": [],
   "source": []
  }
 ],
 "metadata": {
  "kernelspec": {
   "display_name": "Python 3.10.7 64-bit",
   "language": "python",
   "name": "python3"
  },
  "language_info": {
   "name": "python",
   "version": "3.10.7"
  },
  "orig_nbformat": 4,
  "vscode": {
   "interpreter": {
    "hash": "aee8b7b246df8f9039afb4144a1f6fd8d2ca17a180786b69acc140d282b71a49"
   }
  }
 },
 "nbformat": 4,
 "nbformat_minor": 2
}
