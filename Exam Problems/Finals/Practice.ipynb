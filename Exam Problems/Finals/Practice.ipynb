{
 "cells": [
  {
   "cell_type": "code",
   "execution_count": 11,
   "metadata": {},
   "outputs": [],
   "source": [
    "import matplotlib.pyplot as plt\n",
    "\n",
    "class Triangle(object):\n",
    "    def __init__(self, V):          #v as input\n",
    "        \n",
    "        #type check; v has to be a LIST of 3 TUPLES\n",
    "        if(isinstance(V, list) and len(V) == 3):\n",
    "            pass\n",
    "        else:\n",
    "            raise(TypeError(\"Need a list.\"))\n",
    "        \n",
    "        #check if all the elements are tuples\n",
    "        ##know the difference between any and all\n",
    "        if (all(isinstance(element, tuple) for element in V)):\n",
    "            pass\n",
    "        else: \n",
    "            raise(Exception('Coordinates should be tuples'))\n",
    "\n",
    "        self.V = V\n",
    "\n",
    "    def vertex(self, n):\n",
    "        return (self.V[n%3 -1][0], self.V[n%3-1][1])\n",
    "\n",
    "    def side(self, n):\n",
    "        return [self.vertex(n), self.vertex(n+1)]\n",
    "\n",
    "    def midpoint(self, n):\n",
    "        return (sum([x for x, y in self.side(n)])/2, \\\n",
    "            sum([y for x,y in self.side(n)])/2)\n",
    "    \n",
    "    def show(self, color = 'k'):\n",
    "        xs = []\n",
    "        ys = []\n",
    "\n",
    "        for i in range(1,5):\n",
    "            xs.append(self.vertex(i)[0])\n",
    "            ys.append(self.vertex(i)[1])\n",
    "        plt.fill(xs, ys, color)\n",
    "    \n",
    "    def __str__(self):\n",
    "        return f\"[{self.vertex(1)}, {self.vertex(2)}, {self.vertex(3)}]\""
   ]
  },
  {
   "cell_type": "code",
   "execution_count": 22,
   "metadata": {},
   "outputs": [
    {
     "name": "stdout",
     "output_type": "stream",
     "text": [
      "(2, 3)\n",
      "[(2, 3), (0, 0)]\n",
      "(3.5, 1.75)\n",
      "[(0, 0), (5, 0.5), (2, 3)]\n"
     ]
    }
   ],
   "source": [
    "a = Triangle([(0,0), (5, 0.5), (2,3)])\n",
    "print(a)\n",
    "print(a.vertex(3))\n",
    "print((a.side(3)))\n",
    "print(a.midpoint(2))\n",
    "#a.show()"
   ]
  },
  {
   "cell_type": "code",
   "execution_count": 57,
   "metadata": {},
   "outputs": [],
   "source": [
    "import matplotlib.pyplot as plt\n",
    "\n",
    "class Square():\n",
    "\n",
    "    def __init__(self, C, l):\n",
    "        if(isinstance(C, tuple) and len(C) == 2):\n",
    "            pass\n",
    "        else: \n",
    "            raise(Exception('Has to be a tuple'))\n",
    "    \n",
    "        self.__C = C\n",
    "        self.__V = [((C[0] - l/2), (C[1] - l/2)), \\\n",
    "            ((C[0] + l/2), (C[1] -l/2)), \\\n",
    "            (C[0] + l/2, C[1] + l/2), \\\n",
    "            (C[0] -l/2, C[1] +l/2)]\n",
    "\n",
    "    def vertex(self, n):\n",
    "        return self.__V[n%4 - 1]\n",
    "\n",
    "    def sideLength(self):\n",
    "        return abs(self.__V[0][0] - self.__V[1][0])\n",
    "\n",
    "    def show(self, color = 'k'):\n",
    "        plt.fill([x for x, y in self.__V], [y for x, y in self.__V], color)\n",
    "    \n",
    "    def __str__(self):\n",
    "        return str(self.__V)\n",
    "    "
   ]
  },
  {
   "cell_type": "code",
   "execution_count": 58,
   "metadata": {},
   "outputs": [
    {
     "name": "stdout",
     "output_type": "stream",
     "text": [
      "(0.5, 0.5)\n",
      "1.0\n",
      "[(-0.5, -0.5), (0.5, -0.5), (0.5, 0.5), (-0.5, 0.5)]\n"
     ]
    },
    {
     "data": {
      "image/png": "[encoded data removed]",
      "text/plain": [
       "<Figure size 640x480 with 1 Axes>"
      ]
     },
     "metadata": {},
     "output_type": "display_data"
    }
   ],
   "source": [
    "##Test Case\n",
    "\n",
    "b = Square((0,0), 1)\n",
    "print(b.vertex(3))\n",
    "print(b.sideLength())\n",
    "print(b)\n",
    "b.show()"
   ]
  },
  {
   "cell_type": "code",
   "execution_count": 59,
   "metadata": {},
   "outputs": [],
   "source": [
    "#Question 2\n",
    "\n",
    "def T_Square(sq, n):\n",
    "    if( n == 0):\n",
    "        sq.show()\n",
    "    else:\n",
    "        sq.show()\n",
    "        for i in range(1,5):\n",
    "            T_Square(Square(sq.vertex(i), sq.sideLength()/2), n-1)"
   ]
  },
  {
   "cell_type": "code",
   "execution_count": 60,
   "metadata": {},
   "outputs": [
    {
     "data": {
      "image/png": "[encoded data removed]",
      "text/plain": [
       "<Figure size 640x480 with 1 Axes>"
      ]
     },
     "metadata": {},
     "output_type": "display_data"
    }
   ],
   "source": [
    "T_Square(b, 4)\n"
   ]
  },
  {
   "cell_type": "code",
   "execution_count": null,
   "metadata": {},
   "outputs": [],
   "source": []
  }
 ],
 "metadata": {
  "kernelspec": {
   "display_name": "Python 3.10.7 64-bit",
   "language": "python",
   "name": "python3"
  },
  "language_info": {
   "codemirror_mode": {
    "name": "ipython",
    "version": 3
   },
   "file_extension": ".py",
   "mimetype": "text/x-python",
   "name": "python",
   "nbconvert_exporter": "python",
   "pygments_lexer": "ipython3",
   "version": "3.10.7"
  },
  "orig_nbformat": 4,
  "vscode": {
   "interpreter": {
    "hash": "aee8b7b246df8f9039afb4144a1f6fd8d2ca17a180786b69acc140d282b71a49"
   }
  }
 },
 "nbformat": 4,
 "nbformat_minor": 2
}
