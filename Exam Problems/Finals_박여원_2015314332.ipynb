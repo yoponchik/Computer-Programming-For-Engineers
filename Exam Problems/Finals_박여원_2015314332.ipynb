{
 "cells": [
  {
   "cell_type": "code",
   "execution_count": 106,
   "metadata": {},
   "outputs": [],
   "source": [
    "import numpy as np\n",
    "import matplotlib.pyplot as plt\n",
    "from scipy import optimize\n",
    "from scipy.stats import qmc\n",
    "import pickle \n",
    "import json\n",
    "import random\n"
   ]
  },
  {
   "cell_type": "code",
   "execution_count": 120,
   "metadata": {},
   "outputs": [],
   "source": [
    "#Question 1\n",
    "\n",
    "#Get Random Numbers\n",
    "def Random(n):\n",
    "    NSimulations = n\n",
    "    NSamples = 1000\n",
    "\n",
    "    P = []\n",
    "\n",
    "    for i in range(NSimulations):\n",
    "        numbers = np.linspace(0,1,NSamples)             \n",
    "        randomNumbers = random.shuffle(numbers)                   #randomize indices         \n",
    "        k1 = random.randrange(0,1000)               #pick 0,1 or 2\n",
    "        k2 = random.randrange(0,1000)               \n",
    "\n",
    "\n",
    "        x1 = randomNumbers[k1]\n",
    "        x2 = randomNumbers[k2]\n",
    "        \n",
    "        print(x1)\n",
    "        print(x2)\n",
    "\n",
    "        j = 0\n",
    "        for k in randomNumbers:\n",
    "            if 0.5 > x1 + x2> 1.5:\n",
    "                j +=1\n",
    "\n",
    "        P.append(j/NSamples)\n",
    "\n",
    "    print(np.average(P))"
   ]
  },
  {
   "cell_type": "code",
   "execution_count": 121,
   "metadata": {},
   "outputs": [
    {
     "ename": "TypeError",
     "evalue": "'NoneType' object is not subscriptable",
     "output_type": "error",
     "traceback": [
      "\u001b[0;31m---------------------------------------------------------------------------\u001b[0m",
      "\u001b[0;31mTypeError\u001b[0m                                 Traceback (most recent call last)",
      "Cell \u001b[0;32mIn [121], line 2\u001b[0m\n\u001b[1;32m      1\u001b[0m \u001b[38;5;66;03m#Question 1 Solution\u001b[39;00m\n\u001b[0;32m----> 2\u001b[0m \u001b[43mRandom\u001b[49m\u001b[43m(\u001b[49m\u001b[38;5;241;43m1000\u001b[39;49m\u001b[43m)\u001b[49m\n",
      "Cell \u001b[0;32mIn [120], line 17\u001b[0m, in \u001b[0;36mRandom\u001b[0;34m(n)\u001b[0m\n\u001b[1;32m     13\u001b[0m k1 \u001b[38;5;241m=\u001b[39m random\u001b[38;5;241m.\u001b[39mrandrange(\u001b[38;5;241m0\u001b[39m,\u001b[38;5;241m1000\u001b[39m)               \u001b[38;5;66;03m#pick 0,1 or 2\u001b[39;00m\n\u001b[1;32m     14\u001b[0m k2 \u001b[38;5;241m=\u001b[39m random\u001b[38;5;241m.\u001b[39mrandrange(\u001b[38;5;241m0\u001b[39m,\u001b[38;5;241m1000\u001b[39m)               \n\u001b[0;32m---> 17\u001b[0m x1 \u001b[38;5;241m=\u001b[39m \u001b[43mrandomNumbers\u001b[49m\u001b[43m[\u001b[49m\u001b[43mk1\u001b[49m\u001b[43m]\u001b[49m\n\u001b[1;32m     18\u001b[0m x2 \u001b[38;5;241m=\u001b[39m randomNumbers[k2]\n\u001b[1;32m     20\u001b[0m \u001b[38;5;28mprint\u001b[39m(x1)\n",
      "\u001b[0;31mTypeError\u001b[0m: 'NoneType' object is not subscriptable"
     ]
    }
   ],
   "source": [
    "#Question 1 Solution\n",
    "Random(1000)\n",
    "\n"
   ]
  },
  {
   "cell_type": "code",
   "execution_count": 92,
   "metadata": {},
   "outputs": [],
   "source": [
    "#Question 2\n",
    "def draw(n):\n",
    "    a = plt.Circle((0,0))\n",
    "    plt.show()\n",
    "    #???"
   ]
  },
  {
   "cell_type": "code",
   "execution_count": 77,
   "metadata": {},
   "outputs": [],
   "source": [
    "a = plt.Circle((0,0))\n"
   ]
  },
  {
   "cell_type": "code",
   "execution_count": 62,
   "metadata": {},
   "outputs": [],
   "source": [
    "#Question 3\n",
    "class Triangle():\n",
    "\n",
    "    def __init__(self,a,b,c):\n",
    "        if (a + b > c) and (a + c > b) and (c + b > a):\n",
    "            pass\n",
    "        else:\n",
    "            raise(Exception('Side lengths are not valid.'))\n",
    "\n",
    "        self.a = a\n",
    "        self.b = b\n",
    "        self.c = c\n",
    "\n",
    "    def sides(self):\n",
    "        self.__sides = [self.a, self.b, self.c]\n",
    "\n",
    "        return self.__sides\n",
    "\n",
    "    def perimeter(self):\n",
    "        \n",
    "        return self.a +  self.b + self.c\n",
    "\n",
    "    def area(self):\n",
    "        s = self.perimeter()/2\n",
    "\n",
    "        A = np.sqrt(s * (s - self.a)*(s - self.b)*(s - self.c))\n",
    "\n",
    "        return A\n",
    "\n",
    "    def __str__(self):\n",
    "        prompt = 'Triangle, sides: '\n",
    "        return prompt + str(self.__sides)"
   ]
  },
  {
   "cell_type": "code",
   "execution_count": 63,
   "metadata": {},
   "outputs": [
    {
     "name": "stdout",
     "output_type": "stream",
     "text": [
      "[3, 4, 5]\n",
      "12\n",
      "6.0\n",
      "Triangle, sides: [3, 4, 5]\n"
     ]
    }
   ],
   "source": [
    "#Question 3 Solution\n",
    "\n",
    "a = Triangle(3,4,5)\n",
    "print(a.sides())\n",
    "print(a.perimeter())\n",
    "print(a.area())\n",
    "print(a)\n",
    "#b = Triangle(4,1,1)\n"
   ]
  },
  {
   "cell_type": "code",
   "execution_count": 64,
   "metadata": {},
   "outputs": [],
   "source": [
    "#Question 4\n",
    "\n",
    "class Isosceles(Triangle):\n",
    "    \n",
    "    def __init__(self, a, b, c):\n",
    "        \n",
    "        super().__init__(a, b, c)\n",
    "\n",
    "        #Check if isosceles\n",
    "        if ((self.a == self.b) and (self.a + self.b) > self.c) \\\n",
    "            or ((self.b == self.c) and (self.b + self.c) > self.a) \\\n",
    "            or ((self.a == self.c) and (self.a + self.c > self.b)):\n",
    "            pass\n",
    "            \n",
    "        else:\n",
    "            raise(Exception('Side lengths are not valid.'))\n",
    "\n",
    "\n"
   ]
  },
  {
   "cell_type": "code",
   "execution_count": 65,
   "metadata": {},
   "outputs": [
    {
     "name": "stdout",
     "output_type": "stream",
     "text": [
      "[4, 3, 4]\n",
      "11\n",
      "5.562148865321747\n",
      "Triangle, sides: [4, 3, 4]\n"
     ]
    }
   ],
   "source": [
    "#Question 4 Solution\n",
    "\n",
    "c = Isosceles(4,3,4)\n",
    "print(c.sides())\n",
    "print(c.perimeter())\n",
    "print(c.area())\n",
    "print(c)\n",
    "\n",
    "#d = Isosceles(3,4,5)\n"
   ]
  }
 ],
 "metadata": {
  "kernelspec": {
   "display_name": "Python 3.10.7 64-bit",
   "language": "python",
   "name": "python3"
  },
  "language_info": {
   "codemirror_mode": {
    "name": "ipython",
    "version": 3
   },
   "file_extension": ".py",
   "mimetype": "text/x-python",
   "name": "python",
   "nbconvert_exporter": "python",
   "pygments_lexer": "ipython3",
   "version": "3.10.7"
  },
  "orig_nbformat": 4,
  "vscode": {
   "interpreter": {
    "hash": "aee8b7b246df8f9039afb4144a1f6fd8d2ca17a180786b69acc140d282b71a49"
   }
  }
 },
 "nbformat": 4,
 "nbformat_minor": 2
}
