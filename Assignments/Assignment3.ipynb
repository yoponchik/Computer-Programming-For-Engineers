{
 "cells": [
  {
   "cell_type": "code",
   "execution_count": 1,
   "metadata": {},
   "outputs": [],
   "source": [
    "import numpy as np"
   ]
  },
  {
   "cell_type": "code",
   "execution_count": 22,
   "metadata": {},
   "outputs": [
    {
     "name": "stdout",
     "output_type": "stream",
     "text": [
      "[ 9.42477796 37.69911184 84.82300165]\n"
     ]
    }
   ],
   "source": [
    "#1\n",
    "#Let r1 and r2 be the radius of circles with the same center and let r2>r1. Write a function my_donut_area(r1, r2), where the output is the area outside of the circle with radius r1 and inside the circle with radius r2. Make sure that the function is vectorized. Assume that r1 and r2 are one-dimensional array of the same size.\n",
    "#Test Case\n",
    "# In: my_donut_area(np,.arange(1,4)), np.arange(2,7,2)\n",
    "# Out: array([9.4248, 37.6991,84.8230])\n",
    "\n",
    "def my_donut_area(r1,r2):\n",
    "    area = 0\n",
    "    if(r1.shape != r2.shape):                   #matrices of the radii are not of the same dimension\n",
    "        print(\"Input radii don't have the same dimension\")\n",
    "        return\n",
    "    elif (not all(r1 < r2)):                     #radius 1 greater than radius 2\n",
    "        print(\"R1 is greater than R2\")\n",
    "        return\n",
    "    else:                                       #if all conditions are met\n",
    "        area = np.pi * (r2**2 - r1**2)          #calculate area\n",
    "    return area\n",
    "\n",
    "r1 = np.arange(1,4)\n",
    "r2 = np.arange(2,7,2)\n",
    "print(my_donut_area(r1,r2))"
   ]
  },
  {
   "cell_type": "code",
   "execution_count": 24,
   "metadata": {},
   "outputs": [
    {
     "name": "stdout",
     "output_type": "stream",
     "text": [
      "[1, 2]\n",
      "[47, 48, 49, 50, 51, 52]\n"
     ]
    }
   ],
   "source": [
    "#2\n",
    "#???\n",
    "#Write a function my_within_tolerance(A,a,tol), where the output is an array or list of the indices in A such that |A−a|<tol. Assume that A is a one-dimensional float list or array and that a and tol are 1 by 1 floats.\n",
    "#Test Case\n",
    "#In: my_within_tolerance([0,1,2,3], 1.5,0.75)\n",
    "#Out: [1,2]\n",
    "#In: my_within_tolerance(np.arange(0,1.01,0.01), 0.5, 0.03)\n",
    "#Out: [47,48,49,50,51,52]\n",
    "\n",
    "def my_within_tolerance(A,a,tol):\n",
    "    myList = []\n",
    "    for i in range(len(A)):\n",
    "        if(np.abs(A[i] - a) < tol):\n",
    "            myList.append(i)\n",
    "    return myList\n",
    "\n",
    "print(my_within_tolerance([0,1,2,3], 1.5,0.75))\n",
    "print(my_within_tolerance(np.arange(0,1.01,0.01), 0.5, 0.03))\n"
   ]
  },
  {
   "cell_type": "code",
   "execution_count": 27,
   "metadata": {},
   "outputs": [
    {
     "name": "stdout",
     "output_type": "stream",
     "text": [
      "16.3935\n",
      "19.6722\n",
      "21.858000000000004\n",
      "27.3225\n"
     ]
    }
   ],
   "source": [
    "#3\n",
    "#Write a function my_tip_calc(bill, party), where bill is the total cost of a meal and party is the number of people in the group. The tip should be calculated as 15% for a party strictly less than six people, 18% for a party strictly less than eight, 20% for a party less than 11, and 25% for a party 11 or more. A couple of test cases are given below.\n",
    "#Test Case\n",
    "#t = my_tip_calc(109.29, 3)\n",
    "#t = 16.3935\n",
    "#t = my_tip_calc(109.29, 7)\n",
    "#t = 19.6722\n",
    "#t = my_tip_calc(109.29, 9)\n",
    "#t = 21.8580\n",
    "#t = my_tip_calc(109.29, 12)\n",
    "#t = 27.3225\n",
    "\n",
    "def my_tip_calc(bill, party):\n",
    "    tip = 0\n",
    "    if party < 6:\n",
    "        tip = bill * 0.15\n",
    "    elif party < 8:\n",
    "        tip = bill * 0.18\n",
    "    elif party < 11:\n",
    "        tip = bill * 0.2\n",
    "    elif party >= 11:\n",
    "        tip = bill * 0.25\n",
    "    \n",
    "    return tip\n",
    "print(my_tip_calc(109.29,3))\n",
    "print(my_tip_calc(109.29,7))\n",
    "print(my_tip_calc(109.29,9))\n",
    "print(my_tip_calc(109.29,12))"
   ]
  },
  {
   "cell_type": "code",
   "execution_count": 28,
   "metadata": {},
   "outputs": [
    {
     "name": "stdout",
     "output_type": "stream",
     "text": [
      "border\n",
      "inside\n",
      "outside\n"
     ]
    }
   ],
   "source": [
    "#4\n",
    "#Consider a triangle with vertices at (0,0), (1,0), and (0,1). Write a function my_inside_triangle(x,y) where the output is the string ‘outside’ if the point (x,y) is outside of the triangle, ‘border’ if the point is exactly on the border of the triangle, and ‘inside’ if the point is on the inside of the triangle.\n",
    "#Test Case\n",
    "#print(my_inside_triangle(0.5,0.5))\n",
    "#print(my_inside_triangle(0.25,0.25))\n",
    "#print(my_inside_triangle(5,5))\n",
    "\n",
    "def my_inside_triangle(x,y):\n",
    "    output = ''\n",
    "\n",
    "    if x < 0 or y < 0:                      #under the triangle\n",
    "        output = 'outside'\n",
    "    elif(x + y > 1):                        #everywhere else outside the triangle\n",
    "        output = 'outside'\n",
    "    elif((x + y < 1)):                      #in the triangle \n",
    "        output = 'inside'\n",
    "    elif(x == 0 or y == 0):                 #on the border\n",
    "        output = 'border'\n",
    "    else:                                   #on the border\n",
    "        output = 'border'\n",
    "    return output\n",
    "\n",
    "print(my_inside_triangle(0.5,0.5))\n",
    "print(my_inside_triangle(0.25,0.25))\n",
    "print(my_inside_triangle(5,5))"
   ]
  },
  {
   "cell_type": "code",
   "execution_count": 39,
   "metadata": {},
   "outputs": [
    {
     "name": "stdout",
     "output_type": "stream",
     "text": [
      "15\n",
      "11\n",
      "21\n"
     ]
    }
   ],
   "source": [
    "#5\n",
    "#??\n",
    "#The interest, i, on a principle, P0, is a payment for allowing the bank to use your money. Compound interest is accumulated according to the formula Pn=(1+i)Pn−1, where n is the compounding period, usually in months or years. Write a function my_saving_plan(P0, i, goal) where the output is the number of years it will take P0 to become goal at i% interest compounded annually.\n",
    "#Test Case\n",
    "#my_saving_plan(1000, 0.05, 2000)\n",
    "#my_saving_plan(1000, 0.07, 2000)\n",
    "#my_saving_plan(500, 0.07, 2000)\n",
    "\n",
    "def my_saving_plan(P0, i, goal):                #P0 is initial value\n",
    "    Pn = P0\n",
    "    n = 0                                   #number of years passed\n",
    "    while Pn < goal:                        #since we don't know the # of iterations, we have to do it by goal\n",
    "        Pn *= (1 + i)                       #why no -1 in the end??\n",
    "        n += 1\n",
    "    return n\n",
    "\n",
    "print(my_saving_plan(1000, 0.05, 2000))\n",
    "print(my_saving_plan(1000, 0.07, 2000))\n",
    "print(my_saving_plan(500, 0.07, 2000))"
   ]
  },
  {
   "cell_type": "code",
   "execution_count": 42,
   "metadata": {},
   "outputs": [
    {
     "name": "stdout",
     "output_type": "stream",
     "text": [
      "1 is not a prime number\n",
      "2 is a prime number\n",
      "3 is a prime number\n",
      "4 is not a prime number\n",
      "5 is a prime number\n",
      "6 is not a prime number\n",
      "7 is a prime number\n",
      "8 is not a prime number\n",
      "9 is not a prime number\n",
      "10 is not a prime number\n"
     ]
    }
   ],
   "source": [
    "#6\n",
    "#A number is prime if it is divisible without remainder only by itself and 1. The number 1 is not prime. Write a function my_is_prime(n), where output is 1 if n is prime and 0 otherwise. Assume that n is a strictly positive integer.\n",
    "\n",
    "def my_is_prime(n):\n",
    "    if(n == 1):                             #base case\n",
    "        return 0\n",
    "    else:\n",
    "        i = 2\n",
    "        while(n/2 >= i):                    #start dividing from 2 and greater\n",
    "            if(n%i == 0):                   #if can't be divisible by itself\n",
    "                return 0                  #not prime    \n",
    "            i += 1\n",
    "        return 1\n",
    "\n",
    "for i in range(1,11):\n",
    "    # Ternary operator\n",
    "    print('%d is a prime number'%i) if my_is_prime(i) else print('%d is not a prime number'%i)"
   ]
  },
  {
   "cell_type": "code",
   "execution_count": null,
   "metadata": {},
   "outputs": [],
   "source": []
  }
 ],
 "metadata": {
  "kernelspec": {
   "display_name": "Python 3.10.7 64-bit",
   "language": "python",
   "name": "python3"
  },
  "language_info": {
   "codemirror_mode": {
    "name": "ipython",
    "version": 3
   },
   "file_extension": ".py",
   "mimetype": "text/x-python",
   "name": "python",
   "nbconvert_exporter": "python",
   "pygments_lexer": "ipython3",
   "version": "3.10.7"
  },
  "orig_nbformat": 4,
  "vscode": {
   "interpreter": {
    "hash": "aee8b7b246df8f9039afb4144a1f6fd8d2ca17a180786b69acc140d282b71a49"
   }
  }
 },
 "nbformat": 4,
 "nbformat_minor": 2
}
