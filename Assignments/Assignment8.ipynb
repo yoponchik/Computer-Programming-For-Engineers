{
 "cells": [
  {
   "cell_type": "code",
   "execution_count": 60,
   "metadata": {},
   "outputs": [
    {
     "name": "stdout",
     "output_type": "stream",
     "text": [
      "['0.2510370185036336\\n', '0.3100444135336451\\n', '0.13602256196148443\\n', '0.8007067894618835\\n', '0.7591728882514224\\n', '0.4599734051992552\\n', '0.31416601992096127\\n', '0.44669109277919905\\n', '0.5448288617829933\\n', '0.9623915957593268\\n']\n"
     ]
    }
   ],
   "source": [
    "#Question 1\n",
    "\n",
    "#Create a list and save it in a text file that each of the item in the list will take one line.\n",
    "import numpy as np\n",
    "data_1 = np.random.rand(10)\n",
    "\n",
    "f = open('Assignment_8_1.txt', 'w')\n",
    "\n",
    "for i in data_1: \n",
    "    f.write(f\"{i}\\n\")\n",
    "f.close()\n",
    "\n",
    "##print everything??\n",
    "f = open('./Assignment_8_1.txt', 'r')\n",
    "content = f.readlines()\n",
    "f.close()\n",
    "\n",
    "print(content)"
   ]
  },
  {
   "cell_type": "code",
   "execution_count": 61,
   "metadata": {},
   "outputs": [],
   "source": [
    "#Question 2\n",
    "#Save the same list in problem 1 to a CSV file.\n",
    "\n",
    "np.savetxt('Q2.csv', data_1, fmt = '%.2f')"
   ]
  },
  {
   "cell_type": "code",
   "execution_count": 62,
   "metadata": {},
   "outputs": [
    {
     "name": "stdout",
     "output_type": "stream",
     "text": [
      "[[0.94 0.3  0.01 0.41 0.69]\n",
      " [0.45 0.17 0.32 0.04 0.26]\n",
      " [0.24 0.43 0.9  0.07 0.93]\n",
      " [0.75 0.83 0.38 0.35 0.48]\n",
      " [0.45 0.83 0.75 0.62 0.77]]\n"
     ]
    }
   ],
   "source": [
    "#Question #3\n",
    "# Create a 2D numpy array, and save it to CSV file and read it back to a 2D array.\n",
    "\n",
    "\n",
    "#getting numbers\n",
    "def getNumbers(str_1):\n",
    "    numbers = []\n",
    "    tmp = ''\n",
    "\n",
    "    for i in range(len(str_1)):\n",
    "        #Extract numbers; any digit or point is part of the number\n",
    "        if str_1[i].isdigit() or str_1[i]== '.':\n",
    "            tmp += str_1[i]\n",
    "        \n",
    "        # Joining the obtained characters, if available, at each space or comma\n",
    "        if (str_1[i]==' ' or str_1[i] == ',' or i==len(str_1)-1) and len(tmp):\n",
    "            numbers.append(float(tmp))\n",
    "            tmp=''\n",
    "            \n",
    "    return numbers\n",
    "\n",
    "\n",
    "array_1 = np.random.rand(5,5)\n",
    "np.savetxt('Q3.csv', array_1, fmt = '%.2f', delimiter=',', header = 'c1,c2,c3,c4,c5')\n",
    "\n",
    "f = open('Q3.csv', 'r')\n",
    "content = f.readlines()\n",
    "f.close()\n",
    "\n",
    "\n",
    "data = []\n",
    "for i in content[1:]:\n",
    "    data.append(getNumbers(i))\n",
    "\n",
    "data = np.array(data)\n",
    "print(data)\n"
   ]
  },
  {
   "cell_type": "code",
   "execution_count": 63,
   "metadata": {},
   "outputs": [
    {
     "name": "stdout",
     "output_type": "stream",
     "text": [
      "[0.48814992 0.76595721 0.24207278 0.68023563 0.32150273 0.20105379\n",
      " 0.30066533 0.42518267 0.38191042 0.97129206]\n"
     ]
    }
   ],
   "source": [
    "#Question 4\n",
    "##Save the same array in problem 2 to a pickle file and load it back\n",
    "\n",
    "import pickle \n",
    "f2 = open('Q4.pkl', 'wb')\n",
    "pickle.dump(data_1, f2)\n",
    "f2.close\n",
    "\n",
    "f3 = open('./Q4.pkl', 'rb')\n",
    "my_data_1 = pickle.load(f3)\n",
    "f3.close()\n",
    "print(my_data_1)"
   ]
  },
  {
   "cell_type": "code",
   "execution_count": 8,
   "metadata": {},
   "outputs": [
    {
     "name": "stdout",
     "output_type": "stream",
     "text": [
      "John Doe\n"
     ]
    }
   ],
   "source": [
    "#Question 5\n",
    "##Create a dictionary and save it to a JSON file\n",
    "\n",
    "import json\n",
    "\n",
    "my_data_2 = {\n",
    "    'firstName': ['John', 'Anna', 'Peter'], \n",
    "    'lastName': ['Doe', 'Smith', 'Jones']\n",
    "}\n",
    "\n",
    "print(my_data_2['firstName'][0]+' ' + my_data_2['lastName'][0])\n",
    "\n",
    "f4 = open('Q5.json', 'w')\n",
    "json.dump(my_data_2, f4)"
   ]
  },
  {
   "cell_type": "code",
   "execution_count": 9,
   "metadata": {},
   "outputs": [
    {
     "name": "stdout",
     "output_type": "stream",
     "text": [
      "[0.7824083902672243, 0.7955538806284347, 0.982516552256808, 0.8122395349793721, 0.7713140446319796]\n"
     ]
    }
   ],
   "source": [
    "#Question 6\n",
    "##Create a 1D numpy array and save it to a JSON file with the key named 'data'. Then load it back. \n",
    "array_2 = np.random.rand(5)\n",
    "my_data_2 = {'data': list(array_2)}\n",
    "\n",
    "f5 = open('Q6.json', 'w')\n",
    "json.dump(my_data_2, f5)\n",
    "f5.close()\n",
    "\n",
    "f6 = open('./Q6.json', 'r')\n",
    "my_data_3 = json.load(f6)\n",
    "f6.close()\n",
    "print(my_data_3['data'])"
   ]
  }
 ],
 "metadata": {
  "kernelspec": {
   "display_name": "Python 3.10.7 64-bit",
   "language": "python",
   "name": "python3"
  },
  "language_info": {
   "codemirror_mode": {
    "name": "ipython",
    "version": 3
   },
   "file_extension": ".py",
   "mimetype": "text/x-python",
   "name": "python",
   "nbconvert_exporter": "python",
   "pygments_lexer": "ipython3",
   "version": "3.10.7"
  },
  "orig_nbformat": 4,
  "vscode": {
   "interpreter": {
    "hash": "aee8b7b246df8f9039afb4144a1f6fd8d2ca17a180786b69acc140d282b71a49"
   }
  }
 },
 "nbformat": 4,
 "nbformat_minor": 2
}
