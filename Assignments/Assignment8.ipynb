{
 "cells": [
  {
   "cell_type": "code",
   "execution_count": 4,
   "metadata": {},
   "outputs": [
    {
     "name": "stdout",
     "output_type": "stream",
     "text": [
      "['0.5963110378508577\\n', '0.859351175295493\\n', '0.4483582599229702\\n', '0.16933523568641484\\n', '0.018255833709921676\\n', '0.3394288391433403\\n', '0.8138031895771609\\n', '0.38449082795579714\\n', '0.6116687535985963\\n', '0.874009402779976\\n']\n"
     ]
    }
   ],
   "source": [
    "#Question 1\n",
    "\n",
    "#Create a list and save it in a text file that each of the item in the list will take one line.\n",
    "import numpy as np\n",
    "data = np.random.rand(10)\n",
    "\n",
    "f = open('Assignment_8_1.txt', 'w')\n",
    "\n",
    "#for i in range(len(data)):\n",
    "    #f.write(str(data[i]))\n",
    "    #f.write(\"\\n\")\n",
    "    #or\n",
    "    #f.write(str(data[i]) + (\"\\n\"))\n",
    "\n",
    "for i in data: \n",
    "    f.write(f\"{i}\\n\")\n",
    "f.close()\n",
    "\n",
    "##print everything??\n",
    "f = open('./Assignment_8_1.txt', 'r')\n",
    "content = f.readlines()\n",
    "f.close()\n",
    "\n",
    "print(content)\n",
    "#np.savetxt('Assignment_8_1.txt', data, fmt = '%.2f')"
   ]
  },
  {
   "cell_type": "code",
   "execution_count": 5,
   "metadata": {},
   "outputs": [
    {
     "name": "stdout",
     "output_type": "stream",
     "text": [
      "[[0.65340651 0.77324413 0.40899103 0.39769466 0.11084571]\n",
      " [0.46108744 0.4744068  0.12785537 0.00454008 0.8624204 ]\n",
      " [0.7925325  0.94206165 0.4485098  0.79536396 0.15910558]\n",
      " [0.27782369 0.41668428 0.92523173 0.0443801  0.17659366]\n",
      " [0.7840601  0.87095802 0.18788335 0.02345101 0.51296653]]\n"
     ]
    },
    {
     "ename": "TypeError",
     "evalue": "string indices must be integers",
     "output_type": "error",
     "traceback": [
      "\u001b[0;31m---------------------------------------------------------------------------\u001b[0m",
      "\u001b[0;31mTypeError\u001b[0m                                 Traceback (most recent call last)",
      "Cell \u001b[0;32mIn [5], line 16\u001b[0m\n\u001b[1;32m     14\u001b[0m \u001b[38;5;28;01mfor\u001b[39;00m i \u001b[38;5;129;01min\u001b[39;00m \u001b[38;5;28mrange\u001b[39m(\u001b[38;5;241m1\u001b[39m, \u001b[38;5;28mlen\u001b[39m(content)):\n\u001b[1;32m     15\u001b[0m     \u001b[38;5;28;01mfor\u001b[39;00m j \u001b[38;5;129;01min\u001b[39;00m content[i]:\n\u001b[0;32m---> 16\u001b[0m         \u001b[38;5;28mprint\u001b[39m(\u001b[43mcontent\u001b[49m\u001b[43m[\u001b[49m\u001b[43mi\u001b[49m\u001b[43m]\u001b[49m\u001b[43m[\u001b[49m\u001b[43mj\u001b[49m\u001b[43m]\u001b[49m)\n",
      "\u001b[0;31mTypeError\u001b[0m: string indices must be integers"
     ]
    }
   ],
   "source": [
    "#Question 2\n",
    "\n",
    "array_1 = np.random.rand(5,5)                   #Create 2d nummpy array\n",
    "print(array_1)\n",
    "np.savetxt('Q2.csv', array_1, fmt = '%.2f', delimiter = ',', header= 'c1,c2,c3,c4,c5')\n",
    "\n",
    "f = open('Q2.csv','r')\n",
    "#to put into an array or list, need to iterate through it; readlines() allows us to put it into list, which makes indices accessible through loops\n",
    "content = f.readlines()                         #put into list line by line\n",
    "f.close()\n",
    "\n",
    "data = []                               #empty array\n",
    "temp = ''\n",
    "for i in range(1, len(content)):\n",
    "    for j in content[i]:\n",
    "        print(content[i][j])\n",
    "        #if content[i][j].isdigit() or content[i] == '.':"
   ]
  },
  {
   "cell_type": "code",
   "execution_count": 1,
   "metadata": {},
   "outputs": [
    {
     "ename": "NameError",
     "evalue": "name 'f' is not defined",
     "output_type": "error",
     "traceback": [
      "\u001b[0;31m---------------------------------------------------------------------------\u001b[0m",
      "\u001b[0;31mNameError\u001b[0m                                 Traceback (most recent call last)",
      "Cell \u001b[0;32mIn [1], line 8\u001b[0m\n\u001b[1;32m      6\u001b[0m \u001b[38;5;28;01mfor\u001b[39;00m i \u001b[38;5;129;01min\u001b[39;00m \u001b[38;5;28mrange\u001b[39m(\u001b[38;5;28mlen\u001b[39m(list_1)):\n\u001b[1;32m      7\u001b[0m     \u001b[38;5;28;01mfor\u001b[39;00m j \u001b[38;5;129;01min\u001b[39;00m \u001b[38;5;28mrange\u001b[39m(\u001b[38;5;28mlen\u001b[39m(list_1[i])):\n\u001b[0;32m----> 8\u001b[0m         \u001b[43mf\u001b[49m\u001b[38;5;241m.\u001b[39mwrite(\u001b[38;5;28mstr\u001b[39m(list_1[i][j]) \u001b[38;5;241m+\u001b[39m \u001b[38;5;124m\"\u001b[39m\u001b[38;5;124m,\u001b[39m\u001b[38;5;124m\"\u001b[39m)\n\u001b[1;32m      9\u001b[0m         f\u001b[38;5;241m.\u001b[39mwrite(\u001b[38;5;124m\"\u001b[39m\u001b[38;5;130;01m\\n\u001b[39;00m\u001b[38;5;124m\"\u001b[39m)\n\u001b[1;32m     10\u001b[0m f\u001b[38;5;241m.\u001b[39mclose()\n",
      "\u001b[0;31mNameError\u001b[0m: name 'f' is not defined"
     ]
    }
   ],
   "source": [
    "#Question 3\n",
    "\n",
    "#Save a nested list into a CSV file \n",
    "list_1 = [[\"A\", \"B\", \"C\"], [\"D\", \"E\", \"F\"]]\n",
    "\n",
    "for i in range(len(list_1)):\n",
    "    for j in range(len(list_1[i])):\n",
    "        f.write(str(list_1[i][j]) + \",\")\n",
    "        f.write(\"\\n\")\n",
    "f.close()\n",
    "asf\n",
    "#Print it back as a 2D numpy array"
   ]
  },
  {
   "cell_type": "code",
   "execution_count": 2,
   "metadata": {},
   "outputs": [
    {
     "ename": "EOFError",
     "evalue": "Ran out of input",
     "output_type": "error",
     "traceback": [
      "\u001b[0;31m---------------------------------------------------------------------------\u001b[0m",
      "\u001b[0;31mEOFError\u001b[0m                                  Traceback (most recent call last)",
      "Cell \u001b[0;32mIn [2], line 10\u001b[0m\n\u001b[1;32m      7\u001b[0m f2\u001b[38;5;241m.\u001b[39mclose\n\u001b[1;32m      9\u001b[0m f3 \u001b[38;5;241m=\u001b[39m \u001b[38;5;28mopen\u001b[39m(\u001b[38;5;124m'\u001b[39m\u001b[38;5;124m./Q4.pkl\u001b[39m\u001b[38;5;124m'\u001b[39m, \u001b[38;5;124m'\u001b[39m\u001b[38;5;124mrb\u001b[39m\u001b[38;5;124m'\u001b[39m)\n\u001b[0;32m---> 10\u001b[0m my_data_1 \u001b[38;5;241m=\u001b[39m \u001b[43mpickle\u001b[49m\u001b[38;5;241;43m.\u001b[39;49m\u001b[43mload\u001b[49m\u001b[43m(\u001b[49m\u001b[43mf3\u001b[49m\u001b[43m)\u001b[49m\n\u001b[1;32m     11\u001b[0m f3\u001b[38;5;241m.\u001b[39mclose()\n\u001b[1;32m     12\u001b[0m \u001b[38;5;28mprint\u001b[39m(my_data_1)\n",
      "\u001b[0;31mEOFError\u001b[0m: Ran out of input"
     ]
    }
   ],
   "source": [
    "#Question 4\n",
    "##Save the same array in problem 2 to a pickle file and load it back\n",
    "\n",
    "import pickle \n",
    "f2 = open('Q4.pkl', 'wb')\n",
    "pickle.dump(list_1, f2)\n",
    "f2.close\n",
    "\n",
    "f3 = open('./Q4.pkl', 'rb')\n",
    "my_data_1 = pickle.load(f3)\n",
    "f3.close()\n",
    "print(my_data_1)"
   ]
  },
  {
   "cell_type": "code",
   "execution_count": 8,
   "metadata": {},
   "outputs": [
    {
     "name": "stdout",
     "output_type": "stream",
     "text": [
      "John Doe\n"
     ]
    }
   ],
   "source": [
    "#Question 5\n",
    "##Create a dictionary and save it to a JSON file\n",
    "\n",
    "import json\n",
    "\n",
    "my_data_2 = {\n",
    "    'firstName': ['John', 'Anna', 'Peter'], \n",
    "    'lastName': ['Doe', 'Smith', 'Jones']\n",
    "}\n",
    "\n",
    "print(my_data_2['firstName'][0]+' ' + my_data_2['lastName'][0])\n",
    "\n",
    "f4 = open('Q5.json', 'w')\n",
    "json.dump(my_data_2, f4)"
   ]
  },
  {
   "cell_type": "code",
   "execution_count": 9,
   "metadata": {},
   "outputs": [
    {
     "name": "stdout",
     "output_type": "stream",
     "text": [
      "[0.7824083902672243, 0.7955538806284347, 0.982516552256808, 0.8122395349793721, 0.7713140446319796]\n"
     ]
    }
   ],
   "source": [
    "#Question 6\n",
    "##Create a 1D numpy array and save it to a JSON file with the key named 'data'. Then load it back. \n",
    "array_2 = np.random.rand(5)\n",
    "my_data_2 = {'data': list(array_2)}\n",
    "\n",
    "f5 = open('Q6.json', 'w')\n",
    "json.dump(my_data_2, f5)\n",
    "f5.close()\n",
    "\n",
    "f6 = open('./Q6.json', 'r')\n",
    "my_data_3 = json.load(f6)\n",
    "f6.close()\n",
    "print(my_data_3['data'])"
   ]
  }
 ],
 "metadata": {
  "kernelspec": {
   "display_name": "Python 3.10.7 64-bit",
   "language": "python",
   "name": "python3"
  },
  "language_info": {
   "codemirror_mode": {
    "name": "ipython",
    "version": 3
   },
   "file_extension": ".py",
   "mimetype": "text/x-python",
   "name": "python",
   "nbconvert_exporter": "python",
   "pygments_lexer": "ipython3",
   "version": "3.10.7"
  },
  "orig_nbformat": 4,
  "vscode": {
   "interpreter": {
    "hash": "aee8b7b246df8f9039afb4144a1f6fd8d2ca17a180786b69acc140d282b71a49"
   }
  }
 },
 "nbformat": 4,
 "nbformat_minor": 2
}
