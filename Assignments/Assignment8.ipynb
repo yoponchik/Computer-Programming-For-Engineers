{
 "cells": [
  {
   "cell_type": "code",
   "execution_count": 3,
   "metadata": {},
   "outputs": [
    {
     "ename": "TypeError",
     "evalue": "string indices must be integers",
     "output_type": "error",
     "traceback": [
      "\u001b[0;31m---------------------------------------------------------------------------\u001b[0m",
      "\u001b[0;31mTypeError\u001b[0m                                 Traceback (most recent call last)",
      "Cell \u001b[0;32mIn [3], line 18\u001b[0m\n\u001b[1;32m     16\u001b[0m content \u001b[38;5;241m=\u001b[39m f\u001b[38;5;241m.\u001b[39mreadlines()\n\u001b[1;32m     17\u001b[0m \u001b[38;5;28;01mfor\u001b[39;00m i \u001b[38;5;129;01min\u001b[39;00m \u001b[38;5;28mrange\u001b[39m(\u001b[38;5;28mlen\u001b[39m(content)):\n\u001b[0;32m---> 18\u001b[0m     myList[i] \u001b[38;5;241m=\u001b[39m \u001b[38;5;28mfloat\u001b[39m(\u001b[43mcontent\u001b[49m\u001b[43m[\u001b[49m\u001b[43mi\u001b[49m\u001b[43m]\u001b[49m\u001b[43m[\u001b[49m\u001b[43m:\u001b[49m\u001b[43m,\u001b[49m\u001b[43m \u001b[49m\u001b[38;5;241;43m-\u001b[39;49m\u001b[38;5;241;43m1\u001b[39;49m\u001b[43m]\u001b[49m)\n\u001b[1;32m     19\u001b[0m f\u001b[38;5;241m.\u001b[39mclose()\n\u001b[1;32m     20\u001b[0m \u001b[38;5;28mprint\u001b[39m(myList)\n",
      "\u001b[0;31mTypeError\u001b[0m: string indices must be integers"
     ]
    }
   ],
   "source": [
    "#Create a list and save it in a text file that each of the item in the list will take one line.\n",
    "import numpy as np\n",
    "data = np.random.random(5)\n",
    "\n",
    "f = open('Assignment_8_1.txt', 'w')\n",
    "for i in range(len(data)):\n",
    "    #f.write(str(data[i]))\n",
    "    #f.write(\"\\n\")\n",
    "    f.write(str(data[i]) + (\"\\n\"))\n",
    "f.close()\n",
    "\n",
    "\n",
    "##print everything??\n",
    "myList = []\n",
    "f = open('./Assignment_8_1.txt', 'r')\n",
    "content = f.readlines()\n",
    "for i in range(len(content)):\n",
    "    myList[i] = float(content[i][:, -1])\n",
    "f.close()\n",
    "print(myList)\n",
    "\n",
    "#np.savetxt('Assignment_8_1.txt', data, fmt = '%.2f')"
   ]
  },
  {
   "cell_type": "code",
   "execution_count": 40,
   "metadata": {},
   "outputs": [],
   "source": [
    "#Save the same list in problem 1 to a CSV file.\n",
    "list_1 = [[\"A\", \"B\", \"C\"], [\"D\", \"E\", \"F\"]]\n",
    "\n",
    "f = open('create_CSV.csv', 'w')\n",
    "for i in range(len(list_1)):\n",
    "    for j in range(len(list_1)):\n",
    "        f.write(str(list_1[i][j]) + \",\")\n",
    "        f.write(\"\\n\")\n",
    "f.close()\n"
   ]
  },
  {
   "cell_type": "code",
   "execution_count": null,
   "metadata": {},
   "outputs": [],
   "source": []
  }
 ],
 "metadata": {
  "kernelspec": {
   "display_name": "Python 3.10.7 64-bit",
   "language": "python",
   "name": "python3"
  },
  "language_info": {
   "codemirror_mode": {
    "name": "ipython",
    "version": 3
   },
   "file_extension": ".py",
   "mimetype": "text/x-python",
   "name": "python",
   "nbconvert_exporter": "python",
   "pygments_lexer": "ipython3",
   "version": "3.10.7"
  },
  "orig_nbformat": 4,
  "vscode": {
   "interpreter": {
    "hash": "aee8b7b246df8f9039afb4144a1f6fd8d2ca17a180786b69acc140d282b71a49"
   }
  }
 },
 "nbformat": 4,
 "nbformat_minor": 2
}
