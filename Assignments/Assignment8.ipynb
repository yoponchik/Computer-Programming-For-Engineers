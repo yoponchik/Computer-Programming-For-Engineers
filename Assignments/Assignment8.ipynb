{
 "cells": [
  {
   "cell_type": "code",
   "execution_count": 24,
   "metadata": {},
   "outputs": [
    {
     "name": "stdout",
     "output_type": "stream",
     "text": [
      "['0.29650279232114374\\n', '0.3226755565322108\\n', '0.41856736407579753\\n', '0.3158636037175647\\n', '0.0005463846722482124\\n', '0.48090009964827884\\n', '0.1160585774818722\\n', '0.08051998703709573\\n', '0.6341924350173526\\n', '0.8947059828832228\\n']\n"
     ]
    }
   ],
   "source": [
    "#Question 1\n",
    "\n",
    "#Create a list and save it in a text file that each of the item in the list will take one line.\n",
    "import numpy as np\n",
    "data = np.random.rand(10)\n",
    "\n",
    "f = open('Assignment_8_1.txt', 'w')\n",
    "\n",
    "#for i in range(len(data)):\n",
    "    #f.write(str(data[i]))\n",
    "    #f.write(\"\\n\")\n",
    "    #or\n",
    "    #f.write(str(data[i]) + (\"\\n\"))\n",
    "\n",
    "for i in data: \n",
    "    f.write(f\"{i}\\n\")\n",
    "f.close()\n",
    "\n",
    "##print everything??\n",
    "f = open('./Assignment_8_1.txt', 'r')\n",
    "content = f.readlines()\n",
    "f.close()\n",
    "\n",
    "print(content)\n",
    "#np.savetxt('Assignment_8_1.txt', data, fmt = '%.2f')"
   ]
  },
  {
   "cell_type": "code",
   "execution_count": 38,
   "metadata": {},
   "outputs": [
    {
     "name": "stdout",
     "output_type": "stream",
     "text": [
      "[[0.75795121 0.36757567 0.09871107 0.67410526 0.56706081]\n",
      " [0.679944   0.92013374 0.88070148 0.34257625 0.65565684]\n",
      " [0.17691458 0.86483593 0.92080843 0.59385336 0.65054759]\n",
      " [0.8502651  0.34153369 0.88971903 0.95683389 0.1227996 ]\n",
      " [0.01066048 0.73884527 0.15211885 0.36176142 0.02546905]]\n"
     ]
    },
    {
     "ename": "TypeError",
     "evalue": "string indices must be integers",
     "output_type": "error",
     "traceback": [
      "\u001b[0;31m---------------------------------------------------------------------------\u001b[0m",
      "\u001b[0;31mTypeError\u001b[0m                                 Traceback (most recent call last)",
      "Cell \u001b[0;32mIn [38], line 16\u001b[0m\n\u001b[1;32m     14\u001b[0m \u001b[38;5;28;01mfor\u001b[39;00m i \u001b[38;5;129;01min\u001b[39;00m \u001b[38;5;28mrange\u001b[39m(\u001b[38;5;241m1\u001b[39m, \u001b[38;5;28mlen\u001b[39m(content)):\n\u001b[1;32m     15\u001b[0m     \u001b[38;5;28;01mfor\u001b[39;00m j \u001b[38;5;129;01min\u001b[39;00m content[i]:\n\u001b[0;32m---> 16\u001b[0m         \u001b[38;5;28mprint\u001b[39m(\u001b[43mcontent\u001b[49m\u001b[43m[\u001b[49m\u001b[43mi\u001b[49m\u001b[43m]\u001b[49m\u001b[43m[\u001b[49m\u001b[43mj\u001b[49m\u001b[43m]\u001b[49m)\n",
      "\u001b[0;31mTypeError\u001b[0m: string indices must be integers"
     ]
    }
   ],
   "source": [
    "#Question 2\n",
    "\n",
    "array_1 = np.random.rand(5,5)                   #Create 2d nummpy array\n",
    "print(array_1)\n",
    "np.savetxt('Q2.csv', array_1, fmt = '%.2f', delimiter = ',', header= 'c1,c2,c3,c4,c5')\n",
    "\n",
    "f = open('Q2.csv','r')\n",
    "#to put into an array or list, need to iterate through it; readlines() allows us to put it into list, which makes indices accessible through loops\n",
    "content = f.readlines()                         #put into list line by line\n",
    "f.close()\n",
    "\n",
    "data = []                               #empty array\n",
    "temp = ''\n",
    "for i in range(1, len(content)):\n",
    "    for j in content[i]:\n",
    "        print(content[i][j])\n",
    "        #if content[i][j].isdigit() or content[i] == '.':"
   ]
  },
  {
   "cell_type": "code",
   "execution_count": 22,
   "metadata": {},
   "outputs": [],
   "source": [
    "#Question 3\n",
    "\n",
    "#Save a nested list into a CSV file \n",
    "list_1 = [[\"A\", \"B\", \"C\"], [\"D\", \"E\", \"F\"]]\n",
    "\n",
    "for i in range(len(list_1)):\n",
    "    for j in range(len(list_1[i])):\n",
    "        f.write(str(list_1[i][j]) + \",\")\n",
    "        f.write(\"\\n\")\n",
    "f.close()\n",
    "\n",
    "#Print it back as a 2D numpy array"
   ]
  },
  {
   "cell_type": "code",
   "execution_count": null,
   "metadata": {},
   "outputs": [],
   "source": []
  }
 ],
 "metadata": {
  "kernelspec": {
   "display_name": "Python 3.10.7 64-bit",
   "language": "python",
   "name": "python3"
  },
  "language_info": {
   "codemirror_mode": {
    "name": "ipython",
    "version": 3
   },
   "file_extension": ".py",
   "mimetype": "text/x-python",
   "name": "python",
   "nbconvert_exporter": "python",
   "pygments_lexer": "ipython3",
   "version": "3.10.7"
  },
  "orig_nbformat": 4,
  "vscode": {
   "interpreter": {
    "hash": "aee8b7b246df8f9039afb4144a1f6fd8d2ca17a180786b69acc140d282b71a49"
   }
  }
 },
 "nbformat": 4,
 "nbformat_minor": 2
}
