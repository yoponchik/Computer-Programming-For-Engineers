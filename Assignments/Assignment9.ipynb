{
 "cells": [
  {
   "cell_type": "code",
   "execution_count": 2,
   "metadata": {},
   "outputs": [],
   "source": [
    "#Define the class Point that takes in the coordinate x,y. Add a method plot_point that plots the position of point\n",
    "\n",
    "import matplotlib.pyplot as plt\n",
    "\n",
    "class Point:\n",
    "    def __init__(self,x,y):\n",
    "        self.x = x\n",
    "        self.y = y\n",
    "    \n",
    "    def plot_point(self):\n",
    "        plt.plot(self.x, self.y, marker = 'o', markersize = 10)\n",
    "        plt.show()"
   ]
  },
  {
   "cell_type": "code",
   "execution_count": 3,
   "metadata": {},
   "outputs": [
    {
     "data": {
      "image/png": "[encoded data removed]",
      "text/plain": [
       "<Figure size 640x480 with 1 Axes>"
      ]
     },
     "metadata": {},
     "output_type": "display_data"
    }
   ],
   "source": [
    "#Test Case\n",
    "a = Point(10,3)\n",
    "a.plot_point()"
   ]
  },
  {
   "cell_type": "code",
   "execution_count": 5,
   "metadata": {},
   "outputs": [],
   "source": [
    "#Question 2\n",
    "##Add a method calculate_dist to the class defined in the previous question which takes in x and y from another point, \n",
    "## and returns the distance calculated between the two points.\n",
    "\n",
    "class Point:\n",
    "    def __init__(self,x,y):\n",
    "        self.x = x\n",
    "        self.y = y\n",
    "    \n",
    "    def plot_point(self):\n",
    "        plt.plot(self.x, self.y, marker = 'o', markersize = 10)\n",
    "        plt.show()\n",
    "\n",
    "    def calculate_dist(self, point2):\n",
    "        return ((self.x - point2.x) ** 2 + (self.y - point2.y) ** 2) ** 0.5         ## **2 means squared"
   ]
  },
  {
   "cell_type": "code",
   "execution_count": 6,
   "metadata": {},
   "outputs": [
    {
     "data": {
      "text/plain": [
       "5.0"
      ]
     },
     "execution_count": 6,
     "metadata": {},
     "output_type": "execute_result"
    }
   ],
   "source": [
    "#Test Case\n",
    "\n",
    "a = Point(0,3)\n",
    "b = Point(4,0)\n",
    "\n",
    "a.calculate_dist(b)"
   ]
  },
  {
   "cell_type": "code",
   "execution_count": 7,
   "metadata": {},
   "outputs": [],
   "source": [
    "#Question 3 \n",
    "##Define the class Polynomial which models a polynomial. Its attributes are the order of the polynomial n and coefficients coef which are input as a list. \n",
    "## Add a method show which prints the polynomial in algebraic format and a method evaluate which evaluates the polynomial at a specific point x.\n",
    "\n",
    "class Polynomial():\n",
    "\n",
    "    def __init__(self, n, coeff):\n",
    "        self.n = n\n",
    "        self.coeff = coeff\n",
    "        \n",
    "        if len(self.coeff) != n+1:\n",
    "            raise(Exception('There should be n+1 coeffecients for a'))\n",
    "\n",
    "    def show(self):\n",
    "        print('y=', end='')\n",
    "        \n",
    "        for i in range(self.n+1):\n",
    "\n",
    "            #Avoiding 0x...\n",
    "            if self.coeff[i] == 0:\n",
    "                continue\n",
    "                \n",
    "            print(f'{self.coeff[i]:+}', end='')\n",
    "\n",
    "            #Avoiding x^0\n",
    "            if i != self.n:\n",
    "                print('*x', end='')\n",
    "\n",
    "            #Avoiding ^1 and ^0\n",
    "            if self.n - i != 1 and self.n-i != 0:\n",
    "                print(f'^{self.n-i}', end = '')\n",
    "        \n",
    "        print(end='\\n')\n",
    "\n",
    "    def evaluate(self, x):\n",
    "        s = 0\n",
    "        for i in range(self.n+1):\n",
    "            s += self.coeff[i] * (x) ** (self.n - i)\n",
    "        return s"
   ]
  },
  {
   "cell_type": "code",
   "execution_count": 9,
   "metadata": {},
   "outputs": [
    {
     "name": "stdout",
     "output_type": "stream",
     "text": [
      "y=+1*x^2-2*x+1\n",
      "y=+1*x^3+2*x^2-1*x+1\n",
      "f(2) = 15\n"
     ]
    }
   ],
   "source": [
    "#Test Case\n",
    "f2 = Polynomial(3,[0,1,-2,1])\n",
    "f2.show()\n",
    "f3 = Polynomial(3,[1,2,-1,1])\n",
    "f3.show()\n",
    "\n",
    "print(f'f({2}) = {f3.evaluate(2)}')"
   ]
  },
  {
   "cell_type": "code",
   "execution_count": 10,
   "metadata": {},
   "outputs": [],
   "source": [
    "#Question 4\n",
    "##Define a class named Quadratic which is inherited from the class Polynomial. \n",
    "## Override the initial function so that it is defined using three parameters a, b, and c. \n",
    "## Extend the methods and define the method roots which returns the roots of the quadratic function.\n",
    "\n",
    "class Quadratic(Polynomial):\n",
    "\n",
    "    def __init__(self, a,b,c):\n",
    "        super().__init__(2, [a,b,c])\n",
    "    \n",
    "    def roots(self):\n",
    "        delta = self.coeff[1] ** 2 - 4 * self.coeff[0] * self.coeff[2]\n",
    "\n",
    "        x1 = (-self.coeff[1] - delta ** 0.5)/(2 * self.coeff[0])\n",
    "        x2 = (-self.coeff[1] - delta ** 0.5)/(2 * self.coeff[0])\n",
    "\n",
    "        return [x1,x2]"
   ]
  },
  {
   "cell_type": "code",
   "execution_count": 11,
   "metadata": {},
   "outputs": [
    {
     "name": "stdout",
     "output_type": "stream",
     "text": [
      "y=+1*x^2-3*x+2\n",
      "[1.0, 1.0]\n"
     ]
    }
   ],
   "source": [
    "#Test case\n",
    "f2 = Quadratic(1,-3,2)\n",
    "\n",
    "f2.show()\n",
    "print(f2.roots())"
   ]
  }
 ],
 "metadata": {
  "kernelspec": {
   "display_name": "Python 3.10.7 64-bit",
   "language": "python",
   "name": "python3"
  },
  "language_info": {
   "codemirror_mode": {
    "name": "ipython",
    "version": 3
   },
   "file_extension": ".py",
   "mimetype": "text/x-python",
   "name": "python",
   "nbconvert_exporter": "python",
   "pygments_lexer": "ipython3",
   "version": "3.10.7"
  },
  "orig_nbformat": 4,
  "vscode": {
   "interpreter": {
    "hash": "aee8b7b246df8f9039afb4144a1f6fd8d2ca17a180786b69acc140d282b71a49"
   }
  }
 },
 "nbformat": 4,
 "nbformat_minor": 2
}
