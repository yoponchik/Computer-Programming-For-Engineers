{
 "cells": [
  {
   "cell_type": "code",
   "execution_count": 37,
   "metadata": {},
   "outputs": [],
   "source": [
    "#Assignment 2\n",
    "\n",
    "#1\n",
    "#Write a line of code that generates the following error:\n",
    "#NameError: name 'x' is not defined\n",
    "#print(x)"
   ]
  },
  {
   "cell_type": "code",
   "execution_count": 38,
   "metadata": {},
   "outputs": [
    {
     "name": "stdout",
     "output_type": "stream",
     "text": [
      "<class 'str'>\n",
      "<class 'float'>\n"
     ]
    }
   ],
   "source": [
    "#3\n",
    "#Assign string ‘123’ to the variable S. Convert the string into a float type and assign the output to the variable N. Verify that S is a string and N is a float using the type function.\n",
    "S = '123'\n",
    "N = float(S)\n",
    "\n",
    "print(type(S))\n",
    "print(type(N))"
   ]
  },
  {
   "cell_type": "code",
   "execution_count": 39,
   "metadata": {},
   "outputs": [
    {
     "name": "stdout",
     "output_type": "stream",
     "text": [
      "The word 'Engineering' has 11 letters.\n",
      "The word 'Book' has 4 letters.\n"
     ]
    }
   ],
   "source": [
    "#4\n",
    "#Use the print function to generate the following strings.\n",
    "#\tThe word ‘Engineering’ has 11 letters.\n",
    "#\tThe word ‘Book’ has 4 letters.\n",
    "\n",
    "a = 'Engineering'\n",
    "b = 11\n",
    "c = 'Book'\n",
    "d = 4\n",
    "\n",
    "print(f'The word \\'{a}\\' has {b} letters.' )\n",
    "print(f'The word \\'{c}\\' has {d} letters.')"
   ]
  },
  {
   "cell_type": "code",
   "execution_count": 40,
   "metadata": {},
   "outputs": [
    {
     "name": "stdout",
     "output_type": "stream",
     "text": [
      " great\n"
     ]
    }
   ],
   "source": [
    "#5\n",
    "#Get the last word ‘great’ from ‘Python is great!’.\n",
    "\n",
    "a = 'Python is great'\n",
    "print(a[9:])"
   ]
  },
  {
   "cell_type": "code",
   "execution_count": 41,
   "metadata": {},
   "outputs": [
    {
     "name": "stdout",
     "output_type": "stream",
     "text": [
      "<class 'list'>\n"
     ]
    }
   ],
   "source": [
    "#6\n",
    "#Turn ‘Python is great!’ to a list.\n",
    "b = list(a)\n",
    "print(type(b))"
   ]
  },
  {
   "cell_type": "code",
   "execution_count": 42,
   "metadata": {},
   "outputs": [
    {
     "name": "stdout",
     "output_type": "stream",
     "text": [
      "[1, 2, 8, 9, 15, 4]\n"
     ]
    }
   ],
   "source": [
    "#7\n",
    "#Assign list [1, 8, 9, 15] to a variable list_a and insert 2 at index 1 using the insert method. Append 4 to the list_a using the append method.\n",
    "\n",
    "list_a = [1,8,9,15]\n",
    "list_a.insert(1,2)\n",
    "list_a.append(4)\n",
    "print(list_a)"
   ]
  },
  {
   "cell_type": "code",
   "execution_count": 43,
   "metadata": {},
   "outputs": [
    {
     "name": "stdout",
     "output_type": "stream",
     "text": [
      "{1, 2, 3, 5}\n"
     ]
    }
   ],
   "source": [
    "#8\n",
    "#Get the unique element from (2, 3, 2, 3, 1, 2, 5).\n",
    "list_b = (2,3,2,3,1,2,5)\n",
    "print(set(list_b))"
   ]
  },
  {
   "cell_type": "code",
   "execution_count": 44,
   "metadata": {},
   "outputs": [
    {
     "name": "stdout",
     "output_type": "stream",
     "text": [
      "{1, 2, 3}\n",
      "{2, 3}\n",
      "set()\n"
     ]
    }
   ],
   "source": [
    "#9\n",
    "#Assign (2, 3, 2) to set_a, and (1, 2, 3) to set_b. Get the following:\n",
    "#\tunion of set_a and set_b\n",
    "#\tintersection of set_a and set_b\n",
    "#\tdifference of set_a to set_b\n",
    "set_a = {2,3,2}\n",
    "set_b = {1,2,3}\n",
    "\n",
    "print(set_a.union(set_b))\n",
    "print(set_a.intersection(set_b))\n",
    "print(set_a.difference(set_b))\n"
   ]
  },
  {
   "cell_type": "code",
   "execution_count": 45,
   "metadata": {},
   "outputs": [
    {
     "name": "stdout",
     "output_type": "stream",
     "text": [
      "dict_keys(['A', 'B', 'C'])\n"
     ]
    }
   ],
   "source": [
    "#10\n",
    "#Create a dictionary that has the keys ‘A’, ‘B’, ‘C’ with values ‘a’, ‘b’, ‘c’ individually. Print all the keys in the dictionary.\n",
    "dict_a = {'A':'a', 'B':'b', 'C':'c'}\n",
    "print(dict_a.keys())"
   ]
  },
  {
   "cell_type": "code",
   "execution_count": 46,
   "metadata": {},
   "outputs": [
    {
     "name": "stdout",
     "output_type": "stream",
     "text": [
      "[1 2 3]\n"
     ]
    }
   ],
   "source": [
    "#11\n",
    "#Let array_a be an array [-1, 0, 1, 2, 0, 3]. Write a command that will return an array consisting of all the elements of array_a that are larger than zero. Hint: Use logical expression as the index of the array.\n",
    "import numpy as np\n",
    "array_a = np.array([-1,0,1,2,0,3])\n",
    "print(array_a[array_a > 0])"
   ]
  },
  {
   "cell_type": "code",
   "execution_count": 47,
   "metadata": {},
   "outputs": [
    {
     "name": "stdout",
     "output_type": "stream",
     "text": [
      "[[0. 1. 0. 0.]\n",
      " [0. 1. 0. 0.]]\n"
     ]
    }
   ],
   "source": [
    "#12\n",
    "#Create a zero array with size (2, 4) and change the 2nd column in the above array to 1.\n",
    "array_c = np.zeros((2,4))\n",
    "array_c[:,1] = 1\n",
    "print(array_c)"
   ]
  },
  {
   "cell_type": "code",
   "execution_count": 48,
   "metadata": {},
   "outputs": [],
   "source": [
    "#13\n",
    "#Write a cell magic to clear all the variables in the Jupyter notebook\n",
    "%reset"
   ]
  }
 ],
 "metadata": {
  "kernelspec": {
   "display_name": "Python 3.10.7 64-bit",
   "language": "python",
   "name": "python3"
  },
  "language_info": {
   "codemirror_mode": {
    "name": "ipython",
    "version": 3
   },
   "file_extension": ".py",
   "mimetype": "text/x-python",
   "name": "python",
   "nbconvert_exporter": "python",
   "pygments_lexer": "ipython3",
   "version": "3.10.7"
  },
  "orig_nbformat": 4,
  "vscode": {
   "interpreter": {
    "hash": "aee8b7b246df8f9039afb4144a1f6fd8d2ca17a180786b69acc140d282b71a49"
   }
  }
 },
 "nbformat": 4,
 "nbformat_minor": 2
}
