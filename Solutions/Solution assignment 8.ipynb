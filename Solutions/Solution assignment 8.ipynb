{
 "cells": [
  {
   "cell_type": "code",
   "execution_count": 2,
   "id": "c9ed7cc1",
   "metadata": {},
   "outputs": [],
   "source": [
    "#Q1\n",
    "import numpy as np\n",
    "list_1=list(np.random.rand(10))\n",
    "\n",
    "f1 = open('Q1.txt', 'w')\n",
    "for i in list_1:\n",
    "    f1.write(f\"{i}\\n\")\n",
    "    \n",
    "f1.close()\n"
   ]
  },
  {
   "cell_type": "code",
   "execution_count": 17,
   "id": "3c470eca",
   "metadata": {},
   "outputs": [],
   "source": [
    "#Q2\n",
    "np.savetxt('Q2.csv', list_1, fmt = '%.2f')"
   ]
  },
  {
   "cell_type": "code",
   "execution_count": 21,
   "id": "7fb28ab4",
   "metadata": {},
   "outputs": [],
   "source": [
    "#Q3\n",
    "array_1=np.random.rand(5,5)\n",
    "np.savetxt('Q3.csv', array_1, fmt = '%.2f', delimiter=',', header='c1,c2,c3,c4,c5')"
   ]
  },
  {
   "cell_type": "code",
   "execution_count": 23,
   "id": "14384b9b",
   "metadata": {},
   "outputs": [
    {
     "data": {
      "text/plain": [
       "[0.5200116001354841,\n",
       " 0.47354367951489784,\n",
       " 0.8197461396539218,\n",
       " 0.3335184856260651,\n",
       " 0.9575623498475608,\n",
       " 0.7671897656489401,\n",
       " 0.5067864161204975,\n",
       " 0.5714928941275754,\n",
       " 0.8046503400406806,\n",
       " 0.20081321427473964]"
      ]
     },
     "execution_count": 23,
     "metadata": {},
     "output_type": "execute_result"
    }
   ],
   "source": [
    "#Q4\n",
    "import pickle\n",
    "f2 = open('Q4.pkl', 'wb')\n",
    "pickle.dump(list_1, f2)\n",
    "f2.close()\n",
    "\n",
    "f3 = open('./Q4.pkl', 'rb')\n",
    "my_data_1 = pickle.load(f3)\n",
    "f3.close()\n",
    "my_data_1"
   ]
  },
  {
   "cell_type": "code",
   "execution_count": 40,
   "id": "6c38a461",
   "metadata": {},
   "outputs": [
    {
     "name": "stdout",
     "output_type": "stream",
     "text": [
      "John Doe\n"
     ]
    }
   ],
   "source": [
    "#Q5\n",
    "my_data_2={\n",
    "    \"firstName\":[\"John\",\"Anna\",\"Peter\"],\n",
    "    \"lastName\":[\"Doe\",\"Smith\",\"Jones\"]\n",
    "}\n",
    "print(my_data_2['firstName'][0]+\" \"+my_data_2['lastName'][0])\n",
    "f4 = open('Q5.json', 'w')\n",
    "json.dump(my_data_2, f4 )\n",
    "f4.close()"
   ]
  },
  {
   "cell_type": "code",
   "execution_count": 44,
   "id": "a760c5cf",
   "metadata": {},
   "outputs": [
    {
     "data": {
      "text/plain": [
       "[0.8714912737649023,\n",
       " 0.7648776025232595,\n",
       " 0.43361699818976684,\n",
       " 0.20243018045197936,\n",
       " 0.765085697910357]"
      ]
     },
     "execution_count": 44,
     "metadata": {},
     "output_type": "execute_result"
    }
   ],
   "source": [
    "#Q6\n",
    "array_2=np.random.rand(5)\n",
    "my_data_2={\"data\":list(array_2)}\n",
    "f5 = open('Q6.json', 'w')\n",
    "json.dump(my_data_2, f5)\n",
    "f5.close()\n",
    "\n",
    "f6 = open('./Q6.json', 'r')\n",
    "my_data_3=json.load(f6)\n",
    "f6.close()\n",
    "my_data_3['data']"
   ]
  }
 ],
 "metadata": {
  "kernelspec": {
   "display_name": "Python 3.10.7 64-bit",
   "language": "python",
   "name": "python3"
  },
  "language_info": {
   "codemirror_mode": {
    "name": "ipython",
    "version": 3
   },
   "file_extension": ".py",
   "mimetype": "text/x-python",
   "name": "python",
   "nbconvert_exporter": "python",
   "pygments_lexer": "ipython3",
   "version": "3.10.7"
  },
  "vscode": {
   "interpreter": {
    "hash": "aee8b7b246df8f9039afb4144a1f6fd8d2ca17a180786b69acc140d282b71a49"
   }
  }
 },
 "nbformat": 4,
 "nbformat_minor": 5
}
