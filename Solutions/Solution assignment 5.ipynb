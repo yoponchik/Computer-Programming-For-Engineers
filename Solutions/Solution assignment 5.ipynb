{
 "cells": [
  {
   "cell_type": "code",
   "execution_count": 48,
   "id": "0905ffdf",
   "metadata": {},
   "outputs": [
    {
     "data": {
      "text/plain": [
       "17"
      ]
     },
     "execution_count": 48,
     "metadata": {},
     "output_type": "execute_result"
    }
   ],
   "source": [
    "def my_sum(lst):\n",
    "    if len(lst) == 1:\n",
    "        return lst[0]\n",
    "    else:\n",
    "        return lst[0] + my_sum(lst[1:])\n",
    "    \n",
    "x = [4, 5, 8]\n",
    "my_sum(x)"
   ]
  },
  {
   "cell_type": "code",
   "execution_count": 228,
   "id": "b4e37c57",
   "metadata": {},
   "outputs": [
    {
     "name": "stdout",
     "output_type": "stream",
     "text": [
      "[1, 1, 1, 1, 1]\n",
      "[1, 26, 99, 244, 485]\n"
     ]
    }
   ],
   "source": [
    "def my_chebyshev_poly1(n,x):\n",
    "    # Defining the recursive Chebyshev function\n",
    "    def T(n,x):\n",
    "        if n == 0:\n",
    "            return 1\n",
    "        elif n == 1:\n",
    "            return x\n",
    "        else:\n",
    "            return 2*x*T(n-1,x)-T(n-2,x)\n",
    "    \n",
    "    # Implementation for the list type\n",
    "    return [T(n,i) for i in x]\n",
    "\n",
    "x = [1, 2, 3, 4, 5]\n",
    "print(my_chebyshev_poly1(0,x))\n",
    "print(my_chebyshev_poly1(3,x))"
   ]
  },
  {
   "cell_type": "code",
   "execution_count": 132,
   "id": "89acaaa7",
   "metadata": {},
   "outputs": [
    {
     "data": {
      "text/plain": [
       "[50, 20, 1, 1, 0.25, 0.1, 0.05, 0.01, 0.01, 0.01]"
      ]
     },
     "execution_count": 132,
     "metadata": {},
     "output_type": "execute_result"
    }
   ],
   "source": [
    "def my_change(cost, paid):\n",
    "    if cost > paid:\n",
    "        print('paid has to be greater than or equal cost')\n",
    "    else:\n",
    "        denominations = [100, 50, 20, 10, 5, 1, 0.25, 0.10, 0.05, 0.01]\n",
    "        change = []\n",
    "        remaining = paid-cost\n",
    "        while remaining >= 0.01:\n",
    "            for i in denominations:\n",
    "                if i <= remaining:\n",
    "                    change.append(i)\n",
    "                    remaining -= i\n",
    "                    break\n",
    "    return change\n",
    "my_change(27.57, 100)\n",
    "\n",
    "        "
   ]
  },
  {
   "cell_type": "code",
   "execution_count": 227,
   "id": "067c09f8",
   "metadata": {},
   "outputs": [
    {
     "data": {
      "text/plain": [
       "[50, 20, 1, 1, 0.25, 0.1, 0.05, 0.01, 0.01, 0.01]"
      ]
     },
     "execution_count": 227,
     "metadata": {},
     "output_type": "execute_result"
    }
   ],
   "source": [
    "def my_change(cost, paid):\n",
    "    denominations = [100, 50, 20, 10, 5, 1, 0.25, 0.10, 0.05, 0.01]\n",
    "\n",
    "    def make_change(denominations, remaining, change):        \n",
    "        if remaining >= min(denominations):\n",
    "            # Finding the maximum bill for the change\n",
    "            i = max([t for t in denominations if t < remaining])\n",
    "            \n",
    "            # Appending it to the list\n",
    "            change.append(i)\n",
    "            return make_change(denominations, remaining-i, change)\n",
    "\n",
    "    change = []\n",
    "    remaining = paid - cost\n",
    "    make_change(denominations, remaining, change)\n",
    "    return change\n",
    "                \n",
    "my_change(27.57, 100)\n"
   ]
  },
  {
   "cell_type": "code",
   "execution_count": 193,
   "id": "7756f189",
   "metadata": {},
   "outputs": [
    {
     "name": "stdout",
     "output_type": "stream",
     "text": [
      "1  \n",
      "\n",
      "1  1  \n",
      "\n",
      "1  2  1  \n",
      "\n",
      "1  3  3  1  \n",
      "\n",
      "1  4  6  4  1  \n",
      "\n",
      "1  5  10  10  5  1  \n",
      "\n"
     ]
    }
   ],
   "source": [
    "def my_Pascal_Triangle(m):\n",
    "    # Determining the nth element of the mth row\n",
    "    def R(m,n):\n",
    "        if m == 1 or n == 1 or n == m:\n",
    "            return 1\n",
    "        else:\n",
    "            return R(m-1,n-1)+R(m-1,n)\n",
    "    \n",
    "    for i in range(1,m+1):\n",
    "        for j in range(1,i+1):\n",
    "            print(R(i,j),\" \", end=\"\")\n",
    "        print(\"\\n\") # Going to the next line at the end of each row\n",
    "    \n",
    "my_Pascal_Triangle(6)"
   ]
  }
 ],
 "metadata": {
  "kernelspec": {
   "display_name": "Python 3.10.7 64-bit",
   "language": "python",
   "name": "python3"
  },
  "language_info": {
   "codemirror_mode": {
    "name": "ipython",
    "version": 3
   },
   "file_extension": ".py",
   "mimetype": "text/x-python",
   "name": "python",
   "nbconvert_exporter": "python",
   "pygments_lexer": "ipython3",
   "version": "3.10.7"
  },
  "vscode": {
   "interpreter": {
    "hash": "aee8b7b246df8f9039afb4144a1f6fd8d2ca17a180786b69acc140d282b71a49"
   }
  }
 },
 "nbformat": 4,
 "nbformat_minor": 5
}
