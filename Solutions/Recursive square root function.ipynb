{
 "cells": [
  {
   "cell_type": "code",
   "execution_count": 13,
   "id": "464fc932",
   "metadata": {},
   "outputs": [
    {
     "name": "stdout",
     "output_type": "stream",
     "text": [
      "7.000000094930961\n"
     ]
    }
   ],
   "source": [
    "# Square root function using recursive divide and average method\n",
    "def my_sqrt(a,tol):\n",
    "    x = a/2\n",
    "    \n",
    "    def f(x, a, tol):\n",
    "        y = (x + a/x)/2\n",
    "        if abs((y-x)/y) < tol:\n",
    "            return y\n",
    "        else:\n",
    "            return f(y, a, tol)\n",
    "    \n",
    "    return f(x, a, tol)\n",
    "\n",
    "# Calculating the square root of 49 with the tolerance of 0.1%\n",
    "a=my_sqrt(49, 0.001)\n",
    "print(a)"
   ]
  }
 ],
 "metadata": {
  "kernelspec": {
   "display_name": "Python 3 (ipykernel)",
   "language": "python",
   "name": "python3"
  },
  "language_info": {
   "codemirror_mode": {
    "name": "ipython",
    "version": 3
   },
   "file_extension": ".py",
   "mimetype": "text/x-python",
   "name": "python",
   "nbconvert_exporter": "python",
   "pygments_lexer": "ipython3",
   "version": "3.9.12"
  }
 },
 "nbformat": 4,
 "nbformat_minor": 5
}
