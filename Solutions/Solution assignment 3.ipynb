{
 "cells": [
  {
   "cell_type": "code",
   "execution_count": 3,
   "id": "a0e93c7f",
   "metadata": {},
   "outputs": [],
   "source": [
    "import numpy as np"
   ]
  },
  {
   "cell_type": "code",
   "execution_count": 9,
   "id": "50eecf30",
   "metadata": {},
   "outputs": [
    {
     "name": "stdout",
     "output_type": "stream",
     "text": [
      "[ 9.42477796 37.69911184 84.82300165]\n"
     ]
    }
   ],
   "source": [
    "def my_donut_area(r1,r2):\n",
    "    # checking the requirements\n",
    "    if r1.shape!=r2.shape:\n",
    "        print('r1 and r2 shall have the same size')\n",
    "        return\n",
    "    elif not all(r1<r2):\n",
    "        print('Values of r1 shall be less than that of r2')\n",
    "        return\n",
    "    else:\n",
    "    # Calculations\n",
    "        area=np.pi*(r2**2-r1**2)\n",
    "        return area\n",
    "# Test Case ---------------------------------------------------------\n",
    "r1=np.arange(1,4)\n",
    "r2=np.arange(2,7,2)\n",
    "print(my_donut_area(r1,r2))"
   ]
  },
  {
   "cell_type": "code",
   "execution_count": 14,
   "id": "0674bee2",
   "metadata": {},
   "outputs": [
    {
     "name": "stdout",
     "output_type": "stream",
     "text": [
      "[1, 2]\n",
      "[47, 48, 49, 50, 51, 52]\n"
     ]
    }
   ],
   "source": [
    "def my_within_tolerance(A,a,tol):\n",
    "    my_list=[]\n",
    "    for i in range(len(A)):\n",
    "        if abs(A[i]-a)<tol:\n",
    "            my_list.append(i)\n",
    "    return my_list\n",
    "# Test Case ---------------------------------------------------------\n",
    "print(my_within_tolerance([0,1,2,3],1.5,0.75))\n",
    "print(my_within_tolerance(np.arange(0,1.01,0.01),0.5,0.03))"
   ]
  },
  {
   "cell_type": "code",
   "execution_count": 16,
   "id": "aefedc2f",
   "metadata": {},
   "outputs": [
    {
     "name": "stdout",
     "output_type": "stream",
     "text": [
      "16.3935\n",
      "19.6722\n",
      "21.858000000000004\n",
      "27.3225\n"
     ]
    }
   ],
   "source": [
    "def my_tip_calc(bill, party):\n",
    "    if party<6:\n",
    "        t=bill*0.15\n",
    "    elif party<8:\n",
    "        t=bill*0.18\n",
    "    elif party<11:\n",
    "        t=bill*0.2\n",
    "    else:\n",
    "        t=bill*0.25\n",
    "    return t\n",
    "# Test Case ---------------------------------------------------------\n",
    "print(my_tip_calc(109.29,3))\n",
    "print(my_tip_calc(109.29,7))\n",
    "print(my_tip_calc(109.29,9))\n",
    "print(my_tip_calc(109.29,12))"
   ]
  },
  {
   "cell_type": "code",
   "execution_count": 17,
   "id": "8e1acec7",
   "metadata": {},
   "outputs": [
    {
     "name": "stdout",
     "output_type": "stream",
     "text": [
      "border\n",
      "inside\n",
      "outside\n"
     ]
    }
   ],
   "source": [
    "def my_inside_triangle(x,y):\n",
    "    if x<0 or y<0:\n",
    "        return 'outside'\n",
    "    elif x+y>1:\n",
    "        return 'outside'\n",
    "    elif x+y<1 and (x!=0 or y!=0):\n",
    "        return 'inside'\n",
    "    else:\n",
    "        return 'border'\n",
    "# Test Case ---------------------------------------------------------\n",
    "print(my_inside_triangle(0.5,0.5))\n",
    "print(my_inside_triangle(0.25,0.25))\n",
    "print(my_inside_triangle(5,5))\n",
    "        "
   ]
  },
  {
   "cell_type": "code",
   "execution_count": 19,
   "id": "f7b96378",
   "metadata": {},
   "outputs": [
    {
     "name": "stdout",
     "output_type": "stream",
     "text": [
      "15\n",
      "11\n",
      "21\n"
     ]
    }
   ],
   "source": [
    "def my_saving_plan(P0,i,goal):\n",
    "    Pn=P0\n",
    "    period=0\n",
    "    while Pn<goal:\n",
    "        Pn*=(1+i)\n",
    "        period+=1\n",
    "    return period\n",
    "# Test Case ---------------------------------------------------------\n",
    "print(my_saving_plan(1000,0.05,2000))\n",
    "print(my_saving_plan(1000,0.07,2000))\n",
    "print(my_saving_plan(500,0.07,2000))"
   ]
  },
  {
   "cell_type": "code",
   "execution_count": 32,
   "id": "65197d3f",
   "metadata": {},
   "outputs": [
    {
     "name": "stdout",
     "output_type": "stream",
     "text": [
      "1 is not a prime number\n",
      "2 is a prime number\n",
      "3 is a prime number\n",
      "4 is not a prime number\n",
      "5 is a prime number\n",
      "6 is not a prime number\n",
      "7 is a prime number\n",
      "8 is not a prime number\n",
      "9 is not a prime number\n",
      "10 is not a prime number\n"
     ]
    }
   ],
   "source": [
    "def my_is_prime(n):\n",
    "    if n==1:\n",
    "        return 0\n",
    "    else:\n",
    "        i=2;\n",
    "        while i<=n/2:\n",
    "            if n%i==0:\n",
    "                return 0\n",
    "            i+=1\n",
    "        return 1\n",
    "# Test Case ---------------------------------------------------------\n",
    "for i in range(1,11):\n",
    "    # Ternary operator\n",
    "    print('%d is a prime number'%i) if my_is_prime(i) else print('%d is not a prime number'%i)"
   ]
  }
 ],
 "metadata": {
  "kernelspec": {
   "display_name": "Python 3 (ipykernel)",
   "language": "python",
   "name": "python3"
  },
  "language_info": {
   "codemirror_mode": {
    "name": "ipython",
    "version": 3
   },
   "file_extension": ".py",
   "mimetype": "text/x-python",
   "name": "python",
   "nbconvert_exporter": "python",
   "pygments_lexer": "ipython3",
   "version": "3.9.12"
  }
 },
 "nbformat": 4,
 "nbformat_minor": 5
}
