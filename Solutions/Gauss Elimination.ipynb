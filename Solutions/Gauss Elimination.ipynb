{
 "cells": [
  {
   "cell_type": "code",
   "execution_count": 13,
   "id": "59d549e1",
   "metadata": {},
   "outputs": [],
   "source": [
    "import numpy as np\n",
    "from numpy.linalg import matrix_rank\n",
    "\n",
    "# -------------------------------------------------------\n",
    "def rowAdd(A,k,l,scale):\n",
    "    m = A.shape[0]  # m is number of rows in A\n",
    "    n = A.shape[1]  # n is number of columns in A\n",
    "    \n",
    "    B = np.copy(A).astype('float')\n",
    "    for j in range(n):\n",
    "        B[l][j] += B[k][j]*scale\n",
    "\n",
    "    return B\n",
    "\n",
    "# -------------------------------------------------------\n",
    "def partialPivoting(M):\n",
    "    for i in range(0,M.shape[0]-2):\n",
    "        j=np.argmax(abs(M[i:,i]))\n",
    "        M[[i,j+i]]=M[[j+i,i]]\n",
    "    return M\n",
    "\n",
    "# -------------------------------------------------------   \n",
    "def forwardElimination(M):\n",
    "    # ith equation is the pivot equation\n",
    "    for i in range(0,M.shape[0]-1):\n",
    "        # Subtracting the pivot equation\n",
    "        pivot = M[i,i]\n",
    "        if pivot == 0:\n",
    "            raise Exception('Pivot is zero')\n",
    "            \n",
    "        for j in range(i+1,M.shape[0]):\n",
    "            M = rowAdd(M,i,j,-M[j,i]/pivot)\n",
    "    return M\n",
    "\n",
    "# -------------------------------------------------------\n",
    "def backSubstitution(M):\n",
    "    X=np.zeros(M.shape[0])\n",
    "    for i in range(M.shape[0]-1,-1,-1):\n",
    "        X[i]=(M[i,-1]-np.dot(M[i,:-1],X))/M[i,i]\n",
    "        \n",
    "    return X\n",
    "\n",
    "# -------------------------------------------------------\n",
    "def gaussElimination(M):\n",
    "    if matrix_rank(M) != M.shape[0]:\n",
    "            raise Exception('System cannot be solved')\n",
    "    M = partialPivoting(M)\n",
    "    print('Matrix after partial pivoting:\\n',M,'\\n')\n",
    "    M = forwardElimination(M)\n",
    "    print('Matrix after forward elimination:\\n',M,'\\n')\n",
    "    X = backSubstitution(M)\n",
    "    print('Roots are ',X)\n",
    "    return X"
   ]
  },
  {
   "cell_type": "code",
   "execution_count": 14,
   "id": "d47438fe",
   "metadata": {},
   "outputs": [
    {
     "name": "stdout",
     "output_type": "stream",
     "text": [
      "Input matrix:\n",
      " [[ 0  5  3  1  2]\n",
      " [ 2  0  1  2  1]\n",
      " [-1  2  0  1  1]\n",
      " [ 3  4  1 -5  3]] \n",
      "\n",
      "Matrix after partial pivoting:\n",
      " [[ 3  4  1 -5  3]\n",
      " [ 0  5  3  1  2]\n",
      " [-1  2  0  1  1]\n",
      " [ 2  0  1  2  1]] \n",
      "\n",
      "Matrix after forward elimination:\n",
      " [[ 3.          4.          1.         -5.          3.        ]\n",
      " [ 0.          5.          3.          1.          2.        ]\n",
      " [ 0.          0.         -1.66666667 -1.33333333  0.66666667]\n",
      " [ 0.          0.          0.          4.32        0.84      ]] \n",
      "\n",
      "Roots are  [ 0.58333333  0.69444444 -0.55555556  0.19444444]\n"
     ]
    }
   ],
   "source": [
    "# Augmented matrix\n",
    "M=np.array([[0,5,3,1,2],[2,0,1,2,1],[-1,2,0,1,1],[3,4,1,-5,3]])\n",
    "print('Input matrix:\\n',M,'\\n')\n",
    "X = gaussElimination(M)\n",
    "\n"
   ]
  },
  {
   "cell_type": "code",
   "execution_count": 10,
   "id": "37675432",
   "metadata": {},
   "outputs": [
    {
     "name": "stdout",
     "output_type": "stream",
     "text": [
      "Input matrix:\n",
      " [[ 4  3 -5  2]\n",
      " [-2 -4  5  2]\n",
      " [ 7  8  0 -3]\n",
      " [ 1  0  2  1]\n",
      " [ 9  1 -6  6]] \n",
      "\n"
     ]
    },
    {
     "ename": "Exception",
     "evalue": "System cannot be solved",
     "output_type": "error",
     "traceback": [
      "\u001b[0;31m---------------------------------------------------------------------------\u001b[0m",
      "\u001b[0;31mException\u001b[0m                                 Traceback (most recent call last)",
      "Cell \u001b[0;32mIn [10], line 3\u001b[0m\n\u001b[1;32m      1\u001b[0m M\u001b[38;5;241m=\u001b[39mnp\u001b[38;5;241m.\u001b[39marray([[\u001b[38;5;241m4\u001b[39m,\u001b[38;5;241m3\u001b[39m,\u001b[38;5;241m-\u001b[39m\u001b[38;5;241m5\u001b[39m,\u001b[38;5;241m2\u001b[39m],[\u001b[38;5;241m-\u001b[39m\u001b[38;5;241m2\u001b[39m,\u001b[38;5;241m-\u001b[39m\u001b[38;5;241m4\u001b[39m,\u001b[38;5;241m5\u001b[39m,\u001b[38;5;241m2\u001b[39m],[\u001b[38;5;241m7\u001b[39m,\u001b[38;5;241m8\u001b[39m,\u001b[38;5;241m0\u001b[39m,\u001b[38;5;241m-\u001b[39m\u001b[38;5;241m3\u001b[39m],[\u001b[38;5;241m1\u001b[39m,\u001b[38;5;241m0\u001b[39m,\u001b[38;5;241m2\u001b[39m,\u001b[38;5;241m1\u001b[39m],[\u001b[38;5;241m9\u001b[39m,\u001b[38;5;241m1\u001b[39m,\u001b[38;5;241m-\u001b[39m\u001b[38;5;241m6\u001b[39m,\u001b[38;5;241m6\u001b[39m]])\n\u001b[1;32m      2\u001b[0m \u001b[38;5;28mprint\u001b[39m(\u001b[38;5;124m'\u001b[39m\u001b[38;5;124mInput matrix:\u001b[39m\u001b[38;5;130;01m\\n\u001b[39;00m\u001b[38;5;124m'\u001b[39m,M,\u001b[38;5;124m'\u001b[39m\u001b[38;5;130;01m\\n\u001b[39;00m\u001b[38;5;124m'\u001b[39m)\n\u001b[0;32m----> 3\u001b[0m \u001b[43mgaussElimination\u001b[49m\u001b[43m(\u001b[49m\u001b[43mM\u001b[49m\u001b[43m)\u001b[49m\n",
      "Cell \u001b[0;32mIn [8], line 46\u001b[0m, in \u001b[0;36mgaussElimination\u001b[0;34m(M)\u001b[0m\n\u001b[1;32m     44\u001b[0m \u001b[38;5;28;01mdef\u001b[39;00m \u001b[38;5;21mgaussElimination\u001b[39m(M):\n\u001b[1;32m     45\u001b[0m     \u001b[38;5;28;01mif\u001b[39;00m matrix_rank(M) \u001b[38;5;241m!=\u001b[39m M\u001b[38;5;241m.\u001b[39mshape[\u001b[38;5;241m0\u001b[39m]:\n\u001b[0;32m---> 46\u001b[0m             \u001b[38;5;28;01mraise\u001b[39;00m \u001b[38;5;167;01mException\u001b[39;00m(\u001b[38;5;124m'\u001b[39m\u001b[38;5;124mSystem cannot be solved\u001b[39m\u001b[38;5;124m'\u001b[39m)\n\u001b[1;32m     47\u001b[0m     M \u001b[38;5;241m=\u001b[39m partialPivoting(M)\n\u001b[1;32m     48\u001b[0m     \u001b[38;5;28mprint\u001b[39m(\u001b[38;5;124m'\u001b[39m\u001b[38;5;124mMatrix after partial pivoting:\u001b[39m\u001b[38;5;130;01m\\n\u001b[39;00m\u001b[38;5;124m'\u001b[39m,M,\u001b[38;5;124m'\u001b[39m\u001b[38;5;130;01m\\n\u001b[39;00m\u001b[38;5;124m'\u001b[39m)\n",
      "\u001b[0;31mException\u001b[0m: System cannot be solved"
     ]
    }
   ],
   "source": [
    "M=np.array([[4,3,-5,2],[-2,-4,5,2],[7,8,0,-3],[1,0,2,1],[9,1,-6,6]])\n",
    "print('Input matrix:\\n',M,'\\n')\n",
    "gaussElimination(M)\n"
   ]
  },
  {
   "cell_type": "code",
   "execution_count": null,
   "id": "36844383",
   "metadata": {},
   "outputs": [],
   "source": []
  }
 ],
 "metadata": {
  "kernelspec": {
   "display_name": "Python 3.10.7 64-bit",
   "language": "python",
   "name": "python3"
  },
  "language_info": {
   "codemirror_mode": {
    "name": "ipython",
    "version": 3
   },
   "file_extension": ".py",
   "mimetype": "text/x-python",
   "name": "python",
   "nbconvert_exporter": "python",
   "pygments_lexer": "ipython3",
   "version": "3.10.7"
  },
  "vscode": {
   "interpreter": {
    "hash": "aee8b7b246df8f9039afb4144a1f6fd8d2ca17a180786b69acc140d282b71a49"
   }
  }
 },
 "nbformat": 4,
 "nbformat_minor": 5
}
