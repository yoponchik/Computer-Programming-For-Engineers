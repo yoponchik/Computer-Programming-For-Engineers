{
 "cells": [
  {
   "cell_type": "code",
   "execution_count": 9,
   "id": "f4ab6034",
   "metadata": {},
   "outputs": [
    {
     "name": "stdout",
     "output_type": "stream",
     "text": [
      "{2018: 29.9, 2019: 44.8, 2020: 25.4}\n",
      "{2018: 33.3, 2019: 10.0, 2020: 23.3, 2021: 20.0, 2022: 13.3}\n"
     ]
    }
   ],
   "source": [
    "# Q1\n",
    "import numpy as np\n",
    "\n",
    "def book(dict_1):\n",
    "    dict_2={}\n",
    "    total=sum(dict_1.values())\n",
    "    for key, value in dict_1.items():\n",
    "        dict_2[key]=round(value/total*100,1)\n",
    "    return dict_2\n",
    "\n",
    "#Q1 test case\n",
    "print(book({2018: 20, 2019: 30, 2020: 17}))\n",
    "print(book({2018: 100, 2019: 30, 2020: 70, 2021: 60, 2022: 40}))"
   ]
  },
  {
   "cell_type": "code",
   "execution_count": 11,
   "id": "50b0c376",
   "metadata": {},
   "outputs": [
    {
     "name": "stdout",
     "output_type": "stream",
     "text": [
      "8.0\n",
      "16.5\n"
     ]
    }
   ],
   "source": [
    "# Q2\n",
    "import numpy as np\n",
    "\n",
    "def area(M):\n",
    "    area = 0;\n",
    "    for i in range(M.shape[0]-1):\n",
    "        area += 0.5*(M[i,0]*M[i+1,1]-M[i+1,0]*M[i,1])\n",
    "    area += 0.5*(M[-1,0]*M[0,1]-M[0,0]*M[-1,1])\n",
    "    return area\n",
    "\n",
    "#Q2 test case\n",
    "M1 = np.array([[0,0],[5,0],[3,2],[0,2]])\n",
    "M2 = np.array([[1,6],[3,1],[7,2],[4,4],[8,5]])\n",
    "print(area(M1))\n",
    "print(area(M2))"
   ]
  },
  {
   "cell_type": "code",
   "execution_count": 40,
   "id": "8f2197cd",
   "metadata": {},
   "outputs": [
    {
     "name": "stdout",
     "output_type": "stream",
     "text": [
      "854\n",
      "olleH\n",
      "73.21\n",
      "True\n",
      "True\n",
      "False\n"
     ]
    }
   ],
   "source": [
    "# Q3\n",
    "def reverse(str_1):\n",
    "    reverse = \"\"\n",
    "    string = list(str(str_1))\n",
    "    for i in range(len(string)-1,-1,-1):\n",
    "        reverse +=string[i]\n",
    "    return reverse\n",
    "\n",
    "# Q4\n",
    "def check(str_1):\n",
    "    str_1=str(str_1).lower()\n",
    "    if str_1 == reverse(str_1):\n",
    "        return True\n",
    "    return False\n",
    "\n",
    "#Q3 & Q4 test cases\n",
    "print(reverse(458))\n",
    "print(reverse(\"Hello\"))\n",
    "print(reverse(12.37))\n",
    "print(check(127.721))\n",
    "print(check(\"Madam\"))\n",
    "print(check(\"The cat sat on the mat\"))"
   ]
  },
  {
   "cell_type": "code",
   "execution_count": 54,
   "id": "990a041c",
   "metadata": {},
   "outputs": [
    {
     "name": "stdout",
     "output_type": "stream",
     "text": [
      "1.2457309396155174\n",
      "3.2598444275495897\n"
     ]
    }
   ],
   "source": [
    "#Q5\n",
    "def nth_root(n,a):\n",
    "    tol = 0.5*10**(2-10)/100; # Ensuring 10 significant digits\n",
    "    e = 1 # Error\n",
    "    root = a; # Initial guess\n",
    "    \n",
    "    while e>tol:\n",
    "        tmp = -(root**n-a)/(n*root**(n-1))\n",
    "        root += tmp;\n",
    "        e = abs(tmp/root)\n",
    "    \n",
    "    return root\n",
    "\n",
    "print(nth_root(5,3))\n",
    "print(nth_root(6,1200))"
   ]
  },
  {
   "cell_type": "code",
   "execution_count": 46,
   "id": "82fb4da1",
   "metadata": {},
   "outputs": [
    {
     "name": "stdout",
     "output_type": "stream",
     "text": [
      "False\n",
      "True\n",
      "True\n",
      "True\n",
      "False\n"
     ]
    }
   ],
   "source": [
    "#Q6 \n",
    "def word_check(str1, str2):\n",
    "    if set(str1)==set(str2):\n",
    "        return True\n",
    "    else:\n",
    "        return False\n",
    "    \n",
    "print(word_check(\"aaabc\", \"Abccc\"))\n",
    "print(word_check(\"aaabc\", \"abccc\"))\n",
    "print(word_check(\"abcdefghij\", \"jihgfedabc\"))\n",
    "print(word_check(\"AaBbccd\", \"cdAaBb\"))\n",
    "print(word_check(\"abcdA\", \"abccccccd\"))"
   ]
  }
 ],
 "metadata": {
  "kernelspec": {
   "display_name": "Python 3 (ipykernel)",
   "language": "python",
   "name": "python3"
  },
  "language_info": {
   "codemirror_mode": {
    "name": "ipython",
    "version": 3
   },
   "file_extension": ".py",
   "mimetype": "text/x-python",
   "name": "python",
   "nbconvert_exporter": "python",
   "pygments_lexer": "ipython3",
   "version": "3.9.12"
  }
 },
 "nbformat": 4,
 "nbformat_minor": 5
}
