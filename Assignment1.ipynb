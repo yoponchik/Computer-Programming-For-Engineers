{
 "cells": [
  {
   "cell_type": "code",
   "execution_count": 1,
   "metadata": {},
   "outputs": [],
   "source": [
    "#Assignment 1\n",
    "# #import math\n",
    "from math import factorial, sin, exp, log, cos, pi      #can import specific methods, so that you don't have to access math all the time"
   ]
  },
  {
   "cell_type": "code",
   "execution_count": 22,
   "metadata": {},
   "outputs": [
    {
     "name": "stdout",
     "output_type": "stream",
     "text": [
      "6! =  720\n",
      "sin(87) =  0.9986295347545738\n",
      "True\n",
      "True\n",
      "4.2762556357000445\n"
     ]
    }
   ],
   "source": [
    "#1\n",
    "from operator import truediv\n",
    "from pickle import FALSE\n",
    "\n",
    "\n",
    "#print(\"6! = \",math.factorial(6))\n",
    "print(\"6! = \",factorial(6))\n",
    "\n",
    "#2\n",
    "#radian = 87 * math.pi/180   #remember that math.trigfunctions use radians!!\n",
    "#print(\"sin(87) = \", math.sin(radian))\n",
    "\n",
    "radian = 87 * pi/180   \n",
    "print(\"sin(87) = \", sin(radian))\n",
    "\n",
    "#3\n",
    "a = True\n",
    "b = False\n",
    "print(not((not a) and (not b)))     #DeMorgan's Law\n",
    "\n",
    "#4\n",
    "a = True\n",
    "b = True\n",
    "print(not((not a) or (not b)))      #DeMorgan's Law, just change and -> or\n",
    "\n",
    "#5\n",
    "#a = math.exp(2) * math.sin(math.pi/6) + math.log(3)*math.cos(math.pi/9 - (5 ** 3))\n",
    "a = exp(2) * sin(pi/6) + log(3) * cos(pi/9 - (5 ** 3))\n",
    "print(a)"
   ]
  }
 ],
 "metadata": {
  "kernelspec": {
   "display_name": "Python 3.10.7 64-bit",
   "language": "python",
   "name": "python3"
  },
  "language_info": {
   "codemirror_mode": {
    "name": "ipython",
    "version": 3
   },
   "file_extension": ".py",
   "mimetype": "text/x-python",
   "name": "python",
   "nbconvert_exporter": "python",
   "pygments_lexer": "ipython3",
   "version": "3.10.7"
  },
  "orig_nbformat": 4,
  "vscode": {
   "interpreter": {
    "hash": "aee8b7b246df8f9039afb4144a1f6fd8d2ca17a180786b69acc140d282b71a49"
   }
  }
 },
 "nbformat": 4,
 "nbformat_minor": 2
}
