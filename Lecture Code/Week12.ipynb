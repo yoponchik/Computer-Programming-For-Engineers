{
 "cells": [
  {
   "cell_type": "code",
   "execution_count": 2,
   "metadata": {},
   "outputs": [
    {
     "name": "stdout",
     "output_type": "stream",
     "text": [
      "sys.float_info(max=1.7976931348623157e+308, max_exp=1024, max_10_exp=308, min=2.2250738585072014e-308, min_exp=-1021, min_10_exp=-307, dig=15, mant_dig=53, epsilon=2.220446049250313e-16, radix=2, rounds=1)\n"
     ]
    }
   ],
   "source": [
    "#Floating Point Representation\n",
    "\n",
    "import sys\n",
    "print(sys.float_info)"
   ]
  },
  {
   "cell_type": "code",
   "execution_count": 7,
   "metadata": {},
   "outputs": [
    {
     "name": "stdout",
     "output_type": "stream",
     "text": [
      "1.1920928955078125e-07\n",
      "True\n",
      "True\n"
     ]
    }
   ],
   "source": [
    "import numpy as np\n",
    "\n",
    "print(np.spacing(1e9))\n",
    "#this is is the gap for rounding numbers. It cannot be exactly this number\n",
    "#if it's over, it will round up. If under, round down\n",
    "\n",
    "print(1e9 == (1e9 + np.spacing(1e9)/3))\n",
    "#adding 1/3 of the gap, not half. so it is rounded down again\n",
    "\n",
    "#The gap depends on the number. The greater the number, the larger the gap\n",
    "#smaller the number, smaller the gap"
   ]
  },
  {
   "cell_type": "code",
   "execution_count": 11,
   "metadata": {},
   "outputs": [
    {
     "name": "stdout",
     "output_type": "stream",
     "text": [
      "1.7976931348623157e+308\n",
      "1.7976931348623157e+308\n",
      "2.2250738585072014e-308\n",
      "2.2250738585072014e-308\n"
     ]
    }
   ],
   "source": [
    "#largest number in python\n",
    "largest = (2 ** (2046 -1023)) * ((1 + sum(0.5 ** np.arange(1,53))))\n",
    "print(largest)\n",
    "\n",
    "print(sys.float_info.max)\n",
    "\n",
    "#smallest number in python\n",
    "smallest = (2 ** (1-1023)) * (1 + 0)\n",
    "print(smallest)\n",
    "print(sys.float_info.min)\n"
   ]
  },
  {
   "cell_type": "code",
   "execution_count": 16,
   "metadata": {},
   "outputs": [
    {
     "name": "stdout",
     "output_type": "stream",
     "text": [
      "True\n",
      "inf\n",
      "5e-324\n",
      "0.0\n"
     ]
    }
   ],
   "source": [
    "#rounds down if greater than the max number\n",
    "print(sys.float_info.max + 2 == sys.float_info.max)\n",
    "\n",
    "#overflow; rounds to infinity\n",
    "print(sys.float_info.max + sys.float_info.max)\n",
    "\n",
    "\n",
    "print(2 ** (-1074))\n",
    "\n",
    "#underflow; rounds to subnormal number\n",
    "print(2 ** (-1075))"
   ]
  },
  {
   "cell_type": "code",
   "execution_count": 21,
   "metadata": {},
   "outputs": [
    {
     "name": "stdout",
     "output_type": "stream",
     "text": [
      "False\n",
      "0.055000000000000604\n",
      "False\n",
      "0.6000000000000001\n",
      "True\n"
     ]
    }
   ],
   "source": [
    "#Round Off Error\n",
    "print(4.9 - 4.845 == 0.055)\n",
    "\n",
    "#Why? because of the gap\n",
    "print(4.9 - 4.845)\n",
    "#notice that there are couple random numbers in the end\n",
    "\n",
    "#Another Round Off Error\n",
    "print(0.1 + 0.2 + 0.3 == 0.6)\n",
    "\n",
    "print(0.1 + 0.2 + 0.3)\n",
    "#notice that there is a one in the end\n",
    "\n",
    "print(round(0.1 + 0.2 + 0.3, 5) == round(0.6, 5))"
   ]
  },
  {
   "cell_type": "code",
   "execution_count": 26,
   "metadata": {},
   "outputs": [
    {
     "name": "stdout",
     "output_type": "stream",
     "text": [
      "1.0\n",
      "1.0000000000000002\n",
      "1.0000000000000064\n"
     ]
    }
   ],
   "source": [
    "#More Round Off Errors\n",
    "print(1 + 1/3 - 1/3)\n",
    "#okay, gives us 1. good\n",
    "\n",
    "#but if we repeat it, there will be problems\n",
    "\n",
    "def AddAndSubtract(iterations):\n",
    "\n",
    "    result = 1\n",
    "\n",
    "    for i in range(iterations):\n",
    "        result += 1/3\n",
    "    \n",
    "    for i in range(iterations):\n",
    "        result -= 1/3\n",
    "\n",
    "    return result\n",
    "\n",
    "\n",
    "#The more iterations, the greater the error\n",
    "print(AddAndSubtract(100))\n",
    "print(AddAndSubtract(1000))"
   ]
  },
  {
   "cell_type": "code",
   "execution_count": null,
   "metadata": {},
   "outputs": [],
   "source": []
  }
 ],
 "metadata": {
  "kernelspec": {
   "display_name": "Python 3.10.7 64-bit",
   "language": "python",
   "name": "python3"
  },
  "language_info": {
   "codemirror_mode": {
    "name": "ipython",
    "version": 3
   },
   "file_extension": ".py",
   "mimetype": "text/x-python",
   "name": "python",
   "nbconvert_exporter": "python",
   "pygments_lexer": "ipython3",
   "version": "3.10.7"
  },
  "orig_nbformat": 4,
  "vscode": {
   "interpreter": {
    "hash": "aee8b7b246df8f9039afb4144a1f6fd8d2ca17a180786b69acc140d282b71a49"
   }
  }
 },
 "nbformat": 4,
 "nbformat_minor": 2
}
