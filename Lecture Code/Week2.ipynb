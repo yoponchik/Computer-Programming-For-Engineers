{
 "cells": [
  {
   "cell_type": "code",
   "execution_count": 1,
   "metadata": {},
   "outputs": [],
   "source": [
    "import numpy as np"
   ]
  },
  {
   "cell_type": "code",
   "execution_count": 26,
   "metadata": {},
   "outputs": [
    {
     "name": "stdout",
     "output_type": "stream",
     "text": [
      "[1 4 3]\n",
      "[[1 4 3]\n",
      " [9 2 7]]\n",
      "(2, 3)\n",
      "6\n",
      "[   1    2    3 ... 1997 1998 1999]\n",
      "[0.5 1.  1.5 2.  2.5]\n",
      "[1 2 3 4]\n",
      "[3.         3.66666667 4.33333333 5.         5.66666667 6.33333333\n",
      " 7.         7.66666667 8.33333333 9.        ]\n"
     ]
    }
   ],
   "source": [
    "#Data Type - Numpy\n",
    "\n",
    "numpy_1 = np.array([1,4,3])\n",
    "numpy_2 = np.array([[1,4,3],[9,2,7]])\n",
    "print(numpy_1)\n",
    "print(numpy_2)\n",
    "\n",
    "print(numpy_2.shape)                      #dimension\n",
    "print(numpy_2.size)                       #number array\n",
    "\n",
    "numpy_3 = np.arange(1,2000, 1)            #1 to 1999 with increment of 1\n",
    "print(numpy_3)\n",
    "\n",
    "numpy_4 = np.arange(0.5,3,0.5)            #0.5 to 2.5 with increment of 0.5\n",
    "print(numpy_4)\n",
    "\n",
    "numpy_5 = np.arange(1,5,)                 #1 to 5 with increment of 1\n",
    "print(numpy_5)\n",
    "\n",
    "numpy_6 = np.linspace(3,9,10)             #3 to 9, divide into 10 numbers\n",
    "print(numpy_6)"
   ]
  },
  {
   "cell_type": "code",
   "execution_count": 27,
   "metadata": {},
   "outputs": [
    {
     "name": "stdout",
     "output_type": "stream",
     "text": [
      "4\n",
      "[4 3]\n",
      "3\n",
      "4\n",
      "[3 7]\n",
      "[[1 3]\n",
      " [9 7]]\n",
      "[[0. 0. 0. 0. 0.]\n",
      " [0. 0. 0. 0. 0.]\n",
      " [0. 0. 0. 0. 0.]]\n",
      "[[1. 1. 1.]\n",
      " [1. 1. 1.]\n",
      " [1. 1. 1.]\n",
      " [1. 1. 1.]\n",
      " [1. 1. 1.]]\n"
     ]
    }
   ],
   "source": [
    "##Numpy Array Usage\n",
    "\n",
    "\n",
    "print(numpy_1[1])                         #second element\n",
    "\n",
    "print(numpy_1[1:])                        #second element to end\n",
    "\n",
    "print(numpy_1[-1])                        #last element                   \n",
    "\n",
    "print(numpy_2[0,1])                       #first array, second element\n",
    "\n",
    "print(numpy_2[:,-1])                      #last column; all arrays, last element\n",
    "\n",
    "print(numpy_2[:,[0,2]])                   #all arrays; first and third element\n",
    "\n",
    "print(np.zeros((3,5)))                    #3x5 zero matrix\n",
    "\n",
    "print(np.ones((5,3)))                     #5x3 ones matrix"
   ]
  },
  {
   "cell_type": "code",
   "execution_count": 36,
   "metadata": {},
   "outputs": [
    {
     "name": "stdout",
     "output_type": "stream",
     "text": [
      "[[1 2]\n",
      " [3 4]]\n",
      "[[3 4]\n",
      " [5 6]]\n",
      "[[3 4]\n",
      " [5 6]]\n",
      "[[ 1  4]\n",
      " [ 9 16]]\n",
      "[[ 4  6]\n",
      " [ 8 10]]\n",
      "[[ 3  8]\n",
      " [15 24]]\n",
      "[[   1   16]\n",
      " [ 243 4096]]\n",
      "[[1 3]\n",
      " [2 4]]\n",
      "[1. 2. 3. 4.]\n"
     ]
    }
   ],
   "source": [
    "##Numpy Array Operations\n",
    "\n",
    "numpy_7 = np.array([[1,2],[3,4]])\n",
    "numpy_8 = np.array([[3,4],[5,6]])\n",
    "print(numpy_7)\n",
    "print(numpy_8)\n",
    "\n",
    "print(numpy_7 + 2)\n",
    "\n",
    "print(numpy_7 ** 2)\n",
    "\n",
    "print(numpy_7 + numpy_8)\n",
    "\n",
    "print(numpy_7 * numpy_8)\n",
    "\n",
    "print(numpy_7 ** numpy_8)\n",
    "\n",
    "print(numpy_7.T)\n",
    "\n",
    "numpy_9 = np.array([1,4,9,16])\n",
    "print(np.sqrt(numpy_9))\n",
    "\n"
   ]
  },
  {
   "cell_type": "code",
   "execution_count": 41,
   "metadata": {},
   "outputs": [
    {
     "name": "stdout",
     "output_type": "stream",
     "text": [
      "4\n",
      "student\n",
      "student\n"
     ]
    }
   ],
   "source": [
    " #If-Else Statements\n",
    "\n",
    "\n",
    "###Example #1\n",
    "x = 3\n",
    "\n",
    "if x > 1 and x < 2:\n",
    "    y = 2\n",
    "elif x > 2 and x < 4:\n",
    "    y = 4\n",
    "else:\n",
    "    y = 0\n",
    "\n",
    "print(y)\n",
    "\n",
    "###Example #2\n",
    "is_Student = True\n",
    "\n",
    "if is_Student:\n",
    "    person = 'student'\n",
    "else:\n",
    "    person = 'not student'\n",
    "\n",
    "print(person)\n",
    "\n",
    "###Example #3 with Ternary operator\n",
    "person = 'student' if is_Student else 'not student'\n",
    "print(person)"
   ]
  },
  {
   "cell_type": "code",
   "execution_count": 56,
   "metadata": {},
   "outputs": [
    {
     "name": "stdout",
     "output_type": "stream",
     "text": [
      "6\n",
      "b\n",
      "a\n",
      "n\n",
      "a\n",
      "n\n",
      "a\n",
      "b\n",
      "a\n",
      "n\n",
      "a\n",
      "n\n",
      "a\n",
      "One 1\n",
      "Two 2\n",
      "Three 3\n",
      "One 1\n",
      "Two 2\n",
      "Three 3\n",
      "One 1\n",
      "Two 2\n",
      "Three 3\n",
      "12\n",
      "0\n",
      "1\n",
      "0\n",
      "1\n",
      "3\n",
      "4\n",
      "26\n"
     ]
    }
   ],
   "source": [
    "#For Loops\n",
    "\n",
    "##Using specified Range; similar to for(;;)\n",
    "n = 0\n",
    "\n",
    "for i in range(1,4):\n",
    "    n = n + i\n",
    "\n",
    "print(n)\n",
    "\n",
    "##Using string as range; Sort of using like foreach\n",
    "for c in \"banana\":\n",
    "    print(c)\n",
    "\n",
    "\n",
    "##Using length of indices as range\n",
    "s = 'banana'\n",
    "for i in range(len(s)):\n",
    "    print(s[i])\n",
    "\n",
    "##Iterating through dictionary using keys; sort of like foreach\n",
    "dict_a = {\"One\": 1, \"Two\": 2, \"Three\": 3}\n",
    "\n",
    "for key in dict_a.keys():                   #Looping through dictionary with keys\n",
    "    print(key, dict_a[key])\n",
    "\n",
    "##Iterating through dictionary using keys and values\n",
    "for key, value in dict_a.items():           #Looping through dictionary with values\n",
    "                                            #use items() to use both key and value\n",
    "    print(key, value)\n",
    "\n",
    "##Iterating through 2 lists using zip function\n",
    "a = [\"One\", \"Two\", \"Three\"]\n",
    "b = [1,2,3]\n",
    "\n",
    "for i, j in zip(a,b):                       #using zip function to combine 2 lists into tuple\n",
    "    print(i,j)\n",
    "\n",
    "##Adding all the elements in a list\n",
    "s = 0\n",
    "a = [2,3,1,3,3]\n",
    "\n",
    "for i in a:\n",
    "    s += i\n",
    "print(s)\n",
    "\n",
    "##Using break in for loop\n",
    "for i in range(5):\n",
    "    if i == 2:                              #when reaches 2, stop loop\n",
    "        break\n",
    "    print(i)\n",
    "\n",
    "##Using continue in for loop\n",
    "for i in range(5):\n",
    "    if i == 2:\n",
    "        continue                            #skip code when i == 2\n",
    "    print(i)\n",
    "\n",
    "##Using Nested For loops\n",
    "x = np.array([[5,6], [7,8]])                #assign array in variable x\n",
    "n, m = x.shape                              #put dimension in variables; n = x.shape[0] is row, m = x.shape[1] is column\n",
    "s = 0                                       #initialize variable s; sum\n",
    "for i in range(n):\n",
    "    for j in range(m):                      ##adding columns first\n",
    "        #print(s)\n",
    "        s += x[i,j]                         #take the element with row i and column j and add\n",
    "\n",
    "print(s)"
   ]
  },
  {
   "cell_type": "code",
   "execution_count": 60,
   "metadata": {},
   "outputs": [
    {
     "name": "stdout",
     "output_type": "stream",
     "text": [
      "n = 0.5, i = 4\n"
     ]
    }
   ],
   "source": [
    "#While Loop\n",
    "\n",
    "##Determining how many times a number can be divided by 2\n",
    "i = 0                   #number of iterations\n",
    "n = 8                   #number\n",
    "\n",
    "while n >= 1:\n",
    "    n /= 2              #divide number by 2\n",
    "    i += 1\n",
    "\n",
    "print(f'n = {n}, i = {i}')\n",
    "\n",
    "##Infinite loop\n",
    "###Stop using ctrl + c or cmd + c\n",
    "#n = 0\n",
    "#while n > -1:\n",
    "    #n += 1"
   ]
  },
  {
   "cell_type": "code",
   "execution_count": 73,
   "metadata": {},
   "outputs": [
    {
     "name": "stdout",
     "output_type": "stream",
     "text": [
      "[0, 1, 4, 9, 16]\n",
      "[0, 1, 4, 9, 16]\n",
      "[0, 4, 16]\n",
      "[0, 4, 16]\n",
      "[0, 1, 1, 2, 2, 3, 3, 4, 4, 5]\n",
      "[0, 1, 1, 2, 2, 3, 3, 4, 4, 5]\n"
     ]
    }
   ],
   "source": [
    "#List Comprehension\n",
    "\n",
    "##Storing number in list using for loop\n",
    "y = []\n",
    "\n",
    "for i in range(5):                  #from 0 to 4\n",
    "    y.append(i ** 2)                #number squared; append to list\n",
    "print(y)                            #print final list\n",
    "\n",
    "##Storing number in list using list comprehenshion\n",
    "y = [i ** 2 for i in range(5)]\n",
    "print(y)\n",
    "\n",
    "##Conditions in list comprehension\n",
    "y = [i ** 2 for i in x if i%2 == 0]\n",
    "print(y)\n",
    "\n",
    "###Same as above \n",
    "z = []\n",
    "for i in range(5):\n",
    "    if(i%2 == 0):\n",
    "        z.append(i ** 2)\n",
    "print(z)\n",
    "\n",
    "##Nested Loops using list\n",
    "y = []\n",
    "for i in range(5):                          #from 0 to 4\n",
    "    for j in range(2):                      #from 0 to 1\n",
    "        y.append(i + j)\n",
    "print(y)\n",
    "\n",
    "                                            ### 0,0 0,1 1,0 1,1 2,0 2,1 3,0 3,1, etc\n",
    "##Nest loops in list comprehension                    \n",
    "y = [i + j for i in range(5) for j in range(2)]\n",
    "print(y)"
   ]
  },
  {
   "cell_type": "code",
   "execution_count": 103,
   "metadata": {},
   "outputs": [
    {
     "name": "stdout",
     "output_type": "stream",
     "text": [
      "{'a': 1, 'b': 8, 'c': 27}\n",
      "{'a': 1, 'b': 8, 'c': 27}\n",
      "{0, 1, 2}\n",
      "{0, 1, 2}\n"
     ]
    }
   ],
   "source": [
    "#Dictionary and Set Comprehension\n",
    "\n",
    "##Dictionary Comprehension\n",
    "x = {'a': 1, 'b': 2,'c': 3}\n",
    "x = {key: v ** 3 for (key,v) in x.items()}              #??\n",
    "print(x)\n",
    "\n",
    "###Same as above\n",
    "y = {'a': 1, 'b': 2,'c': 3}\n",
    "for (key, v) in y.items():\n",
    "   y[key] = v ** 3\n",
    "print(y)\n",
    "\n",
    "##Set Comprehension\n",
    "set_a = {i * j for i in range(2) for j in range(3)}\n",
    "print(set_a)\n",
    "\n",
    "###Same as above\n",
    "set_a = {}                                          #dictionary\n",
    "set_a = set()                                       #make into set\n",
    "for i in range(2):\n",
    "    for j in range(3):\n",
    "        set_a.add(i * j)\n",
    "\n",
    "print(set_a)"
   ]
  },
  {
   "cell_type": "code",
   "execution_count": 106,
   "metadata": {},
   "outputs": [
    {
     "name": "stdout",
     "output_type": "stream",
     "text": [
      "Iteration 1: square root of 49.000 = 13.250, approximate error = 0.849\n",
      "Iteration 2: square root of 49.000 = 8.474, approximate error = 0.564\n",
      "Iteration 3: square root of 49.000 = 7.128, approximate error = 0.189\n",
      "Iteration 4: square root of 49.000 = 7.001, approximate error = 0.018\n",
      "Iteration 5: square root of 49.000 = 7.000, approximate error = 0.000\n",
      "Iteration 6: square root of 49.000 = 7.000, approximate error = 0.000\n",
      "Square root of 49.000000 is 7.000000\n"
     ]
    }
   ],
   "source": [
    "##Square Root Program using a while loop\n",
    "##? don't understand\n",
    "\n",
    "a = 49\n",
    "tol = 1e-5\n",
    "e = 1\n",
    "x = a/2\n",
    "i = 1\n",
    "\n",
    "while e > tol:\n",
    "    y = (x + a/x)/2\n",
    "    e = abs((y-x)/y)\n",
    "    x = y\n",
    "    print(\"Iteration %d: square root of %.3f = %.3f, approximate error = %.3f\"%(i,a,x,e))\n",
    "    i += 1\n",
    "\n",
    "print(\"Square root of %f is %f\"%(a,x))"
   ]
  }
 ],
 "metadata": {
  "kernelspec": {
   "display_name": "Python 3.10.7 64-bit",
   "language": "python",
   "name": "python3"
  },
  "language_info": {
   "codemirror_mode": {
    "name": "ipython",
    "version": 3
   },
   "file_extension": ".py",
   "mimetype": "text/x-python",
   "name": "python",
   "nbconvert_exporter": "python",
   "pygments_lexer": "ipython3",
   "version": "3.10.7"
  },
  "orig_nbformat": 4,
  "vscode": {
   "interpreter": {
    "hash": "aee8b7b246df8f9039afb4144a1f6fd8d2ca17a180786b69acc140d282b71a49"
   }
  }
 },
 "nbformat": 4,
 "nbformat_minor": 2
}
