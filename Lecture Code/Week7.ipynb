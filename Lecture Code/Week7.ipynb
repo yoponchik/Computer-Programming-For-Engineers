{
 "cells": [
  {
   "cell_type": "code",
   "execution_count": 13,
   "metadata": {},
   "outputs": [],
   "source": [
    "import numpy as np"
   ]
  },
  {
   "cell_type": "code",
   "execution_count": 3,
   "metadata": {},
   "outputs": [
    {
     "name": "stdout",
     "output_type": "stream",
     "text": [
      "1\n"
     ]
    }
   ],
   "source": [
    "#Complexity\n",
    "def f(n):\n",
    "    out = 0\n",
    "    for i in range(n):\n",
    "        for j in range(n):\n",
    "            out += i *j\n",
    "    return out\n",
    "\n",
    "print(f(2))"
   ]
  },
  {
   "cell_type": "code",
   "execution_count": 6,
   "metadata": {},
   "outputs": [],
   "source": [
    "def fibIter(n):\n",
    "    out = [1,1]\n",
    "    for i in range(2,n):                        #n times of operation\n",
    "        out.append(out[i-1] + out[i -2])\n",
    "\n",
    "    return out\n",
    "\n",
    "def fibRecur(n):                #very inefficient\n",
    "    if n < 2:\n",
    "        out = 1\n",
    "    else:\n",
    "        out = fibRecur(n-1) + fibRecur(n-2)\n",
    "    return out\n"
   ]
  },
  {
   "cell_type": "code",
   "execution_count": 7,
   "metadata": {},
   "outputs": [],
   "source": [
    "def divideByTwo(n):\n",
    "    out = 0\n",
    "    while n > 1:\n",
    "        n /= 2\n",
    "        out += 1\n",
    "    return out"
   ]
  },
  {
   "cell_type": "code",
   "execution_count": 8,
   "metadata": {},
   "outputs": [],
   "source": [
    "def exp(b, n):\n",
    "    result = 1 \n",
    "    for i in range(n):\n",
    "        result = result * b\n",
    "    return result\n",
    "\n",
    "def expRecurs(b,n):\n",
    "    if n== 0:\n",
    "        return 1\n",
    "    else:\n",
    "        return b * exp(b,n-1)\n",
    "\n",
    "def fastExp(b,n):                           #recursive can be faster    \n",
    "    if(n == 0):\n",
    "        return 1\n",
    "    elif n % 2 != 0:                        #if not even\n",
    "        return b * fastExp(b, n-1)\n",
    "    else:                                   #if even; b/c can make 2^50 to 2^25 * 2^25\n",
    "        return pow(fastExp(b,n/2),2)\n"
   ]
  },
  {
   "cell_type": "code",
   "execution_count": 12,
   "metadata": {},
   "outputs": [
    {
     "name": "stdout",
     "output_type": "stream",
     "text": [
      "CPU times: user 3 µs, sys: 1 µs, total: 4 µs\n",
      "Wall time: 5.01 µs\n",
      "706 ns ± 2.96 ns per loop (mean ± std. dev. of 7 runs, 1,000,000 loops each)\n"
     ]
    },
    {
     "name": "stderr",
     "output_type": "stream",
     "text": [
      "UsageError: Line magic function `%%time` not found.\n"
     ]
    }
   ],
   "source": [
    "#Profiler\n",
    "%time sum(range(200))\n",
    "\n",
    "%timeit sum(range(200))                     #execution time of small snippets\n",
    "\n",
    "%%time                                      #two percent sign checks the time of whole cell\n",
    "s = 0\n",
    "for i in range(200):\n",
    "    s +=i"
   ]
  },
  {
   "cell_type": "code",
   "execution_count": 2,
   "metadata": {},
   "outputs": [
    {
     "name": "stdout",
     "output_type": "stream",
     "text": [
      "The line_profiler extension is already loaded. To reload it, use:\n",
      "  %reload_ext line_profiler\n"
     ]
    },
    {
     "ename": "NameError",
     "evalue": "name 'np' is not defined",
     "output_type": "error",
     "traceback": [
      "\u001b[0;31m---------------------------------------------------------------------------\u001b[0m",
      "\u001b[0;31mNameError\u001b[0m                                 Traceback (most recent call last)",
      "Cell \u001b[0;32mIn [2], line 9\u001b[0m\n\u001b[1;32m      5\u001b[0m         s \u001b[38;5;241m+\u001b[39m\u001b[38;5;241m=\u001b[39m a[j]\n\u001b[1;32m      8\u001b[0m get_ipython()\u001b[38;5;241m.\u001b[39mrun_line_magic(\u001b[38;5;124m'\u001b[39m\u001b[38;5;124mload_ext\u001b[39m\u001b[38;5;124m'\u001b[39m, \u001b[38;5;124m'\u001b[39m\u001b[38;5;124mline_profiler\u001b[39m\u001b[38;5;124m'\u001b[39m)\n\u001b[0;32m----> 9\u001b[0m \u001b[43mget_ipython\u001b[49m\u001b[43m(\u001b[49m\u001b[43m)\u001b[49m\u001b[38;5;241;43m.\u001b[39;49m\u001b[43mrun_line_magic\u001b[49m\u001b[43m(\u001b[49m\u001b[38;5;124;43m'\u001b[39;49m\u001b[38;5;124;43mlprun\u001b[39;49m\u001b[38;5;124;43m'\u001b[39;49m\u001b[43m,\u001b[49m\u001b[43m \u001b[49m\u001b[38;5;124;43m'\u001b[39;49m\u001b[38;5;124;43m-f slowSum slowSum(1000,1000)\u001b[39;49m\u001b[38;5;124;43m'\u001b[39;49m\u001b[43m)\u001b[49m\n",
      "File \u001b[0;32m/Library/Frameworks/Python.framework/Versions/3.10/lib/python3.10/site-packages/IPython/core/interactiveshell.py:2309\u001b[0m, in \u001b[0;36mInteractiveShell.run_line_magic\u001b[0;34m(self, magic_name, line, _stack_depth)\u001b[0m\n\u001b[1;32m   2307\u001b[0m     kwargs[\u001b[39m'\u001b[39m\u001b[39mlocal_ns\u001b[39m\u001b[39m'\u001b[39m] \u001b[39m=\u001b[39m \u001b[39mself\u001b[39m\u001b[39m.\u001b[39mget_local_scope(stack_depth)\n\u001b[1;32m   2308\u001b[0m \u001b[39mwith\u001b[39;00m \u001b[39mself\u001b[39m\u001b[39m.\u001b[39mbuiltin_trap:\n\u001b[0;32m-> 2309\u001b[0m     result \u001b[39m=\u001b[39m fn(\u001b[39m*\u001b[39;49margs, \u001b[39m*\u001b[39;49m\u001b[39m*\u001b[39;49mkwargs)\n\u001b[1;32m   2310\u001b[0m \u001b[39mreturn\u001b[39;00m result\n",
      "File \u001b[0;32m/Library/Frameworks/Python.framework/Versions/3.10/lib/python3.10/site-packages/line_profiler/ipython_extension.py:104\u001b[0m, in \u001b[0;36mLineProfilerMagics.lprun\u001b[0;34m(self, parameter_s)\u001b[0m\n\u001b[1;32m    102\u001b[0m \u001b[39mtry\u001b[39;00m:\n\u001b[1;32m    103\u001b[0m     \u001b[39mtry\u001b[39;00m:\n\u001b[0;32m--> 104\u001b[0m         profile\u001b[39m.\u001b[39;49mrunctx(arg_str, global_ns, local_ns)\n\u001b[1;32m    105\u001b[0m         message \u001b[39m=\u001b[39m \u001b[39m\"\u001b[39m\u001b[39m\"\u001b[39m\n\u001b[1;32m    106\u001b[0m     \u001b[39mexcept\u001b[39;00m \u001b[39mSystemExit\u001b[39;00m:\n",
      "File \u001b[0;32m/Library/Frameworks/Python.framework/Versions/3.10/lib/python3.10/site-packages/line_profiler/line_profiler.py:142\u001b[0m, in \u001b[0;36mLineProfiler.runctx\u001b[0;34m(self, cmd, globals, locals)\u001b[0m\n\u001b[1;32m    140\u001b[0m \u001b[39mself\u001b[39m\u001b[39m.\u001b[39menable_by_count()\n\u001b[1;32m    141\u001b[0m \u001b[39mtry\u001b[39;00m:\n\u001b[0;32m--> 142\u001b[0m     exec(cmd, \u001b[39mglobals\u001b[39;49m, \u001b[39mlocals\u001b[39;49m)\n\u001b[1;32m    143\u001b[0m \u001b[39mfinally\u001b[39;00m:\n\u001b[1;32m    144\u001b[0m     \u001b[39mself\u001b[39m\u001b[39m.\u001b[39mdisable_by_count()\n",
      "File \u001b[0;32m<string>:1\u001b[0m\n",
      "Cell \u001b[0;32mIn [2], line 3\u001b[0m, in \u001b[0;36mslowSum\u001b[0;34m(n, m)\u001b[0m\n\u001b[1;32m      1\u001b[0m \u001b[38;5;28;01mdef\u001b[39;00m \u001b[38;5;21mslowSum\u001b[39m(n,m):\n\u001b[1;32m      2\u001b[0m     \u001b[38;5;28;01mfor\u001b[39;00m i \u001b[38;5;129;01min\u001b[39;00m \u001b[38;5;28mrange\u001b[39m(n):\n\u001b[0;32m----> 3\u001b[0m         a \u001b[38;5;241m=\u001b[39m \u001b[43mnp\u001b[49m\u001b[38;5;241m.\u001b[39mrandom\u001b[38;5;241m.\u001b[39mrand(m)               \u001b[38;5;66;03m#create size m aarray of random numbers\u001b[39;00m\n\u001b[1;32m      4\u001b[0m     \u001b[38;5;28;01mfor\u001b[39;00m j \u001b[38;5;129;01min\u001b[39;00m \u001b[38;5;28mrange\u001b[39m(m):                      \u001b[38;5;66;03m#iterate thru array and add elements to the sum one by one\u001b[39;00m\n\u001b[1;32m      5\u001b[0m         s \u001b[38;5;241m+\u001b[39m\u001b[38;5;241m=\u001b[39m a[j]\n",
      "\u001b[0;31mNameError\u001b[0m: name 'np' is not defined"
     ]
    }
   ],
   "source": [
    "def slowSum(n,m):\n",
    "    for i in range(n):\n",
    "        a = np.random.rand(m)               #create size m aarray of random numbers\n",
    "    for j in range(m):                      #iterate thru array and add elements to the sum one by one\n",
    "        s += a[j]\n",
    "\n",
    "\n",
    "%load_ext line_profiler\n",
    "%lprun -f slowSum slowSum(1000,1000)"
   ]
  },
  {
   "cell_type": "code",
   "execution_count": null,
   "metadata": {},
   "outputs": [],
   "source": []
  }
 ],
 "metadata": {
  "kernelspec": {
   "display_name": "Python 3.10.7 64-bit",
   "language": "python",
   "name": "python3"
  },
  "language_info": {
   "codemirror_mode": {
    "name": "ipython",
    "version": 3
   },
   "file_extension": ".py",
   "mimetype": "text/x-python",
   "name": "python",
   "nbconvert_exporter": "python",
   "pygments_lexer": "ipython3",
   "version": "3.10.7"
  },
  "orig_nbformat": 4,
  "vscode": {
   "interpreter": {
    "hash": "aee8b7b246df8f9039afb4144a1f6fd8d2ca17a180786b69acc140d282b71a49"
   }
  }
 },
 "nbformat": 4,
 "nbformat_minor": 2
}
