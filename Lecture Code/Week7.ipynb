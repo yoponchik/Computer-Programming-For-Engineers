{
 "cells": [
  {
   "cell_type": "code",
   "execution_count": 3,
   "metadata": {},
   "outputs": [],
   "source": [
    "import numpy as np"
   ]
  },
  {
   "cell_type": "code",
   "execution_count": 4,
   "metadata": {},
   "outputs": [
    {
     "name": "stdout",
     "output_type": "stream",
     "text": [
      "1\n"
     ]
    }
   ],
   "source": [
    "#Complexity\n",
    "def f(n):\n",
    "    out = 0\n",
    "    for i in range(n):\n",
    "        for j in range(n):\n",
    "            out += i *j\n",
    "    return out\n",
    "\n",
    "print(f(2))"
   ]
  },
  {
   "cell_type": "code",
   "execution_count": 5,
   "metadata": {},
   "outputs": [],
   "source": [
    "def fibIter(n):\n",
    "    out = [1,1]\n",
    "    for i in range(2,n):                        #n times of operation\n",
    "        out.append(out[i-1] + out[i -2])\n",
    "\n",
    "    return out\n",
    "\n",
    "def fibRecur(n):                #very inefficient\n",
    "    if n < 2:\n",
    "        out = 1\n",
    "    else:\n",
    "        out = fibRecur(n-1) + fibRecur(n-2)\n",
    "    return out\n"
   ]
  },
  {
   "cell_type": "code",
   "execution_count": 6,
   "metadata": {},
   "outputs": [],
   "source": [
    "def divideByTwo(n):\n",
    "    out = 0\n",
    "    while n > 1:\n",
    "        n /= 2\n",
    "        out += 1\n",
    "    return out"
   ]
  },
  {
   "cell_type": "code",
   "execution_count": 7,
   "metadata": {},
   "outputs": [],
   "source": [
    "def exp(b, n):\n",
    "    result = 1 \n",
    "    for i in range(n):\n",
    "        result = result * b\n",
    "    return result\n",
    "\n",
    "def expRecurs(b,n):\n",
    "    if n== 0:\n",
    "        return 1\n",
    "    else:\n",
    "        return b * exp(b,n-1)\n",
    "\n",
    "def fastExp(b,n):                           #recursive can be faster    \n",
    "    if(n == 0):\n",
    "        return 1\n",
    "    elif n % 2 != 0:                        #if not even\n",
    "        return b * fastExp(b, n-1)\n",
    "    else:                                   #if even; b/c can make 2^50 to 2^25 * 2^25\n",
    "        return pow(fastExp(b,n/2),2)\n"
   ]
  },
  {
   "cell_type": "code",
   "execution_count": 8,
   "metadata": {},
   "outputs": [
    {
     "name": "stdout",
     "output_type": "stream",
     "text": [
      "CPU times: user 2 µs, sys: 0 ns, total: 2 µs\n",
      "Wall time: 3.81 µs\n",
      "717 ns ± 5.51 ns per loop (mean ± std. dev. of 7 runs, 1,000,000 loops each)\n"
     ]
    },
    {
     "name": "stderr",
     "output_type": "stream",
     "text": [
      "UsageError: Line magic function `%%time` not found.\n"
     ]
    }
   ],
   "source": [
    "#Profiler\n",
    "%time sum(range(200))\n",
    "\n",
    "%timeit sum(range(200))                     #execution time of small snippets\n",
    "\n",
    "%%time                                      #two percent sign checks the time of whole cell\n",
    "s = 0\n",
    "for i in range(200):\n",
    "    s +=i"
   ]
  },
  {
   "cell_type": "code",
   "execution_count": 11,
   "metadata": {},
   "outputs": [],
   "source": [
    "def slowSum(n,m):\n",
    "    for i in range(n):\n",
    "        a = np.random.rand(m)               #create size m aarray of random numbers\n",
    "    for j in range(m):                      #iterate thru array and add elements to the sum one by one\n",
    "        s += a[j]\n",
    "\n",
    "\n",
    "#%load_ext line_profiler\n",
    "#%lprun -f slowSum slowSum(1000,1000)"
   ]
  },
  {
   "cell_type": "code",
   "execution_count": 12,
   "metadata": {},
   "outputs": [],
   "source": [
    "#Reading and Writing Data\n",
    "\n",
    "f = open('test.txt', 'w')                       #filename, mode\n",
    "for i in range(5):\n",
    "    f.write(f'This is line {i}\\n')\n",
    "\n",
    "f.close()\n",
    "\n",
    "f = open('test.txt', 'a')\n",
    "f.write(f'This is another line\\n')\n",
    "f.close()\n"
   ]
  },
  {
   "cell_type": "code",
   "execution_count": null,
   "metadata": {},
   "outputs": [],
   "source": []
  }
 ],
 "metadata": {
  "kernelspec": {
   "display_name": "Python 3.10.7 64-bit",
   "language": "python",
   "name": "python3"
  },
  "language_info": {
   "codemirror_mode": {
    "name": "ipython",
    "version": 3
   },
   "file_extension": ".py",
   "mimetype": "text/x-python",
   "name": "python",
   "nbconvert_exporter": "python",
   "pygments_lexer": "ipython3",
   "version": "3.10.7"
  },
  "orig_nbformat": 4,
  "vscode": {
   "interpreter": {
    "hash": "aee8b7b246df8f9039afb4144a1f6fd8d2ca17a180786b69acc140d282b71a49"
   }
  }
 },
 "nbformat": 4,
 "nbformat_minor": 2
}
