{
 "cells": [
  {
   "cell_type": "code",
   "execution_count": 2,
   "metadata": {},
   "outputs": [],
   "source": [
    "import numpy as np"
   ]
  },
  {
   "cell_type": "code",
   "execution_count": 3,
   "metadata": {},
   "outputs": [
    {
     "name": "stdout",
     "output_type": "stream",
     "text": [
      "1\n"
     ]
    }
   ],
   "source": [
    "#Complexity\n",
    "def f(n):\n",
    "    out = 0\n",
    "    for i in range(n):\n",
    "        for j in range(n):\n",
    "            out += i *j\n",
    "    return out\n",
    "\n",
    "print(f(2))"
   ]
  },
  {
   "cell_type": "code",
   "execution_count": 4,
   "metadata": {},
   "outputs": [],
   "source": [
    "def fibIter(n):\n",
    "    out = [1,1]\n",
    "    for i in range(2,n):                        #n times of operation\n",
    "        out.append(out[i-1] + out[i -2])\n",
    "\n",
    "    return out\n",
    "\n",
    "def fibRecur(n):                #very inefficient\n",
    "    if n < 2:\n",
    "        out = 1\n",
    "    else:\n",
    "        out = fibRecur(n-1) + fibRecur(n-2)\n",
    "    return out\n"
   ]
  },
  {
   "cell_type": "code",
   "execution_count": 5,
   "metadata": {},
   "outputs": [],
   "source": [
    "def divideByTwo(n):\n",
    "    out = 0\n",
    "    while n > 1:\n",
    "        n /= 2\n",
    "        out += 1\n",
    "    return out"
   ]
  },
  {
   "cell_type": "code",
   "execution_count": 6,
   "metadata": {},
   "outputs": [],
   "source": [
    "def exp(b, n):\n",
    "    result = 1 \n",
    "    for i in range(n):\n",
    "        result = result * b\n",
    "    return result\n",
    "\n",
    "def expRecurs(b,n):\n",
    "    if n== 0:\n",
    "        return 1\n",
    "    else:\n",
    "        return b * exp(b,n-1)\n",
    "\n",
    "def fastExp(b,n):                           #recursive can be faster    \n",
    "    if(n == 0):\n",
    "        return 1\n",
    "    elif n % 2 != 0:                        #if not even\n",
    "        return b * fastExp(b, n-1)\n",
    "    else:                                   #if even; b/c can make 2^50 to 2^25 * 2^25\n",
    "        return pow(fastExp(b,n/2),2)\n"
   ]
  },
  {
   "cell_type": "code",
   "execution_count": 7,
   "metadata": {},
   "outputs": [
    {
     "name": "stdout",
     "output_type": "stream",
     "text": [
      "CPU times: user 3 µs, sys: 1 µs, total: 4 µs\n",
      "Wall time: 3.81 µs\n",
      "708 ns ± 0.951 ns per loop (mean ± std. dev. of 7 runs, 1,000,000 loops each)\n"
     ]
    },
    {
     "name": "stderr",
     "output_type": "stream",
     "text": [
      "UsageError: Line magic function `%%time` not found.\n"
     ]
    }
   ],
   "source": [
    "#Profiler\n",
    "%time sum(range(200))\n",
    "\n",
    "%timeit sum(range(200))                     #execution time of small snippets\n",
    "\n",
    "%%time                                      #two percent sign checks the time of whole cell\n",
    "s = 0\n",
    "for i in range(200):\n",
    "    s +=i"
   ]
  },
  {
   "cell_type": "code",
   "execution_count": 8,
   "metadata": {},
   "outputs": [],
   "source": [
    "def slowSum(n,m):\n",
    "    for i in range(n):\n",
    "        a = np.random.rand(m)               #create size m aarray of random numbers\n",
    "    for j in range(m):                      #iterate thru array and add elements to the sum one by one\n",
    "        s += a[j]\n",
    "\n",
    "\n",
    "#%load_ext line_profiler\n",
    "#%lprun -f slowSum slowSum(1000,1000)"
   ]
  },
  {
   "cell_type": "code",
   "execution_count": 26,
   "metadata": {},
   "outputs": [
    {
     "name": "stdout",
     "output_type": "stream",
     "text": [
      "This is line 0\n",
      "This is line 1\n",
      "This is line 2\n",
      "This is line 3\n",
      "This is line 4\n",
      "This is another line\n",
      "\n",
      "['This is line 0\\n', 'This is line 1\\n', 'This is line 2\\n', 'This is line 3\\n', 'This is line 4\\n', 'This is another line\\n']\n",
      "[[1.2  2.2  3.  ]\n",
      " [4.14 5.65 6.42]]\n",
      "[[1.2  2.2  3.  ]\n",
      " [4.14 5.65 6.42]]\n",
      "{'A': 0, 'B': 1, 'C': 2}\n",
      "{'school': 'UC Berkeley', 'address': {'city': 'Berkeley', 'state': 'California', 'postal': '94720'}, 'list': ['student 1', 'student 2', 'student 3'], 'array': [1, 2, 3]}\n"
     ]
    }
   ],
   "source": [
    "#Reading and Writing Data\n",
    "\n",
    "##Write\n",
    "f = open('test.txt', 'w')                       #filename, mode\n",
    "for i in range(5):\n",
    "    f.write(f'This is line {i}\\n')\n",
    "f.close()\n",
    "\n",
    "##Append\n",
    "f = open('test.txt', 'a')\n",
    "f.write(f'This is another line\\n')\n",
    "f.close()\n",
    "\n",
    "##Read\n",
    "f = open('./test.txt','r')\n",
    "content = f.read()\n",
    "f.close()\n",
    "print(content)\n",
    "\n",
    "##Read As Lines\n",
    "f = open('./test.txt','r')\n",
    "contents = f.readlines()\n",
    "f.close()\n",
    "print(contents)\n",
    "\n",
    "##Numpy Arrays\n",
    "arr = np.array([[1.2, 2.2, 3], [4.14,5.65,6.42]])\n",
    "print(arr)\n",
    "\n",
    "np.savetxt('my_arr.txt', arr, fmt='%.2f', header = 'Col1 Col2 Col3')\n",
    "\n",
    "my_array = np.loadtxt('my_arr.txt')\n",
    "print(arr)\n",
    "\n",
    "##CSV\n",
    "data = np.random.random((100,5))\n",
    "\n",
    "np.savetxt('test.csv', data, fmt = '%.2f', delimiter = ',', header = 'c1, c2, c3, c4, c5')\n",
    "\n",
    "##PICKLE files\n",
    "import pickle\n",
    "dict_a = {'A':0, 'B':1, 'C':2}\n",
    "pickle.dump(dict_a, open('test.pk1', 'wb'))\n",
    "\n",
    "my_dict = pickle.load(open('./test.pk1', 'rb'))\n",
    "print(my_dict)\n",
    "\n",
    "import json\n",
    "##JSON Files\n",
    "school = {   \n",
    "    \"school\": \"UC Berkeley\", \n",
    "    \"address\": {\n",
    "        \"city\": \"Berkeley\", \n",
    "        \"state\": \"California\", \n",
    "        \"postal\": \"94720\"\n",
    "    }, \n",
    "\n",
    "    \"list\":[\n",
    "        \"student 1\", \n",
    "        'student 2', \n",
    "        \"student 3\"\n",
    "    ],\n",
    "\n",
    "    \"array\":[1,2,3]\n",
    "}\n",
    "\n",
    "json.dump(school, open('school.json','w'))\n",
    "my_school = json.load(open('./school.json', 'r'))\n",
    "print(my_school)"
   ]
  },
  {
   "cell_type": "code",
   "execution_count": 1,
   "metadata": {},
   "outputs": [
    {
     "name": "stdout",
     "output_type": "stream",
     "text": [
      "Hello*World\n"
     ]
    }
   ],
   "source": []
  }
 ],
 "metadata": {
  "kernelspec": {
   "display_name": "Python 3.10.7 64-bit",
   "language": "python",
   "name": "python3"
  },
  "language_info": {
   "codemirror_mode": {
    "name": "ipython",
    "version": 3
   },
   "file_extension": ".py",
   "mimetype": "text/x-python",
   "name": "python",
   "nbconvert_exporter": "python",
   "pygments_lexer": "ipython3",
   "version": "3.10.7"
  },
  "orig_nbformat": 4,
  "vscode": {
   "interpreter": {
    "hash": "aee8b7b246df8f9039afb4144a1f6fd8d2ca17a180786b69acc140d282b71a49"
   }
  }
 },
 "nbformat": 4,
 "nbformat_minor": 2
}
