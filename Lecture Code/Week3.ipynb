{
 "cells": [
  {
   "cell_type": "code",
   "execution_count": 1,
   "metadata": {},
   "outputs": [],
   "source": [
    "import numpy as np"
   ]
  },
  {
   "cell_type": "code",
   "execution_count": 4,
   "metadata": {},
   "outputs": [
    {
     "name": "stdout",
     "output_type": "stream",
     "text": [
      "6\n"
     ]
    }
   ],
   "source": [
    "#Function Basics\n",
    "def myAdder(a,b,c):             #myAdder is a function; a,b,c are input parameters\n",
    "    output = a + b + c\n",
    "    return output\n",
    "\n",
    "#d = myAdder(1,2,3)\n",
    "#print(d)\n",
    "print(myAdder(1,2,3))\n",
    "\n"
   ]
  },
  {
   "cell_type": "code",
   "execution_count": 8,
   "metadata": {},
   "outputs": [
    {
     "name": "stdout",
     "output_type": "stream",
     "text": [
      "c = -0.0806950697747637, d=-0.2750268284872752, e=[-0.0806950697747637, -0.2750268284872752]\n",
      "c=(-0.0806950697747637, -0.2750268284872752, [-0.0806950697747637, -0.2750268284872752]), and the returned type is <class 'tuple'>\n"
     ]
    }
   ],
   "source": [
    "#Function with several outputs\n",
    "def myTrigSum(a,b):\n",
    "    out1 = np.sin(a) + np.cos(b)\n",
    "    out2 = np.sin(b) + np.cos(a)\n",
    "    return out1, out2, [out1,out2]\n",
    "\n",
    "###Assigning the output to several variables\n",
    "c,d,e = myTrigSum(2,3)\n",
    "print(f'c = {c}, d={d}, e={e}')\n",
    "\n",
    "###Assignging the output to one variable\n",
    "c = myTrigSum(2,3)\n",
    "print(f'c={c}, and the returned type is {type(c)}')"
   ]
  },
  {
   "cell_type": "code",
   "execution_count": 21,
   "metadata": {},
   "outputs": [
    {
     "name": "stdout",
     "output_type": "stream",
     "text": [
      "The output value within the function is 6\n",
      "The output value outside the function is 1,  while the output of the function is 6\n",
      "n is globally set to 42\n",
      "Within function: Change n to 3\n",
      "Outside function: Value of n is 3\n"
     ]
    }
   ],
   "source": [
    "#Local and Global Variables\n",
    "\n",
    "##Local variable\n",
    "from tkinter import N\n",
    "\n",
    "\n",
    "def myAdder(a,b,c):\n",
    "    output = a + b + c\n",
    "    print(f'The output value within the function is {output}')\n",
    "    return output\n",
    "\n",
    "##Global variable\n",
    "output = 1\n",
    "d = myAdder(1,2,3)\n",
    "print(f'The output value outside the function is {output},  while the output of the function is {d}')\n",
    "\n",
    "##Global variable using the keyword 'global'\n",
    "n = 42\n",
    "\n",
    "def funct():\n",
    "    global n                                    #use 'global' to change global variable internally\n",
    "    print(f'n is globally set to {n}')\n",
    "    n = 3\n",
    "    print(f'Within function: Change n to {n}')\n",
    "\n",
    "funct()\n",
    "print(f'Outside function: Value of n is {n}')\n"
   ]
  },
  {
   "cell_type": "code",
   "execution_count": 36,
   "metadata": {},
   "outputs": [
    {
     "name": "stdout",
     "output_type": "stream",
     "text": [
      "[1.0, 1.4142135623730951, 1.0]\n",
      "[1.0, 1.4142135623730951, 1.0]\n"
     ]
    }
   ],
   "source": [
    "#Nested Functions\n",
    "\n",
    "def myDistXYZ(x,y,z):                               #Parent Function\n",
    "    def myDist(x,y):                                    #Nested Function\n",
    "        output = np.sqrt((x[0] - y[0]) ** 2 + (x[1] - y[1]) ** 2)\n",
    "        return output\n",
    "\n",
    "    d0 = myDist(x,y)\n",
    "    d1 = myDist(x,z)\n",
    "    d2 = myDist(y,z)\n",
    "    \n",
    "    return [d0, d1, d2]\n",
    "\n",
    "d = myDistXYZ((0,0),(0,1),(1,1))\n",
    "print(d)\n",
    "###Can't call nested function\n",
    "#d = myDist((0,0), (0,1))\n",
    "\n",
    "\n",
    "##Same Function without using a nested function\n",
    "def myDistXYZ_2(x,y,z):\n",
    "    d0 = np.sqrt((x[0] - y[0]) ** 2 + (x[1]-y[1]) ** 2)\n",
    "    d1 = np.sqrt((x[0] - z[0]) ** 2 + (x[1]-z[1]) ** 2)\n",
    "    d2 = np.sqrt((y[0] - z[0]) ** 2 + (y[1]-z[1]) ** 2)\n",
    "    return [d0, d1, d2]\n",
    "\n",
    "print(myDistXYZ_2((0,0),(0,1),(1,1)))"
   ]
  },
  {
   "cell_type": "code",
   "execution_count": 41,
   "metadata": {},
   "outputs": [
    {
     "name": "stdout",
     "output_type": "stream",
     "text": [
      "4\n",
      "4\n",
      "25\n",
      "6\n"
     ]
    }
   ],
   "source": [
    "#Lambda Functions\n",
    "\n",
    "##Regular squaring function\n",
    "def square(x):\n",
    "    return x ** 2\n",
    "\n",
    "print(square(2))\n",
    "\n",
    "##Lambda function of squareLambda function\n",
    "###'lambda' arguments: expression\n",
    "squareLambda = lambda x : x**2\n",
    "\n",
    "print(squareLambda(2))\n",
    "print(squareLambda(5))\n",
    "\n",
    "##Lambda function with several arguments\n",
    "adderLambda = lambda x,y: x + y\n",
    "\n",
    "print(adderLambda(2,4))"
   ]
  },
  {
   "cell_type": "code",
   "execution_count": 50,
   "metadata": {},
   "outputs": [
    {
     "name": "stdout",
     "output_type": "stream",
     "text": [
      "<class 'builtin_function_or_method'>\n",
      "5\n",
      "5\n",
      "2.0\n",
      "1.0\n",
      "6.0\n",
      "5\n"
     ]
    }
   ],
   "source": [
    "#Function as Arguments\n",
    "\n",
    "##Assigning a function a variable\n",
    "###Can use max function as variables\n",
    "maxFinder = max\n",
    "print(type(maxFinder))                      #maxFinder or max is a built in maxFinderunction\n",
    "\n",
    "print(max([2,3,5]))                 #maxFinderinds the largest number\n",
    "print(maxFinder([2,3,5]))                   #put maxFinderunction in variable\n",
    "\n",
    "\n",
    "##Passing a function as an argument\n",
    "def plusOne(function,x):                    # parameters as function and x\n",
    "    return function(x) + 1\n",
    "\n",
    "print(plusOne(np.sin, np.pi/2))             #sin is the function, pass in pi/2 into sin and add 1\n",
    "print(plusOne(np.cos, np.pi/2))             #cos(pi/2) + 1\n",
    "print(plusOne(np.sqrt, 25))                 #sqrt(25)\n",
    "\n",
    "print(plusOne(lambda x: x + 2, 2))          #answer would be 5 because (2 + 2) + 1"
   ]
  },
  {
   "cell_type": "code",
   "execution_count": 15,
   "metadata": {},
   "outputs": [
    {
     "data": {
      "image/png": "[encoded data removed]",
      "text/plain": [
       "<Figure size 640x480 with 1 Axes>"
      ]
     },
     "metadata": {},
     "output_type": "display_data"
    }
   ],
   "source": [
    "#2D Plotting\n",
    "import matplotlib.pyplot as plt\n",
    "#%matplotlib notebook\n",
    "%matplotlib inline\n",
    "\n",
    "\n",
    "x = [0,1,2,3]\n",
    "y = [0,1,4,5]\n",
    "plt.plot(x,y)                   #plot function receives a list or arrays\n",
    "plt.show()"
   ]
  },
  {
   "cell_type": "code",
   "execution_count": 12,
   "metadata": {},
   "outputs": [
    {
     "data": {
      "image/png": "[encoded data removed]",
      "text/plain": [
       "<Figure size 640x480 with 1 Axes>"
      ]
     },
     "metadata": {},
     "output_type": "display_data"
    }
   ],
   "source": [
    "#%matplotlib notebook\n",
    "%matplotlib inline\n",
    "\n",
    "x = np.linspace(-5,5,100)\n",
    "plt.plot(x,x ** 2)\n",
    "plt.show()"
   ]
  },
  {
   "cell_type": "code",
   "execution_count": null,
   "metadata": {},
   "outputs": [],
   "source": []
  }
 ],
 "metadata": {
  "kernelspec": {
   "display_name": "Python 3 (ipykernel)",
   "language": "python",
   "name": "python3"
  },
  "language_info": {
   "codemirror_mode": {
    "name": "ipython",
    "version": 3
   },
   "file_extension": ".py",
   "mimetype": "text/x-python",
   "name": "python",
   "nbconvert_exporter": "python",
   "pygments_lexer": "ipython3",
   "version": "3.10.7"
  },
  "vscode": {
   "interpreter": {
    "hash": "aee8b7b246df8f9039afb4144a1f6fd8d2ca17a180786b69acc140d282b71a49"
   }
  }
 },
 "nbformat": 4,
 "nbformat_minor": 2
}
