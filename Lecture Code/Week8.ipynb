{
 "cells": [
  {
   "cell_type": "code",
   "execution_count": 9,
   "metadata": {},
   "outputs": [],
   "source": [
    "import numpy as np"
   ]
  },
  {
   "cell_type": "code",
   "execution_count": 10,
   "metadata": {},
   "outputs": [
    {
     "name": "stdout",
     "output_type": "stream",
     "text": [
      "[1]\n",
      "[[4 6]]\n",
      "[5 6 6 4 6 4 3 4 6 3 6 5 4 3 2 1 5 4 2 5 6 1 3 2 4 5 5 1 4 4 1 6 6 2 5 2 6\n",
      " 3 5 3 5 3 6 6 3 3 6 1 1 4 3 3 3 6 1 6 5 6 6 2 4 6 5 6 4 3 3 5 1 5 1 1 1 4\n",
      " 3 5 5 1 2 6 5 2 1 5 1 4 6 2 2 5 5 1 1 3 1 4 6 3 1 6]\n",
      "{1, 2, 3, 4, 5, 6}\n",
      "Probability of a 5 is: 0.163\n"
     ]
    }
   ],
   "source": [
    "#Monte Carlo Methods\n",
    "\n",
    "#1 iteration\n",
    "N = 1\n",
    "sample = np.random.randint(low=1, high = 6 +1, size = N)\n",
    "print(sample)\n",
    "\n",
    "#Rolling a dice twice; using tuples\n",
    "N = 1\n",
    "sample = np.random.randint(low=1, high=6 + 1, size = (N,2))\n",
    "print(sample)\n",
    "\n",
    "#100 iterations\n",
    "N = 100\n",
    "samples = np.random.randint(low=1, high=6 + 1, size = N)\n",
    "print(samples)\n",
    "\n",
    "##can find the sample space by converting all the results into a set\n",
    "print(set(samples))\n",
    "\n",
    "#1000 iterations\n",
    "N=1000\n",
    "samples = np.random.randint(low = 1, high = 6 + 1, size=N)\n",
    "\n",
    "##Running the iterations and finding the probability\n",
    "j = 0\n",
    "for i in samples:\n",
    "    if i == 5:\n",
    "        j += 1\n",
    "\n",
    "print(f'Probability of a 5 is: {j/N}')                  #j is the number of times 5 is the result, N = number of iterations\n"
   ]
  },
  {
   "cell_type": "code",
   "execution_count": 11,
   "metadata": {},
   "outputs": [
    {
     "data": {
      "image/png": "[encoded data removed]",
      "text/plain": [
       "<Figure size 640x480 with 1 Axes>"
      ]
     },
     "metadata": {},
     "output_type": "display_data"
    }
   ],
   "source": [
    "import matplotlib.pyplot as plt\n",
    "\n",
    "#plot\n",
    "plt.hist(samples, bins = 6, linewidth=0.5, edgecolor = 'white')\n",
    "plt.xlim=(0.6)\n",
    "plt.xlabel('Sample')\n",
    "plt.ylabel('Frequency')\n",
    "plt.show()"
   ]
  },
  {
   "cell_type": "code",
   "execution_count": 12,
   "metadata": {},
   "outputs": [
    {
     "name": "stdout",
     "output_type": "stream",
     "text": [
      "(1000, 2)\n",
      "36\n",
      "[[1 1]\n",
      " [1 2]\n",
      " [1 3]\n",
      " [1 4]\n",
      " [1 5]\n",
      " [1 6]\n",
      " [2 1]\n",
      " [2 2]\n",
      " [2 3]\n",
      " [2 4]\n",
      " [2 5]\n",
      " [2 6]\n",
      " [3 1]\n",
      " [3 2]\n",
      " [3 3]\n",
      " [3 4]\n",
      " [3 5]\n",
      " [3 6]\n",
      " [4 1]\n",
      " [4 2]\n",
      " [4 3]\n",
      " [4 4]\n",
      " [4 5]\n",
      " [4 6]\n",
      " [5 1]\n",
      " [5 2]\n",
      " [5 3]\n",
      " [5 4]\n",
      " [5 5]\n",
      " [5 6]\n",
      " [6 1]\n",
      " [6 2]\n",
      " [6 3]\n",
      " [6 4]\n",
      " [6 5]\n",
      " [6 6]]\n",
      "34\n"
     ]
    }
   ],
   "source": [
    "#Rolling a dice 1000 times\n",
    "N = 1000\n",
    "samples = np.random.randint(low = 1, high = 6 + 1, size=(N,2))\n",
    "\n",
    "print(samples.shape)                #(1000,2)\n",
    "print(len(np.unique(samples, axis = 0)))                    #shows sample space(all possible outcomes); 36 = 6*6\n",
    "print(np.unique(samples, axis = 0))\n",
    "\n",
    "N = 100\n",
    "samples = np.random.randint(low = 1, high = 6 + 1, size=(N,2))\n",
    "print(len(np.unique(samples, axis = 0)))                    #shows all possible outcomes, but if N is not big enough, can show 35 or 34 etc\n",
    "#what was axis again?"
   ]
  },
  {
   "cell_type": "code",
   "execution_count": 13,
   "metadata": {},
   "outputs": [
    {
     "name": "stdout",
     "output_type": "stream",
     "text": [
      "Probability is 0.3043\n"
     ]
    }
   ],
   "source": [
    "#Probability of getting a 5\n",
    "\n",
    "N = 100000\n",
    "samples = np.random.randint(low = 1, high=6+1, size = (N,2))\n",
    "\n",
    "j = 0\n",
    "for i in samples:\n",
    "    if i[0] == 5 or i[1] == 5:\n",
    "        j+=1\n",
    "\n",
    "print(f'Probability is {j/N}')"
   ]
  },
  {
   "cell_type": "code",
   "execution_count": 14,
   "metadata": {},
   "outputs": [
    {
     "name": "stdout",
     "output_type": "stream",
     "text": [
      "Probability is 0.16573\n"
     ]
    }
   ],
   "source": [
    "#Probability of rolling dice twice and the sum is 7\n",
    "N = 100000\n",
    "samples = np.random.randint(low = 1, high=6+1, size = (N,2))\n",
    "\n",
    "j = 0\n",
    "for i in samples:\n",
    "    if i[0] + i[1] == 7:\n",
    "        j+=1\n",
    "\n",
    "print(f'Probability is {j/N}')"
   ]
  },
  {
   "cell_type": "code",
   "execution_count": 15,
   "metadata": {},
   "outputs": [
    {
     "name": "stdout",
     "output_type": "stream",
     "text": [
      "Probability is 0.13845\n"
     ]
    }
   ],
   "source": [
    "#Probability of Sum=7 but neither are 1\n",
    "N = 100000\n",
    "samples = np.random.randint(low = 1, high=6+1, size = (N,2))\n",
    "\n",
    "j = 0\n",
    "for i in samples:\n",
    "    if (i[0] + i[1] == 7) and (i[0] and i[1] != 1):\n",
    "        j+=1\n",
    "\n",
    "print(f'Probability is {j/N}')"
   ]
  },
  {
   "cell_type": "code",
   "execution_count": 16,
   "metadata": {},
   "outputs": [
    {
     "name": "stdout",
     "output_type": "stream",
     "text": [
      "Probability is 0.83558\n"
     ]
    }
   ],
   "source": [
    "#Probability of having two different numbers\n",
    "N = 100000\n",
    "samples = np.random.randint(low = 1, high=6+1, size = (N,2))\n",
    "j = 0\n",
    "for i in samples:\n",
    "    if (i[0] != i[1]):\n",
    "        j+=1\n",
    "\n",
    "print(f'Probability is {j/N}')"
   ]
  },
  {
   "cell_type": "code",
   "execution_count": 17,
   "metadata": {},
   "outputs": [
    {
     "name": "stdout",
     "output_type": "stream",
     "text": [
      "Probability is 0.41603\n"
     ]
    },
    {
     "data": {
      "image/png": "[encoded data removed]",
      "text/plain": [
       "<Figure size 640x480 with 1 Axes>"
      ]
     },
     "metadata": {},
     "output_type": "display_data"
    }
   ],
   "source": [
    "#Monte Carlo Methods\n",
    "#Wiining probability in each turn\n",
    "N =100000\n",
    "j = 0\n",
    "\n",
    "#Same thing as above, just different method of running iterations\n",
    "for i in range(N):\n",
    "    myDice = np.random.randint(low = 1, high = 6+1)\n",
    "    houseDice = np.random.randint(low=1, high = 6+1)\n",
    "    if myDice > houseDice:\n",
    "        j += 1\n",
    "\n",
    "print(f'Probability is {j/N}')\n",
    "\n",
    "#Simulating a game\n",
    "balance = 0\n",
    "simulations = [0]\n",
    "bet = 10\n",
    "N = 100\n",
    "\n",
    "for i in range(N):\n",
    "    myDice = np.random.randint(low = 1, high = 6+1)\n",
    "    houseDice = np.random.randint(low=1, high = 6+1)\n",
    "\n",
    "    if myDice > houseDice:\n",
    "        balance += bet\n",
    "    else: \n",
    "        balance -= bet\n",
    "    \n",
    "    simulations.append(balance)\n",
    "\n",
    "#plt.figure(figsize=(10,6))\n",
    "plt.plot(range(0, N+1), simulations)\n",
    "plt.xlabel('Roll Number')\n",
    "plt.ylabel('Balance')\n",
    "plt.show()"
   ]
  },
  {
   "cell_type": "code",
   "execution_count": 25,
   "metadata": {},
   "outputs": [
    {
     "name": "stdout",
     "output_type": "stream",
     "text": [
      "Mean Value = 0.83\n",
      "Standard Deviation = 0.04\n",
      "Coefficient variable = 0.04\n"
     ]
    },
    {
     "data": {
      "image/png": "[encoded data removed]",
      "text/plain": [
       "<Figure size 640x480 with 1 Axes>"
      ]
     },
     "metadata": {},
     "output_type": "display_data"
    }
   ],
   "source": [
    "import numpy as np\n",
    "import matplotlib.pyplot as plt\n",
    "\n",
    "NSamples = 100\n",
    "NSimulations = 1000\n",
    "\n",
    "P = []\n",
    "\n",
    "for i in range(NSimulations):\n",
    "    samples = np.random.randint(low = 1, high = 6 + 1, size=(NSamples, 2))\n",
    "\n",
    "    j= 0\n",
    "    for k in samples:\n",
    "        if k[0] != k[1]:\n",
    "            j += 1\n",
    "    P.append(j/NSamples)\n",
    "        \n",
    "print('Mean Value = %.2f'%np.average(P))\n",
    "print('Standard Deviation = %.2f'%np.std(P))\n",
    "print('Coefficient variable = %.2f'%(np.std(P)/np.average(P)))\n",
    "\n",
    "#plot\n",
    "plt.hist(P, bins = 6, linewidth = 0.5, edgecolor ='white')\n",
    "plt.xlim = (0,6)\n",
    "plt.xlabel('Sample')\n",
    "plt.ylabel('Frequency')\n",
    "plt.show()"
   ]
  },
  {
   "cell_type": "code",
   "execution_count": 19,
   "metadata": {},
   "outputs": [
    {
     "name": "stdout",
     "output_type": "stream",
     "text": [
      "[[0.         0.        ]\n",
      " [0.5        0.33333333]\n",
      " [0.25       0.66666667]\n",
      " [0.75       0.11111111]\n",
      " [0.125      0.44444444]]\n"
     ]
    }
   ],
   "source": [
    "from scipy.stats import qmc                     #qmc = quasi Monty Carlo\n",
    "\n",
    "sampler = qmc.Halton(d = 2, scramble = False)\n",
    "samples = sampler.random(n=5)\n",
    "print(samples)"
   ]
  },
  {
   "cell_type": "code",
   "execution_count": 20,
   "metadata": {},
   "outputs": [
    {
     "name": "stdout",
     "output_type": "stream",
     "text": [
      "[[5.49213359 4.12006382]\n",
      " [2.49213359 2.12006382]\n",
      " [6.99213359 6.12006382]\n",
      " [3.99213359 4.78673048]\n",
      " [4.74213359 2.78673048]]\n",
      "\n",
      " [[5. 4.]\n",
      " [2. 2.]\n",
      " [7. 6.]\n",
      " [4. 5.]\n",
      " [5. 3.]]\n"
     ]
    }
   ],
   "source": [
    "sampler = qmc.Halton(d=2)\n",
    "samples = sampler.random(n=5)\n",
    "lBounds = [1,1]\n",
    "uBounds = [7,7]\n",
    "samples = qmc.scale(samples, lBounds, uBounds)\n",
    "print(samples)\n",
    "print(\"\\n\", np.round_(samples))"
   ]
  },
  {
   "cell_type": "code",
   "execution_count": 21,
   "metadata": {},
   "outputs": [
    {
     "name": "stdout",
     "output_type": "stream",
     "text": [
      "Mean Value = 0.85\n",
      "Standard Deviation = 0.02\n",
      "Coefficient variable = 0.03\n"
     ]
    },
    {
     "data": {
      "image/png": "[encoded data removed]",
      "text/plain": [
       "<Figure size 640x480 with 1 Axes>"
      ]
     },
     "metadata": {},
     "output_type": "display_data"
    }
   ],
   "source": [
    "NSamples = 100\n",
    "NSimulations = 1000\n",
    "P = []\n",
    "\n",
    "sampler = qmc.Halton(d = 2, scramble = True)\n",
    "_ = sampler.fast_forward(10000)             #what is this?\n",
    "samples = sampler.random(NSamples)\n",
    "lBounds = [1,1]\n",
    "uBounds = [7,7]\n",
    "\n",
    "for i in range(NSimulations):\n",
    "    samples = sampler.random(NSamples)\n",
    "    samples = np.round_(qmc.scale(samples, lBounds, uBounds))\n",
    "\n",
    "    j = 0\n",
    "    for k in samples:\n",
    "        if k[0] != k[1]:\n",
    "            j += 1\n",
    "    P.append(j/NSamples)\n",
    "\n",
    "print('Mean Value = %.2f'%np.average(P))\n",
    "print('Standard Deviation = %.2f'%np.std(P))\n",
    "print('Coefficient variable = %.2f'%(np.std(P)/np.average(P)))\n",
    "\n",
    "#plot\n",
    "plt.hist(P, bins = 6, linewidth = 0.5, edgecolor ='white')\n",
    "plt.xlim = (0,6)\n",
    "plt.xlabel('Sample')\n",
    "plt.ylabel('Frequency')\n",
    "plt.show()\n"
   ]
  },
  {
   "cell_type": "code",
   "execution_count": 23,
   "metadata": {},
   "outputs": [
    {
     "name": "stdout",
     "output_type": "stream",
     "text": [
      "[1.71840171]\n"
     ]
    }
   ],
   "source": [
    "# Finding the integral\n",
    "#integral of 0 to 1 e^xdx = e - 1\n",
    "\n",
    "NSamples = 10000\n",
    "\n",
    "sampler = qmc.Halton(d=1, scramble = True)\n",
    "_ = sampler.fast_forward(10000)\n",
    "samples = sampler.random(NSamples)\n",
    "\n",
    "f_average = 0\n",
    "for i in samples:\n",
    "    f_average += np.exp(i)/NSamples\n",
    "print(f_average * (1-0))                    #1 - 0 because that's the interval"
   ]
  },
  {
   "cell_type": "code",
   "execution_count": 24,
   "metadata": {},
   "outputs": [
    {
     "name": "stdout",
     "output_type": "stream",
     "text": [
      "I = 1.639\n"
     ]
    }
   ],
   "source": [
    "f = lambda x: 400 *x**5 - 900*x**4 + 675*x**3 - 200*x**2 + 25*x + 0.2\n",
    "\n",
    "NSamples = 10000\n",
    "sampler = qmc.Halton(d = 2, scramble = True)\n",
    "_ = sampler.fast_forward(10000)\n",
    "samples = sampler.random(NSamples)\n",
    "samples = qmc.scale(samples, [0,0], [0.8, 4])\n",
    "\n",
    "j = 0\n",
    "for i in samples:\n",
    "    if i[1] < f(i[0]):                      #if point is less than the point on function, then point inside the area\n",
    "        j += 1\n",
    "\n",
    "\n",
    "print(\"I = %.3f\"%(j/NSamples * 0.8 * 4))    #j/Nsamples = area under graph/total area = points under graph/total # of points"
   ]
  }
 ],
 "metadata": {
  "kernelspec": {
   "display_name": "Python 3.10.7 64-bit",
   "language": "python",
   "name": "python3"
  },
  "language_info": {
   "codemirror_mode": {
    "name": "ipython",
    "version": 3
   },
   "file_extension": ".py",
   "mimetype": "text/x-python",
   "name": "python",
   "nbconvert_exporter": "python",
   "pygments_lexer": "ipython3",
   "version": "3.10.7"
  },
  "orig_nbformat": 4,
  "vscode": {
   "interpreter": {
    "hash": "aee8b7b246df8f9039afb4144a1f6fd8d2ca17a180786b69acc140d282b71a49"
   }
  }
 },
 "nbformat": 4,
 "nbformat_minor": 2
}
