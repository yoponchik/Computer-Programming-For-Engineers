{
 "cells": [
  {
   "cell_type": "code",
   "execution_count": 1,
   "metadata": {},
   "outputs": [],
   "source": [
    "import numpy as np"
   ]
  },
  {
   "cell_type": "code",
   "execution_count": 18,
   "metadata": {},
   "outputs": [
    {
     "name": "stdout",
     "output_type": "stream",
     "text": [
      "[2]\n",
      "[[2 6]]\n",
      "[1 6 4 6 4 1 5 6 5 1 6 4 5 5 6 3 4 5 3 1 2 3 1 6 6 1 5 3 3 3 3 3 2 5 6 3 5\n",
      " 1 3 5 1 1 5 4 1 4 4 1 3 4 2 5 3 1 5 2 6 2 5 3 1 5 4 5 4 4 6 5 4 6 6 4 2 3\n",
      " 6 2 5 3 1 3 2 6 1 3 3 2 4 6 5 6 6 3 1 6 5 2 2 4 5 4]\n",
      "{1, 2, 3, 4, 5, 6}\n",
      "Probability of a 5 is: 0.191\n"
     ]
    }
   ],
   "source": [
    "#Monte Carlo Methods\n",
    "\n",
    "#1 iteration\n",
    "N = 1\n",
    "sample = np.random.randint(low=1, high = 6 +1, size = N)\n",
    "print(sample)\n",
    "\n",
    "#Rolling a dice twice; using tuples\n",
    "N = 1\n",
    "sample = np.random.randint(low=1, high=6 + 1, size = (N,2))\n",
    "print(sample)\n",
    "\n",
    "#100 iterations\n",
    "N = 100\n",
    "samples = np.random.randint(low=1, high=6 + 1, size = N)\n",
    "print(samples)\n",
    "\n",
    "##can find the sample space by converting all the results into a set\n",
    "print(set(samples))\n",
    "\n",
    "#1000 iterations\n",
    "N=1000\n",
    "samples = np.random.randint(low = 1, high = 6 + 1, size=N)\n",
    "\n",
    "##Running the iterations and finding the probability\n",
    "j = 0\n",
    "for i in samples:\n",
    "    if i == 5:\n",
    "        j += 1\n",
    "\n",
    "print(f'Probability of a 5 is: {j/N}')                  #j is the number of times 5 is the result, N = number of iterations\n"
   ]
  },
  {
   "cell_type": "code",
   "execution_count": 20,
   "metadata": {},
   "outputs": [
    {
     "data": {
      "image/png": "[encoded data removed]",
      "text/plain": [
       "<Figure size 640x480 with 1 Axes>"
      ]
     },
     "metadata": {},
     "output_type": "display_data"
    }
   ],
   "source": [
    "import matplotlib.pyplot as plt\n",
    "\n",
    "#plot\n",
    "plt.hist(samples, bins = 6, linewidth=0.5, edgecolor = 'white')\n",
    "plt.xlim=(0.6)\n",
    "plt.xlabel('Sample')\n",
    "plt.ylabel('Frequency')\n",
    "plt.show()"
   ]
  },
  {
   "cell_type": "code",
   "execution_count": 28,
   "metadata": {},
   "outputs": [
    {
     "name": "stdout",
     "output_type": "stream",
     "text": [
      "(1000, 2)\n",
      "36\n",
      "[[1 1]\n",
      " [1 2]\n",
      " [1 3]\n",
      " [1 4]\n",
      " [1 5]\n",
      " [1 6]\n",
      " [2 1]\n",
      " [2 2]\n",
      " [2 3]\n",
      " [2 4]\n",
      " [2 5]\n",
      " [2 6]\n",
      " [3 1]\n",
      " [3 2]\n",
      " [3 3]\n",
      " [3 4]\n",
      " [3 5]\n",
      " [3 6]\n",
      " [4 1]\n",
      " [4 2]\n",
      " [4 3]\n",
      " [4 4]\n",
      " [4 5]\n",
      " [4 6]\n",
      " [5 1]\n",
      " [5 2]\n",
      " [5 3]\n",
      " [5 4]\n",
      " [5 5]\n",
      " [5 6]\n",
      " [6 1]\n",
      " [6 2]\n",
      " [6 3]\n",
      " [6 4]\n",
      " [6 5]\n",
      " [6 6]]\n",
      "36\n"
     ]
    }
   ],
   "source": [
    "#Rolling a dice 1000 times\n",
    "N = 1000\n",
    "samples = np.random.randint(low = 1, high = 6 + 1, size=(N,2))\n",
    "\n",
    "print(samples.shape)                #(1000,2)\n",
    "print(len(np.unique(samples, axis = 0)))                    #shows sample space(all possible outcomes); 36 = 6*6\n",
    "print(np.unique(samples, axis = 0))\n",
    "\n",
    "N = 100\n",
    "samples = np.random.randint(low = 1, high = 6 + 1, size=(N,2))\n",
    "print(len(np.unique(samples, axis = 0)))                    #shows all possible outcomes, but if N is not big enough, can show 35 or 34 etc\n",
    "#what was axis again?"
   ]
  },
  {
   "cell_type": "code",
   "execution_count": 29,
   "metadata": {},
   "outputs": [
    {
     "name": "stdout",
     "output_type": "stream",
     "text": [
      "Probability is 0.30216\n"
     ]
    }
   ],
   "source": [
    "#Probability of getting a 5\n",
    "\n",
    "N = 100000\n",
    "samples = np.random.randint(low = 1, high=6+1, size = (N,2))\n",
    "\n",
    "j = 0\n",
    "for i in samples:\n",
    "    if i[0] == 5 or i[1] == 5:\n",
    "        j+=1\n",
    "\n",
    "print(f'Probability is {j/N}')"
   ]
  },
  {
   "cell_type": "code",
   "execution_count": 32,
   "metadata": {},
   "outputs": [
    {
     "name": "stdout",
     "output_type": "stream",
     "text": [
      "Probability is 0.16878\n"
     ]
    }
   ],
   "source": [
    "#Probability of rolling dice twice and the sum is 7\n",
    "N = 100000\n",
    "samples = np.random.randint(low = 1, high=6+1, size = (N,2))\n",
    "\n",
    "j = 0\n",
    "for i in samples:\n",
    "    if i[0] + i[1] == 7:\n",
    "        j+=1\n",
    "\n",
    "print(f'Probability is {j/N}')"
   ]
  },
  {
   "cell_type": "code",
   "execution_count": 36,
   "metadata": {},
   "outputs": [
    {
     "name": "stdout",
     "output_type": "stream",
     "text": [
      "Probability is 0.13819\n"
     ]
    }
   ],
   "source": [
    "#Probability of Sum=7 but neither are 1\n",
    "N = 100000\n",
    "samples = np.random.randint(low = 1, high=6+1, size = (N,2))\n",
    "\n",
    "j = 0\n",
    "for i in samples:\n",
    "    if (i[0] + i[1] == 7) and (i[0] and i[1] != 1):\n",
    "        j+=1\n",
    "\n",
    "print(f'Probability is {j/N}')"
   ]
  },
  {
   "cell_type": "code",
   "execution_count": 37,
   "metadata": {},
   "outputs": [
    {
     "name": "stdout",
     "output_type": "stream",
     "text": [
      "Probability is 0.83297\n"
     ]
    }
   ],
   "source": [
    "#Probability of having two different numbers\n",
    "N = 100000\n",
    "samples = np.random.randint(low = 1, high=6+1, size = (N,2))\n",
    "j = 0\n",
    "for i in samples:\n",
    "    if (i[0] != i[1]):\n",
    "        j+=1\n",
    "\n",
    "print(f'Probability is {j/N}')"
   ]
  },
  {
   "cell_type": "code",
   "execution_count": 68,
   "metadata": {},
   "outputs": [
    {
     "name": "stdout",
     "output_type": "stream",
     "text": [
      "Probability is 0.42133\n"
     ]
    },
    {
     "data": {
      "image/png": "[encoded data removed]",
      "text/plain": [
       "<Figure size 640x480 with 1 Axes>"
      ]
     },
     "metadata": {},
     "output_type": "display_data"
    }
   ],
   "source": [
    "#Monte Carlo Methods\n",
    "#Wiining probability in each turn\n",
    "N =100000\n",
    "j = 0\n",
    "\n",
    "#Same thing as above, just different method of running iterations\n",
    "for i in range(N):\n",
    "    myDice = np.random.randint(low = 1, high = 6+1)\n",
    "    houseDice = np.random.randint(low=1, high = 6+1)\n",
    "    if myDice > houseDice:\n",
    "        j += 1\n",
    "\n",
    "print(f'Probability is {j/N}')\n",
    "\n",
    "#Simulating a game\n",
    "balance = 0\n",
    "simulations = [0]\n",
    "bet = 10\n",
    "N = 100\n",
    "\n",
    "for i in range(N):\n",
    "    myDice = np.random.randint(low = 1, high = 6+1)\n",
    "    houseDice = np.random.randint(low=1, high = 6+1)\n",
    "\n",
    "    if myDice > houseDice:\n",
    "        balance += bet\n",
    "    else: \n",
    "        balance -= bet\n",
    "    \n",
    "    simulations.append(balance)\n",
    "\n",
    "#plt.figure(figsize=(10,6))\n",
    "plt.plot(range(0, N+1), simulations)\n",
    "plt.xlabel('Roll Number')\n",
    "plt.ylabel('Balance')\n",
    "plt.show()"
   ]
  },
  {
   "cell_type": "code",
   "execution_count": null,
   "metadata": {},
   "outputs": [],
   "source": []
  },
  {
   "cell_type": "code",
   "execution_count": null,
   "metadata": {},
   "outputs": [],
   "source": []
  }
 ],
 "metadata": {
  "kernelspec": {
   "display_name": "Python 3.10.7 64-bit",
   "language": "python",
   "name": "python3"
  },
  "language_info": {
   "codemirror_mode": {
    "name": "ipython",
    "version": 3
   },
   "file_extension": ".py",
   "mimetype": "text/x-python",
   "name": "python",
   "nbconvert_exporter": "python",
   "pygments_lexer": "ipython3",
   "version": "3.10.7"
  },
  "orig_nbformat": 4,
  "vscode": {
   "interpreter": {
    "hash": "aee8b7b246df8f9039afb4144a1f6fd8d2ca17a180786b69acc140d282b71a49"
   }
  }
 },
 "nbformat": 4,
 "nbformat_minor": 2
}
