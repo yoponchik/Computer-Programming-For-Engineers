{
 "cells": [
  {
   "cell_type": "code",
   "execution_count": 1,
   "metadata": {},
   "outputs": [],
   "source": [
    "#Page3\n",
    "#Least squares regression - m iterations of measurements; good to have m >>n, to get the data\n",
    "#Want to minimize E; e is individual error. "
   ]
  },
  {
   "cell_type": "code",
   "execution_count": 2,
   "metadata": {},
   "outputs": [],
   "source": [
    "#Page4\n",
    "#beta is the coefficients"
   ]
  },
  {
   "cell_type": "code",
   "execution_count": 5,
   "metadata": {},
   "outputs": [
    {
     "name": "stdout",
     "output_type": "stream",
     "text": [
      "[[1.40050238]\n",
      " [1.02441281]]\n"
     ]
    }
   ],
   "source": [
    "import numpy as np\n",
    "from scipy import optimize\n",
    "import matplotlib.pyplot as plt\n",
    "\n",
    "#Beta = (A^T*A)^-1 * A^T * Y                        #Pseudo inverse\n",
    "#y = 1 + 1.5x\n",
    "\n",
    "x = np.linspace(0,1,101)                            #0 to 1\n",
    "y = 1 + x + x * np.random.random(len(x))            #our y function is 1 + (1 + alpha)x; four our case in the slide, its 1 +  1.5x but it can change\n",
    "\n",
    "A = np.vstack([x,np.ones(len(x))]).T                #concatanate matrices;\n",
    "\n",
    "y = y[:, np.newaxis]                                #change 1d vector to column vector\n",
    "\n",
    "alpha = np.dot((np.dot(np.linalg.inv(np.dot(A.T,A)),A.T)),y)\n",
    "\n",
    "#this changes, because some variables are random\n",
    "print(alpha)"
   ]
  },
  {
   "cell_type": "code",
   "execution_count": 7,
   "metadata": {},
   "outputs": [
    {
     "name": "stdout",
     "output_type": "stream",
     "text": [
      "[[1.40050238]\n",
      " [1.02441281]]\n"
     ]
    }
   ],
   "source": [
    "#Another way: built in function\n",
    "pinv = np.linalg.pinv(A)\n",
    "alpha = pinv.dot(y)\n",
    "\n",
    "alpha = np.linalg.lstsq(A, y, rcond = None)[0]\n",
    "print(alpha)"
   ]
  },
  {
   "cell_type": "code",
   "execution_count": null,
   "metadata": {},
   "outputs": [],
   "source": [
    "#Another way\n",
    "x = np.linspace(0,1,101)\n",
    "y = 1 + x + x*np.random.random(len(x))\n",
    "\n",
    "def func(x,a,b):\n",
    "    y = a*x + b\n",
    "    return y\n",
    "\n",
    "alpha = optimize.curve_fit(func, xdata = x, ydata = y)[0]                   #optimize function minimizes the E error\n",
    "\n"
   ]
  }
 ],
 "metadata": {
  "kernelspec": {
   "display_name": "Python 3.10.7 64-bit",
   "language": "python",
   "name": "python3"
  },
  "language_info": {
   "codemirror_mode": {
    "name": "ipython",
    "version": 3
   },
   "file_extension": ".py",
   "mimetype": "text/x-python",
   "name": "python",
   "nbconvert_exporter": "python",
   "pygments_lexer": "ipython3",
   "version": "3.10.7"
  },
  "orig_nbformat": 4,
  "vscode": {
   "interpreter": {
    "hash": "aee8b7b246df8f9039afb4144a1f6fd8d2ca17a180786b69acc140d282b71a49"
   }
  }
 },
 "nbformat": 4,
 "nbformat_minor": 2
}
