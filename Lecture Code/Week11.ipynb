{
 "cells": [
  {
   "cell_type": "code",
   "execution_count": 1,
   "metadata": {},
   "outputs": [
    {
     "name": "stdout",
     "output_type": "stream",
     "text": [
      "Greetings,Iron Man\n",
      "Iron Man\n",
      "35\n",
      "Greetings,Batman\n",
      "Batman\n",
      "33\n"
     ]
    }
   ],
   "source": [
    "class People():\n",
    "    def __init__(self, name, age):                  #init initializes the attributes\n",
    "                                                    #name and age are attributes\n",
    "        self.name = name                            \n",
    "        self.age = age\n",
    "    \n",
    "    def Greet(self):\n",
    "        print(\"Greetings,\" + self.name)             #note that we said self.name not just name\n",
    "\n",
    "person1 = People(name = 'Iron Man', age = 35)\n",
    "person1.Greet()\n",
    "print(person1.name)\n",
    "print(person1.age)\n",
    "\n",
    "person2 = People(name = 'Batman', age = 33)\n",
    "person2.Greet()\n",
    "print(person2.name)\n",
    "print(person2.age)\n"
   ]
  },
  {
   "cell_type": "code",
   "execution_count": 5,
   "metadata": {},
   "outputs": [
    {
     "name": "stdout",
     "output_type": "stream",
     "text": [
      "We have 1 - instances in total\n",
      "We have 2 - instances in total\n",
      "We have 2 - instances in total\n",
      "My name is Susan\n",
      "My name is Mike\n",
      "learning\n",
      "M\n",
      "My name is Susan\n",
      "My id is: 001\n",
      "My score is: 95\n",
      "My name is Mike\n",
      "My id is: 002\n",
      "My score is: 90\n"
     ]
    }
   ],
   "source": [
    "class Student():\n",
    "\n",
    "    nInstance = 0                               #keeps track of instances made\n",
    "                                                #this is a class attribute, defined without using self\n",
    "\n",
    "    def __init__(self, id, name, gender):\n",
    "        self.id = id\n",
    "        self.name = name\n",
    "        self.gender = gender\n",
    "        self.type = 'learning'\n",
    "\n",
    "        Student.nInstance +=1                    #doesnt use self because class attribute           \n",
    "    \n",
    "    def SayName(self):\n",
    "        print('My name is ' + self.name)\n",
    "\n",
    "    def Report(self, score):\n",
    "                                                #score is not an attribute, it is an input parameter, not that its not in the init function\n",
    "        self.SayName()\n",
    "        print('My id is: ' + self.id)\n",
    "        print('My score is: '+ str(score))\n",
    "    \n",
    "    def numInstances(self):\n",
    "        print(f'We have {Student.nInstance} - instances in total')\n",
    "\n",
    "    \n",
    "\n",
    "student1 = Student(\"001\", 'Susan', 'F')\n",
    "student1.numInstances()\n",
    "student2 = Student(\"002\", 'Mike', 'M')\n",
    "student1.numInstances()\n",
    "student2.numInstances()\n",
    "\n",
    "student1.SayName()\n",
    "student2.SayName()\n",
    "print(student1.type)\n",
    "print(student2.gender)\n",
    "\n",
    "student1.Report(95)\n",
    "student2.Report(90)\n",
    "\n"
   ]
  },
  {
   "cell_type": "code",
   "execution_count": 6,
   "metadata": {},
   "outputs": [
    {
     "name": "stdout",
     "output_type": "stream",
     "text": [
      "We have10 points saved\n",
      "{'time': array([0, 1, 2, 3, 4, 5, 6, 7, 8, 9]), 'data': array([ 2, -8,  9, -6,  5, -8,  8,  2,  7,  0])}\n"
     ]
    }
   ],
   "source": [
    "class Sensor():\n",
    "    def __init__(self, name, location, recordDate):\n",
    "        self.name = name\n",
    "        self.location = location\n",
    "        self.recordDate = recordDate\n",
    "        self.data = {}                                  #empty dictionary to store data\n",
    "\n",
    "    def addData(self, t, data):\n",
    "        self.data['time'] = t\n",
    "        self.data['data'] = data\n",
    "        print(f'We have{len(data)} points saved')\n",
    "\n",
    "    def clearData(self):\n",
    "        self.data = {}\n",
    "        print('Data Cleared!')\n",
    "\n",
    "import numpy as np\n",
    "\n",
    "sensor1 = Sensor('sensor1', 'Berkeley', '2021-01-01')\n",
    "data = np.random.randint(-10, 10, 10)\n",
    "sensor1.addData(np.arange(10), data)\n",
    "print(sensor1.data)"
   ]
  },
  {
   "cell_type": "code",
   "execution_count": 7,
   "metadata": {},
   "outputs": [
    {
     "name": "stdout",
     "output_type": "stream",
     "text": [
      "I am UCBAcc, created at UC Berkeley\n"
     ]
    }
   ],
   "source": [
    "#Inheritance\n",
    "class Accelerometer(Sensor):                    #we have class Sensor inside parantheses to inherit the attributes\n",
    "    def showType(self):                         #extending attribuutes by just defining a new function\n",
    "        print('I am an accelerometer')\n",
    "\n",
    "#Overriding\n",
    "class UCBAccelerometer(Accelerometer):\n",
    "    def showType(self):                         #overriding showType function from class Accelerometer\n",
    "        print(f'I am {self.name}, created at UC Berkeley')              #basically rewritng the showtype function       \n",
    "\n",
    "\n",
    "acc_UCB = UCBAccelerometer('UCBAcc', 'Berkeley', '2019-01-01')\n",
    "acc_UCB.showType()"
   ]
  },
  {
   "cell_type": "code",
   "execution_count": 9,
   "metadata": {},
   "outputs": [
    {
     "name": "stdout",
     "output_type": "stream",
     "text": [
      "ZYQ\n"
     ]
    }
   ],
   "source": [
    "#Overriding the Init function\n",
    "class NewSensor(Sensor):\n",
    "    def __init__(self, name, location, recordDate, brand):          #overriding the parent function by adding new attribute brand\n",
    "        self.name = name\n",
    "        self.location = location\n",
    "        self.recordDate = recordDate\n",
    "        self.brand = brand\n",
    "        self.data = {}    \n",
    "\n",
    "newSensor = NewSensor('OK', 'SF', '2020-01-01', 'ZYQ')\n",
    "print(newSensor.brand)\n",
    "\n",
    "\n",
    "#instead of rewriting the whole init function pass the data\n",
    "class NewSensor(Sensor):\n",
    "    def __init__(self, name, location, recordDate, brand):\n",
    "        super().__init__(name, location, recordDate)\n",
    "        self.brand = brand\n",
    "\n",
    "newSensor = NewSensor('OK', 'SF', '2020-01-01', 'PSD')\n",
    "print(newSensor.brand)"
   ]
  },
  {
   "cell_type": "code",
   "execution_count": 1,
   "metadata": {},
   "outputs": [
    {
     "name": "stdout",
     "output_type": "stream",
     "text": [
      "ACC\n",
      "The sensor version is 1.0\n",
      "The sensor version is 2.0\n"
     ]
    }
   ],
   "source": [
    "#Encapsulation\n",
    "class Sensor():\n",
    "    def __init__(self, name, location):\n",
    "        self.name = name\n",
    "        self.__location = location                  #double underscore makes the variable private\n",
    "        self.__version = '1.0'\n",
    "    \n",
    "    def getVersion(self):\n",
    "        print(f'The sensor version is {self.__version}')\n",
    "\n",
    "    def setVersion(self, version):\n",
    "        self.__version = version\n",
    "    \n",
    "\n",
    "sensor1 = Sensor('ACC', 'Berkeley')\n",
    "print(sensor1.name)\n",
    "#print(sensor1.__location)                              #wont come up because private\n",
    "#print(sensor1.__version)                               #wont come up because private\n",
    "\n",
    "#need to make getter and setter functions to access private attributes\n",
    "sensor1.getVersion()\n",
    "\n",
    "sensor1.setVersion('2.0')\n",
    "sensor1.getVersion()\n"
   ]
  },
  {
   "cell_type": "code",
   "execution_count": 4,
   "metadata": {},
   "outputs": [
    {
     "name": "stdout",
     "output_type": "stream",
     "text": [
      "10\n"
     ]
    }
   ],
   "source": [
    "#Private Variables\n",
    "\n",
    "class MyClass:\n",
    "\n",
    "    __hiddenVariable = 10\n",
    "\n",
    "\n",
    "myObject = MyClass()\n",
    "print(myObject._MyClass__hiddenVariable)                    #how to access private variables\n",
    "#print(myObject.__hiddenVariable)                           #this one doesn't work"
   ]
  },
  {
   "cell_type": "code",
   "execution_count": 6,
   "metadata": {},
   "outputs": [
    {
     "name": "stdout",
     "output_type": "stream",
     "text": [
      "I am Super Class 1\n",
      "I am Super Class 2\n",
      "I am derived\n",
      "SuperClass 1 SuperClass 2\n"
     ]
    }
   ],
   "source": [
    "#Multiple Inheritance\n",
    "\n",
    "class SuperClass1(object):                          #inheriting from object class, but its the same as blank parantheses or without parantheses\n",
    "    def __init__(self):                             #constructor 1\n",
    "        self.str1 = \"SuperClass 1\"\n",
    "        print(\"I am Super Class 1\")\n",
    "\n",
    "class SuperClass2(object):\n",
    "    def __init__(self):                             #constructor 2\n",
    "        self.str2 = \"SuperClass 2\"\n",
    "        print(\"I am Super Class 2\")\n",
    "\n",
    "class DerivedClass(SuperClass1, SuperClass2):       #inheriting from 2 classes\n",
    "    def __init__(self):\n",
    "        #calling 2 constructors from each class\n",
    "        SuperClass1.__init__(self)\n",
    "        SuperClass2.__init__(self)\n",
    "        print(\"I am derived\")\n",
    "    def printStrings(self):\n",
    "        print(self.str1, self.str2)\n",
    "\n",
    "\n",
    "#note that calling the derived class, runs the parent classes first\n",
    "object1 = DerivedClass()                            #instantiating\n",
    "object1.printStrings()\n",
    "    "
   ]
  },
  {
   "cell_type": "code",
   "execution_count": 11,
   "metadata": {},
   "outputs": [
    {
     "name": "stdout",
     "output_type": "stream",
     "text": [
      "10 20\n",
      "10 20\n"
     ]
    }
   ],
   "source": [
    "#Parent Members\n",
    "\n",
    "class Base(object):\n",
    "    def __init__(self,x):\n",
    "        self.x = x\n",
    "\n",
    "class DerivedClass(Base):\n",
    "    def __init__(self,x,y):\n",
    "        Base.x = x                      #accessing from parent class\n",
    "        self.y = y  \n",
    "    \n",
    "    def printXY(self):\n",
    "        print(Base.x, self.y)\n",
    "\n",
    "object1 = DerivedClass(10,20)\n",
    "object1.printXY()\n",
    "\n",
    "\n",
    "class Base2(object):\n",
    "    def __init__(self,x):\n",
    "        self.x = x\n",
    "\n",
    "class DerivedClass2(Base):\n",
    "    def __init__(self,x,y):\n",
    "        super(DerivedClass2, self).__init__(x)                      #accessing from parent class\n",
    "        self.y = y  \n",
    "    \n",
    "    def printXY(self):\n",
    "        print(self.x, self.y)               #need to use self.x, cant do super().x like Base.x\n",
    "\n",
    "object2 = DerivedClass2(10,20)\n",
    "object2.printXY()"
   ]
  },
  {
   "cell_type": "code",
   "execution_count": 13,
   "metadata": {},
   "outputs": [
    {
     "name": "stdout",
     "output_type": "stream",
     "text": [
      "True\n",
      "False\n",
      "False\n",
      "True\n"
     ]
    }
   ],
   "source": [
    "#Subclass and Instance\n",
    "\n",
    "#Empty classes\n",
    "class Base(object):\n",
    "    pass\n",
    "class DerivedClass(Base):\n",
    "    pass\n",
    "\n",
    "print(issubclass(DerivedClass, Base))\n",
    "print(issubclass(Base, DerivedClass))\n",
    "\n",
    "derivedObject = DerivedClass()\n",
    "baseObject = Base()\n",
    "\n",
    "#baseObject is not an instance of Derived Class\n",
    "print(isinstance(baseObject, DerivedClass))\n",
    "\n",
    "#derivedObject is an instance of Base Class, because it inherited???\n",
    "print(isinstance(derivedObject, Base))"
   ]
  },
  {
   "cell_type": "code",
   "execution_count": 15,
   "metadata": {},
   "outputs": [
    {
     "name": "stdout",
     "output_type": "stream",
     "text": [
      "From str method of Test: a is 1234, b is 5678\n",
      "[Test a:1234 b:5678]\n",
      "<__main__.Test object at 0x10c9c1ff0>\n",
      "[<__main__.Test object at 0x10c9c1ff0>]\n"
     ]
    }
   ],
   "source": [
    "#Printing an Object itself, instead of having a print code in a function\n",
    "#this can be used for printing radius or coordinates of a circle\n",
    "class Test:\n",
    "    def __init__(self,a,b):\n",
    "        self.a = a\n",
    "        self.b = b\n",
    "    \n",
    "    def __repr__(self):\n",
    "        return \"Test a:%s b:%s\" % (self.a, self.b)\n",
    "\n",
    "    def __str__(self):\n",
    "        return \"From str method of Test: a is %s, b is %s\" % (self.a, self.b)\n",
    "\n",
    "t = Test(1234, 5678)\n",
    "print(t)\n",
    "print([t])\n",
    "\n",
    "##if repr or str not defined, wont work\n",
    "class Test: \n",
    "    def __init__(self,a,b):\n",
    "        self.a = a\n",
    "        self.b = b\n",
    "\n",
    "t= Test(1234,5678)\n",
    "print(t)\n",
    "print([t])"
   ]
  },
  {
   "cell_type": "code",
   "execution_count": null,
   "metadata": {},
   "outputs": [],
   "source": []
  }
 ],
 "metadata": {
  "kernelspec": {
   "display_name": "Python 3.10.7 64-bit",
   "language": "python",
   "name": "python3"
  },
  "language_info": {
   "codemirror_mode": {
    "name": "ipython",
    "version": 3
   },
   "file_extension": ".py",
   "mimetype": "text/x-python",
   "name": "python",
   "nbconvert_exporter": "python",
   "pygments_lexer": "ipython3",
   "version": "3.10.7"
  },
  "orig_nbformat": 4,
  "vscode": {
   "interpreter": {
    "hash": "aee8b7b246df8f9039afb4144a1f6fd8d2ca17a180786b69acc140d282b71a49"
   }
  }
 },
 "nbformat": 4,
 "nbformat_minor": 2
}
