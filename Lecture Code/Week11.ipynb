{
 "cells": [
  {
   "cell_type": "code",
   "execution_count": 1,
   "metadata": {},
   "outputs": [
    {
     "name": "stdout",
     "output_type": "stream",
     "text": [
      "Greetings,Iron Man\n",
      "Iron Man\n",
      "35\n",
      "Greetings,Batman\n",
      "Batman\n",
      "33\n"
     ]
    }
   ],
   "source": [
    "class People():\n",
    "    def __init__(self, name, age):                  #init initializes the attributes\n",
    "                                                    #name and age are attributes\n",
    "        self.name = name                            \n",
    "        self.age = age\n",
    "    \n",
    "    def Greet(self):\n",
    "        print(\"Greetings,\" + self.name)             #note that we said self.name not just name\n",
    "\n",
    "person1 = People(name = 'Iron Man', age = 35)\n",
    "person1.Greet()\n",
    "print(person1.name)\n",
    "print(person1.age)\n",
    "\n",
    "person2 = People(name = 'Batman', age = 33)\n",
    "person2.Greet()\n",
    "print(person2.name)\n",
    "print(person2.age)\n"
   ]
  },
  {
   "cell_type": "code",
   "execution_count": 5,
   "metadata": {},
   "outputs": [
    {
     "name": "stdout",
     "output_type": "stream",
     "text": [
      "We have 1 - instances in total\n",
      "We have 2 - instances in total\n",
      "We have 2 - instances in total\n",
      "My name is Susan\n",
      "My name is Mike\n",
      "learning\n",
      "M\n",
      "My name is Susan\n",
      "My id is: 001\n",
      "My score is: 95\n",
      "My name is Mike\n",
      "My id is: 002\n",
      "My score is: 90\n"
     ]
    }
   ],
   "source": [
    "class Student():\n",
    "\n",
    "    nInstance = 0                               #keeps track of instances made\n",
    "                                                #this is a class attribute, defined without using self\n",
    "\n",
    "    def __init__(self, id, name, gender):\n",
    "        self.id = id\n",
    "        self.name = name\n",
    "        self.gender = gender\n",
    "        self.type = 'learning'\n",
    "\n",
    "        Student.nInstance +=1                    #doesnt use self because class attribute           \n",
    "    \n",
    "    def SayName(self):\n",
    "        print('My name is ' + self.name)\n",
    "\n",
    "    def Report(self, score):\n",
    "                                                #score is not an attribute, it is an input parameter, not that its not in the init function\n",
    "        self.SayName()\n",
    "        print('My id is: ' + self.id)\n",
    "        print('My score is: '+ str(score))\n",
    "    \n",
    "    def numInstances(self):\n",
    "        print(f'We have {Student.nInstance} - instances in total')\n",
    "\n",
    "    \n",
    "\n",
    "student1 = Student(\"001\", 'Susan', 'F')\n",
    "student1.numInstances()\n",
    "student2 = Student(\"002\", 'Mike', 'M')\n",
    "student1.numInstances()\n",
    "student2.numInstances()\n",
    "\n",
    "student1.SayName()\n",
    "student2.SayName()\n",
    "print(student1.type)\n",
    "print(student2.gender)\n",
    "\n",
    "student1.Report(95)\n",
    "student2.Report(90)\n",
    "\n"
   ]
  },
  {
   "cell_type": "code",
   "execution_count": 6,
   "metadata": {},
   "outputs": [
    {
     "name": "stdout",
     "output_type": "stream",
     "text": [
      "We have10 points saved\n",
      "{'time': array([0, 1, 2, 3, 4, 5, 6, 7, 8, 9]), 'data': array([ 2, -8,  9, -6,  5, -8,  8,  2,  7,  0])}\n"
     ]
    }
   ],
   "source": [
    "class Sensor():\n",
    "    def __init__(self, name, location, recordDate):\n",
    "        self.name = name\n",
    "        self.location = location\n",
    "        self.recordDate = recordDate\n",
    "        self.data = {}                                  #empty dictionary to store data\n",
    "\n",
    "    def addData(self, t, data):\n",
    "        self.data['time'] = t\n",
    "        self.data['data'] = data\n",
    "        print(f'We have{len(data)} points saved')\n",
    "\n",
    "    def clearData(self):\n",
    "        self.data = {}\n",
    "        print('Data Cleared!')\n",
    "\n",
    "import numpy as np\n",
    "\n",
    "sensor1 = Sensor('sensor1', 'Berkeley', '2021-01-01')\n",
    "data = np.random.randint(-10, 10, 10)\n",
    "sensor1.addData(np.arange(10), data)\n",
    "print(sensor1.data)"
   ]
  },
  {
   "cell_type": "code",
   "execution_count": 7,
   "metadata": {},
   "outputs": [
    {
     "name": "stdout",
     "output_type": "stream",
     "text": [
      "I am UCBAcc, created at UC Berkeley\n"
     ]
    }
   ],
   "source": [
    "#Inheritance\n",
    "class Accelerometer(Sensor):                    #we have class Sensor inside parantheses to inherit the attributes\n",
    "    def showType(self):                         #extending attribuutes by just defining a new function\n",
    "        print('I am an accelerometer')\n",
    "\n",
    "#Overriding\n",
    "class UCBAccelerometer(Accelerometer):\n",
    "    def showType(self):                         #overriding showType function from class Accelerometer\n",
    "        print(f'I am {self.name}, created at UC Berkeley')              #basically rewritng the showtype function       \n",
    "\n",
    "\n",
    "acc_UCB = UCBAccelerometer('UCBAcc', 'Berkeley', '2019-01-01')\n",
    "acc_UCB.showType()"
   ]
  },
  {
   "cell_type": "code",
   "execution_count": 9,
   "metadata": {},
   "outputs": [
    {
     "name": "stdout",
     "output_type": "stream",
     "text": [
      "ZYQ\n"
     ]
    }
   ],
   "source": [
    "#Overriding the Init function\n",
    "class NewSensor(Sensor):\n",
    "    def __init__(self, name, location, recordDate, brand):          #overriding the parent function by adding new attribute brand\n",
    "        self.name = name\n",
    "        self.location = location\n",
    "        self.recordDate = recordDate\n",
    "        self.brand = brand\n",
    "        self.data = {}    \n",
    "\n",
    "newSensor = NewSensor('OK', 'SF', '2020-01-01', 'ZYQ')\n",
    "print(newSensor.brand)\n",
    "\n",
    "\n",
    "#instead of rewriting the whole init function pass the data\n",
    "class NewSensor(Sensor):\n",
    "    def __init__(self, name, location, recordDate, brand):\n",
    "        super().__init__(name, location, recordDate)\n",
    "        self.brand = brand\n",
    "\n",
    "newSensor = NewSensor('OK', 'SF', '2020-01-01', 'PSD')\n",
    "print(newSensor.brand)"
   ]
  },
  {
   "cell_type": "code",
   "execution_count": 12,
   "metadata": {},
   "outputs": [
    {
     "name": "stdout",
     "output_type": "stream",
     "text": [
      "ACC\n",
      "The sensor version is 1.0\n",
      "The sensor version is 2.0\n"
     ]
    }
   ],
   "source": [
    "#Encapsulation\n",
    "class Sensor():\n",
    "    def __init__(self, name, location):\n",
    "        self.name = name\n",
    "        self.__location = location                  #double underscore makes the variable private\n",
    "        self.__version = '1.0'\n",
    "    \n",
    "    def getVersion(self):\n",
    "        print(f'The sensor version is {self.__version}')\n",
    "\n",
    "    def setVersion(self, version):\n",
    "        self.__version = version\n",
    "    \n",
    "\n",
    "sensor1 = Sensor('ACC', 'Berkeley')\n",
    "print(sensor1.name)\n",
    "#print(sensor1.__location)                              #wont come up because private\n",
    "#print(sensor1.__version)                               #wont come up because private\n",
    "\n",
    "#need to make getter and setter functions to access private attributes\n",
    "sensor1.getVersion()\n",
    "\n",
    "sensor1.setVersion('2.0')\n",
    "sensor1.getVersion()\n"
   ]
  }
 ],
 "metadata": {
  "kernelspec": {
   "display_name": "Python 3.10.7 64-bit",
   "language": "python",
   "name": "python3"
  },
  "language_info": {
   "codemirror_mode": {
    "name": "ipython",
    "version": 3
   },
   "file_extension": ".py",
   "mimetype": "text/x-python",
   "name": "python",
   "nbconvert_exporter": "python",
   "pygments_lexer": "ipython3",
   "version": "3.10.7"
  },
  "orig_nbformat": 4,
  "vscode": {
   "interpreter": {
    "hash": "aee8b7b246df8f9039afb4144a1f6fd8d2ca17a180786b69acc140d282b71a49"
   }
  }
 },
 "nbformat": 4,
 "nbformat_minor": 2
}
